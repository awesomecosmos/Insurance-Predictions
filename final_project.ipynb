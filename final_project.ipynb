{
  "cells": [
    {
      "cell_type": "markdown",
      "metadata": {
        "id": "RgLIOmHj2paw"
      },
      "source": [
        "# CS677 Machine Learning Final Project\n",
        "## Insurance Cost Per Family\n",
        "\n",
        "by Kelsey Woods and Aayushi Verma"
      ]
    },
    {
      "cell_type": "markdown",
      "metadata": {
        "id": "phmkYK6O2pa2"
      },
      "source": [
        "We are using a dataset titled [Medical Cost Personal Dataset](https://www.kaggle.com/datasets/mirichoi0218/insurance?resource=download) by Kaggle. It lists the medical insurance costs per family and its possibly associated factors."
      ]
    },
    {
      "cell_type": "code",
      "execution_count": 1,
      "metadata": {
        "id": "AyXWXWBd2pa2"
      },
      "outputs": [],
      "source": [
        "# importing packages\n",
        "import numpy as np\n",
        "import pandas as pd\n",
        "import seaborn as sns\n",
        "import matplotlib.pyplot as plt\n",
        "from sklearn.model_selection import train_test_split, GridSearchCV, cross_val_score\n",
        "from sklearn.metrics import mean_squared_error, mean_absolute_error, r2_score\n",
        "from sklearn.linear_model import LinearRegression, Ridge, Lasso\n",
        "from sklearn.svm import SVR\n",
        "from sklearn.tree import DecisionTreeRegressor\n",
        "from sklearn.ensemble import GradientBoostingRegressor, RandomForestRegressor"
      ]
    },
    {
      "cell_type": "markdown",
      "metadata": {
        "id": "QiCWXMLl_2zJ"
      },
      "source": [
        "### Preparation & EDA\n",
        "\n",
        "We start by performing Exploratory Data Analysis and cleaning on this dataset to prepare for the machine learning process."
      ]
    },
    {
      "cell_type": "code",
      "execution_count": 2,
      "metadata": {
        "id": "CrwyXNd32pa4"
      },
      "outputs": [],
      "source": [
        "# reading data\n",
        "df = pd.read_csv('data/insurance.csv')"
      ]
    },
    {
      "cell_type": "code",
      "execution_count": 3,
      "metadata": {
        "colab": {
          "base_uri": "https://localhost:8080/",
          "height": 990
        },
        "id": "3Dh_etkG2pa5",
        "outputId": "44497599-2cc5-4369-e439-0792270d185f"
      },
      "outputs": [
        {
          "data": {
            "text/html": [
              "<div>\n",
              "<style scoped>\n",
              "    .dataframe tbody tr th:only-of-type {\n",
              "        vertical-align: middle;\n",
              "    }\n",
              "\n",
              "    .dataframe tbody tr th {\n",
              "        vertical-align: top;\n",
              "    }\n",
              "\n",
              "    .dataframe thead th {\n",
              "        text-align: right;\n",
              "    }\n",
              "</style>\n",
              "<table border=\"1\" class=\"dataframe\">\n",
              "  <thead>\n",
              "    <tr style=\"text-align: right;\">\n",
              "      <th></th>\n",
              "      <th>age</th>\n",
              "      <th>sex</th>\n",
              "      <th>bmi</th>\n",
              "      <th>children</th>\n",
              "      <th>smoker</th>\n",
              "      <th>region</th>\n",
              "      <th>charges</th>\n",
              "    </tr>\n",
              "  </thead>\n",
              "  <tbody>\n",
              "    <tr>\n",
              "      <th>0</th>\n",
              "      <td>19</td>\n",
              "      <td>female</td>\n",
              "      <td>27.900</td>\n",
              "      <td>0</td>\n",
              "      <td>yes</td>\n",
              "      <td>southwest</td>\n",
              "      <td>16884.92400</td>\n",
              "    </tr>\n",
              "    <tr>\n",
              "      <th>1</th>\n",
              "      <td>18</td>\n",
              "      <td>male</td>\n",
              "      <td>33.770</td>\n",
              "      <td>1</td>\n",
              "      <td>no</td>\n",
              "      <td>southeast</td>\n",
              "      <td>1725.55230</td>\n",
              "    </tr>\n",
              "    <tr>\n",
              "      <th>2</th>\n",
              "      <td>28</td>\n",
              "      <td>male</td>\n",
              "      <td>33.000</td>\n",
              "      <td>3</td>\n",
              "      <td>no</td>\n",
              "      <td>southeast</td>\n",
              "      <td>4449.46200</td>\n",
              "    </tr>\n",
              "    <tr>\n",
              "      <th>3</th>\n",
              "      <td>33</td>\n",
              "      <td>male</td>\n",
              "      <td>22.705</td>\n",
              "      <td>0</td>\n",
              "      <td>no</td>\n",
              "      <td>northwest</td>\n",
              "      <td>21984.47061</td>\n",
              "    </tr>\n",
              "    <tr>\n",
              "      <th>4</th>\n",
              "      <td>32</td>\n",
              "      <td>male</td>\n",
              "      <td>28.880</td>\n",
              "      <td>0</td>\n",
              "      <td>no</td>\n",
              "      <td>northwest</td>\n",
              "      <td>3866.85520</td>\n",
              "    </tr>\n",
              "  </tbody>\n",
              "</table>\n",
              "</div>"
            ],
            "text/plain": [
              "   age     sex     bmi  children smoker     region      charges\n",
              "0   19  female  27.900         0    yes  southwest  16884.92400\n",
              "1   18    male  33.770         1     no  southeast   1725.55230\n",
              "2   28    male  33.000         3     no  southeast   4449.46200\n",
              "3   33    male  22.705         0     no  northwest  21984.47061\n",
              "4   32    male  28.880         0     no  northwest   3866.85520"
            ]
          },
          "execution_count": 3,
          "metadata": {},
          "output_type": "execute_result"
        }
      ],
      "source": [
        "# checking data structure\n",
        "df.head()"
      ]
    },
    {
      "cell_type": "code",
      "execution_count": 4,
      "metadata": {
        "colab": {
          "base_uri": "https://localhost:8080/"
        },
        "id": "ILARcCgG2pa6",
        "outputId": "6bae2fb7-252c-42fc-9d4b-c44bdbe80bd0"
      },
      "outputs": [
        {
          "name": "stdout",
          "output_type": "stream",
          "text": [
            "<class 'pandas.core.frame.DataFrame'>\n",
            "RangeIndex: 1338 entries, 0 to 1337\n",
            "Data columns (total 7 columns):\n",
            " #   Column    Non-Null Count  Dtype  \n",
            "---  ------    --------------  -----  \n",
            " 0   age       1338 non-null   int64  \n",
            " 1   sex       1338 non-null   object \n",
            " 2   bmi       1338 non-null   float64\n",
            " 3   children  1338 non-null   int64  \n",
            " 4   smoker    1338 non-null   object \n",
            " 5   region    1338 non-null   object \n",
            " 6   charges   1338 non-null   float64\n",
            "dtypes: float64(2), int64(2), object(3)\n",
            "memory usage: 73.3+ KB\n"
          ]
        }
      ],
      "source": [
        "# checking data content\n",
        "df.info()"
      ]
    },
    {
      "cell_type": "code",
      "execution_count": 5,
      "metadata": {
        "id": "cjbOD5O-zCCe"
      },
      "outputs": [],
      "source": [
        "for col in df.columns:\n",
        "    df.loc[df[col] == \"yes\", col] = 1\n",
        "    df.loc[df[col] == \"no\", col] = 0\n",
        "    df.loc[df[col] == \"female\", col] = 1\n",
        "    df.loc[df[col] == \"male\", col] = 0\n",
        "    df.loc[df[col] == \"southwest\", col] = 1\n",
        "    df.loc[df[col] == \"northwest\", col] = 2\n",
        "    df.loc[df[col] == \"southeast\", col] = 3\n",
        "    df.loc[df[col] == \"northeast\", col] = 4"
      ]
    },
    {
      "cell_type": "code",
      "execution_count": 6,
      "metadata": {
        "colab": {
          "base_uri": "https://localhost:8080/",
          "height": 676
        },
        "id": "l9ueeA3paqrH",
        "outputId": "b2eece78-14a1-4460-f230-32d7b70f01e9"
      },
      "outputs": [
        {
          "data": {
            "text/html": [
              "<div>\n",
              "<style scoped>\n",
              "    .dataframe tbody tr th:only-of-type {\n",
              "        vertical-align: middle;\n",
              "    }\n",
              "\n",
              "    .dataframe tbody tr th {\n",
              "        vertical-align: top;\n",
              "    }\n",
              "\n",
              "    .dataframe thead th {\n",
              "        text-align: right;\n",
              "    }\n",
              "</style>\n",
              "<table border=\"1\" class=\"dataframe\">\n",
              "  <thead>\n",
              "    <tr style=\"text-align: right;\">\n",
              "      <th></th>\n",
              "      <th>age</th>\n",
              "      <th>sex</th>\n",
              "      <th>bmi</th>\n",
              "      <th>children</th>\n",
              "      <th>smoker</th>\n",
              "      <th>region</th>\n",
              "      <th>charges</th>\n",
              "    </tr>\n",
              "  </thead>\n",
              "  <tbody>\n",
              "    <tr>\n",
              "      <th>0</th>\n",
              "      <td>19</td>\n",
              "      <td>1</td>\n",
              "      <td>27.900</td>\n",
              "      <td>0</td>\n",
              "      <td>1</td>\n",
              "      <td>1</td>\n",
              "      <td>16884.92400</td>\n",
              "    </tr>\n",
              "    <tr>\n",
              "      <th>1</th>\n",
              "      <td>18</td>\n",
              "      <td>0</td>\n",
              "      <td>33.770</td>\n",
              "      <td>1</td>\n",
              "      <td>0</td>\n",
              "      <td>3</td>\n",
              "      <td>1725.55230</td>\n",
              "    </tr>\n",
              "    <tr>\n",
              "      <th>2</th>\n",
              "      <td>28</td>\n",
              "      <td>0</td>\n",
              "      <td>33.000</td>\n",
              "      <td>3</td>\n",
              "      <td>0</td>\n",
              "      <td>3</td>\n",
              "      <td>4449.46200</td>\n",
              "    </tr>\n",
              "    <tr>\n",
              "      <th>3</th>\n",
              "      <td>33</td>\n",
              "      <td>0</td>\n",
              "      <td>22.705</td>\n",
              "      <td>0</td>\n",
              "      <td>0</td>\n",
              "      <td>2</td>\n",
              "      <td>21984.47061</td>\n",
              "    </tr>\n",
              "    <tr>\n",
              "      <th>4</th>\n",
              "      <td>32</td>\n",
              "      <td>0</td>\n",
              "      <td>28.880</td>\n",
              "      <td>0</td>\n",
              "      <td>0</td>\n",
              "      <td>2</td>\n",
              "      <td>3866.85520</td>\n",
              "    </tr>\n",
              "  </tbody>\n",
              "</table>\n",
              "</div>"
            ],
            "text/plain": [
              "   age sex     bmi  children smoker region      charges\n",
              "0   19   1  27.900         0      1      1  16884.92400\n",
              "1   18   0  33.770         1      0      3   1725.55230\n",
              "2   28   0  33.000         3      0      3   4449.46200\n",
              "3   33   0  22.705         0      0      2  21984.47061\n",
              "4   32   0  28.880         0      0      2   3866.85520"
            ]
          },
          "execution_count": 6,
          "metadata": {},
          "output_type": "execute_result"
        }
      ],
      "source": [
        "df.head()"
      ]
    },
    {
      "cell_type": "code",
      "execution_count": 7,
      "metadata": {
        "colab": {
          "base_uri": "https://localhost:8080/"
        },
        "id": "e5IqwBi0cTid",
        "outputId": "f914ece6-71c5-4f44-93ed-3eca5a87e343"
      },
      "outputs": [
        {
          "data": {
            "text/plain": [
              "(1338, 7)"
            ]
          },
          "execution_count": 7,
          "metadata": {},
          "output_type": "execute_result"
        }
      ],
      "source": [
        "df.shape"
      ]
    },
    {
      "cell_type": "code",
      "execution_count": 8,
      "metadata": {
        "id": "CsFczWIjcfBn"
      },
      "outputs": [],
      "source": [
        "df[['sex']] = df[['sex']].apply(pd.to_numeric, errors='coerce')\n",
        "df[['smoker']] = df[['smoker']].apply(pd.to_numeric, errors='coerce')\n",
        "df[['region']] = df[['region']].apply(pd.to_numeric, errors='coerce')"
      ]
    },
    {
      "cell_type": "code",
      "execution_count": 9,
      "metadata": {
        "colab": {
          "base_uri": "https://localhost:8080/"
        },
        "id": "3-kPfHpbcnjb",
        "outputId": "2dd50695-f6ce-4825-b1ea-a4209ae2498c"
      },
      "outputs": [
        {
          "name": "stdout",
          "output_type": "stream",
          "text": [
            "<class 'pandas.core.frame.DataFrame'>\n",
            "RangeIndex: 1338 entries, 0 to 1337\n",
            "Data columns (total 7 columns):\n",
            " #   Column    Non-Null Count  Dtype  \n",
            "---  ------    --------------  -----  \n",
            " 0   age       1338 non-null   int64  \n",
            " 1   sex       1338 non-null   int64  \n",
            " 2   bmi       1338 non-null   float64\n",
            " 3   children  1338 non-null   int64  \n",
            " 4   smoker    1338 non-null   int64  \n",
            " 5   region    1338 non-null   int64  \n",
            " 6   charges   1338 non-null   float64\n",
            "dtypes: float64(2), int64(5)\n",
            "memory usage: 73.3 KB\n"
          ]
        }
      ],
      "source": [
        "df.info()"
      ]
    },
    {
      "cell_type": "code",
      "execution_count": 10,
      "metadata": {
        "colab": {
          "base_uri": "https://localhost:8080/",
          "height": 423
        },
        "id": "UfcaXVUv2pa7",
        "outputId": "d77b3133-c520-4d1f-9860-c0b7886a09f0"
      },
      "outputs": [
        {
          "data": {
            "text/html": [
              "<div>\n",
              "<style scoped>\n",
              "    .dataframe tbody tr th:only-of-type {\n",
              "        vertical-align: middle;\n",
              "    }\n",
              "\n",
              "    .dataframe tbody tr th {\n",
              "        vertical-align: top;\n",
              "    }\n",
              "\n",
              "    .dataframe thead th {\n",
              "        text-align: right;\n",
              "    }\n",
              "</style>\n",
              "<table border=\"1\" class=\"dataframe\">\n",
              "  <thead>\n",
              "    <tr style=\"text-align: right;\">\n",
              "      <th></th>\n",
              "      <th>age</th>\n",
              "      <th>sex</th>\n",
              "      <th>bmi</th>\n",
              "      <th>children</th>\n",
              "      <th>smoker</th>\n",
              "      <th>region</th>\n",
              "      <th>charges</th>\n",
              "    </tr>\n",
              "  </thead>\n",
              "  <tbody>\n",
              "    <tr>\n",
              "      <th>0</th>\n",
              "      <td>19</td>\n",
              "      <td>1</td>\n",
              "      <td>27.900</td>\n",
              "      <td>0</td>\n",
              "      <td>1</td>\n",
              "      <td>1</td>\n",
              "      <td>16884.92400</td>\n",
              "    </tr>\n",
              "    <tr>\n",
              "      <th>1</th>\n",
              "      <td>18</td>\n",
              "      <td>0</td>\n",
              "      <td>33.770</td>\n",
              "      <td>1</td>\n",
              "      <td>0</td>\n",
              "      <td>3</td>\n",
              "      <td>1725.55230</td>\n",
              "    </tr>\n",
              "    <tr>\n",
              "      <th>2</th>\n",
              "      <td>28</td>\n",
              "      <td>0</td>\n",
              "      <td>33.000</td>\n",
              "      <td>3</td>\n",
              "      <td>0</td>\n",
              "      <td>3</td>\n",
              "      <td>4449.46200</td>\n",
              "    </tr>\n",
              "    <tr>\n",
              "      <th>3</th>\n",
              "      <td>33</td>\n",
              "      <td>0</td>\n",
              "      <td>22.705</td>\n",
              "      <td>0</td>\n",
              "      <td>0</td>\n",
              "      <td>2</td>\n",
              "      <td>21984.47061</td>\n",
              "    </tr>\n",
              "    <tr>\n",
              "      <th>4</th>\n",
              "      <td>32</td>\n",
              "      <td>0</td>\n",
              "      <td>28.880</td>\n",
              "      <td>0</td>\n",
              "      <td>0</td>\n",
              "      <td>2</td>\n",
              "      <td>3866.85520</td>\n",
              "    </tr>\n",
              "    <tr>\n",
              "      <th>...</th>\n",
              "      <td>...</td>\n",
              "      <td>...</td>\n",
              "      <td>...</td>\n",
              "      <td>...</td>\n",
              "      <td>...</td>\n",
              "      <td>...</td>\n",
              "      <td>...</td>\n",
              "    </tr>\n",
              "    <tr>\n",
              "      <th>1333</th>\n",
              "      <td>50</td>\n",
              "      <td>0</td>\n",
              "      <td>30.970</td>\n",
              "      <td>3</td>\n",
              "      <td>0</td>\n",
              "      <td>2</td>\n",
              "      <td>10600.54830</td>\n",
              "    </tr>\n",
              "    <tr>\n",
              "      <th>1334</th>\n",
              "      <td>18</td>\n",
              "      <td>1</td>\n",
              "      <td>31.920</td>\n",
              "      <td>0</td>\n",
              "      <td>0</td>\n",
              "      <td>4</td>\n",
              "      <td>2205.98080</td>\n",
              "    </tr>\n",
              "    <tr>\n",
              "      <th>1335</th>\n",
              "      <td>18</td>\n",
              "      <td>1</td>\n",
              "      <td>36.850</td>\n",
              "      <td>0</td>\n",
              "      <td>0</td>\n",
              "      <td>3</td>\n",
              "      <td>1629.83350</td>\n",
              "    </tr>\n",
              "    <tr>\n",
              "      <th>1336</th>\n",
              "      <td>21</td>\n",
              "      <td>1</td>\n",
              "      <td>25.800</td>\n",
              "      <td>0</td>\n",
              "      <td>0</td>\n",
              "      <td>1</td>\n",
              "      <td>2007.94500</td>\n",
              "    </tr>\n",
              "    <tr>\n",
              "      <th>1337</th>\n",
              "      <td>61</td>\n",
              "      <td>1</td>\n",
              "      <td>29.070</td>\n",
              "      <td>0</td>\n",
              "      <td>1</td>\n",
              "      <td>2</td>\n",
              "      <td>29141.36030</td>\n",
              "    </tr>\n",
              "  </tbody>\n",
              "</table>\n",
              "<p>1338 rows × 7 columns</p>\n",
              "</div>"
            ],
            "text/plain": [
              "      age  sex     bmi  children  smoker  region      charges\n",
              "0      19    1  27.900         0       1       1  16884.92400\n",
              "1      18    0  33.770         1       0       3   1725.55230\n",
              "2      28    0  33.000         3       0       3   4449.46200\n",
              "3      33    0  22.705         0       0       2  21984.47061\n",
              "4      32    0  28.880         0       0       2   3866.85520\n",
              "...   ...  ...     ...       ...     ...     ...          ...\n",
              "1333   50    0  30.970         3       0       2  10600.54830\n",
              "1334   18    1  31.920         0       0       4   2205.98080\n",
              "1335   18    1  36.850         0       0       3   1629.83350\n",
              "1336   21    1  25.800         0       0       1   2007.94500\n",
              "1337   61    1  29.070         0       1       2  29141.36030\n",
              "\n",
              "[1338 rows x 7 columns]"
            ]
          },
          "execution_count": 10,
          "metadata": {},
          "output_type": "execute_result"
        }
      ],
      "source": [
        "df.fillna(df.mean())"
      ]
    },
    {
      "cell_type": "code",
      "execution_count": 11,
      "metadata": {
        "colab": {
          "base_uri": "https://localhost:8080/"
        },
        "id": "D6QvLQIFw1YU",
        "outputId": "3a7fc32a-a02a-4dac-a450-ce4cf33bfca1"
      },
      "outputs": [
        {
          "name": "stdout",
          "output_type": "stream",
          "text": [
            "Original DataFrame shape: (1338, 7)\n",
            "DataFrame shape after dropping all duplicates: (1337, 7)\n",
            "DataFrame shape after dropping duplicates based on specific columns: (1337, 7)\n"
          ]
        }
      ],
      "source": [
        "# Drop duplicates based on all columns\n",
        "df_no_duplicates = df.drop_duplicates()\n",
        "\n",
        "# Drop duplicates based on specific columns\n",
        "columns_to_check = ['bmi', 'charges']  # Replace with the column names you want to consider\n",
        "df_no_duplicates_specific = df.drop_duplicates(subset=columns_to_check)\n",
        "\n",
        "# Print the shape of the resulting DataFrames\n",
        "print(\"Original DataFrame shape:\", df.shape)\n",
        "print(\"DataFrame shape after dropping all duplicates:\", df_no_duplicates.shape)\n",
        "print(\"DataFrame shape after dropping duplicates based on specific columns:\", df_no_duplicates_specific.shape)\n"
      ]
    },
    {
      "cell_type": "code",
      "execution_count": 12,
      "metadata": {
        "colab": {
          "base_uri": "https://localhost:8080/",
          "height": 452
        },
        "id": "KjuLIVHh2pa7",
        "outputId": "f8c50be2-3fff-4805-a356-6f58ff3afbb8"
      },
      "outputs": [
        {
          "data": {
            "text/plain": [
              "<Axes: >"
            ]
          },
          "execution_count": 12,
          "metadata": {},
          "output_type": "execute_result"
        },
        {
          "data": {
            "image/png": "[encoded data removed]",
            "text/plain": [
              "<Figure size 640x480 with 2 Axes>"
            ]
          },
          "metadata": {},
          "output_type": "display_data"
        }
      ],
      "source": [
        "# performing label encoding of data and displaying correlation matrix\n",
        "df_e = pd.get_dummies(df)\n",
        "corrMatrix_e = df_e.corr()\n",
        "sns.heatmap(corrMatrix_e, annot=True)"
      ]
    },
    {
      "cell_type": "code",
      "execution_count": 13,
      "metadata": {
        "colab": {
          "base_uri": "https://localhost:8080/",
          "height": 206
        },
        "id": "1A4QU1LZ2pa-",
        "outputId": "ba7ab9e6-0847-409c-e060-f169876f1869"
      },
      "outputs": [
        {
          "data": {
            "text/html": [
              "<div>\n",
              "<style scoped>\n",
              "    .dataframe tbody tr th:only-of-type {\n",
              "        vertical-align: middle;\n",
              "    }\n",
              "\n",
              "    .dataframe tbody tr th {\n",
              "        vertical-align: top;\n",
              "    }\n",
              "\n",
              "    .dataframe thead th {\n",
              "        text-align: right;\n",
              "    }\n",
              "</style>\n",
              "<table border=\"1\" class=\"dataframe\">\n",
              "  <thead>\n",
              "    <tr style=\"text-align: right;\">\n",
              "      <th></th>\n",
              "      <th>age</th>\n",
              "      <th>sex</th>\n",
              "      <th>bmi</th>\n",
              "      <th>children</th>\n",
              "      <th>smoker</th>\n",
              "      <th>region</th>\n",
              "      <th>charges</th>\n",
              "    </tr>\n",
              "  </thead>\n",
              "  <tbody>\n",
              "    <tr>\n",
              "      <th>0</th>\n",
              "      <td>19</td>\n",
              "      <td>1</td>\n",
              "      <td>27.900</td>\n",
              "      <td>0</td>\n",
              "      <td>1</td>\n",
              "      <td>1</td>\n",
              "      <td>16884.92400</td>\n",
              "    </tr>\n",
              "    <tr>\n",
              "      <th>1</th>\n",
              "      <td>18</td>\n",
              "      <td>0</td>\n",
              "      <td>33.770</td>\n",
              "      <td>1</td>\n",
              "      <td>0</td>\n",
              "      <td>3</td>\n",
              "      <td>1725.55230</td>\n",
              "    </tr>\n",
              "    <tr>\n",
              "      <th>2</th>\n",
              "      <td>28</td>\n",
              "      <td>0</td>\n",
              "      <td>33.000</td>\n",
              "      <td>3</td>\n",
              "      <td>0</td>\n",
              "      <td>3</td>\n",
              "      <td>4449.46200</td>\n",
              "    </tr>\n",
              "    <tr>\n",
              "      <th>3</th>\n",
              "      <td>33</td>\n",
              "      <td>0</td>\n",
              "      <td>22.705</td>\n",
              "      <td>0</td>\n",
              "      <td>0</td>\n",
              "      <td>2</td>\n",
              "      <td>21984.47061</td>\n",
              "    </tr>\n",
              "    <tr>\n",
              "      <th>4</th>\n",
              "      <td>32</td>\n",
              "      <td>0</td>\n",
              "      <td>28.880</td>\n",
              "      <td>0</td>\n",
              "      <td>0</td>\n",
              "      <td>2</td>\n",
              "      <td>3866.85520</td>\n",
              "    </tr>\n",
              "  </tbody>\n",
              "</table>\n",
              "</div>"
            ],
            "text/plain": [
              "   age  sex     bmi  children  smoker  region      charges\n",
              "0   19    1  27.900         0       1       1  16884.92400\n",
              "1   18    0  33.770         1       0       3   1725.55230\n",
              "2   28    0  33.000         3       0       3   4449.46200\n",
              "3   33    0  22.705         0       0       2  21984.47061\n",
              "4   32    0  28.880         0       0       2   3866.85520"
            ]
          },
          "execution_count": 13,
          "metadata": {},
          "output_type": "execute_result"
        }
      ],
      "source": [
        "# checking data structure again\n",
        "df.head()"
      ]
    },
    {
      "cell_type": "code",
      "execution_count": 14,
      "metadata": {
        "colab": {
          "base_uri": "https://localhost:8080/"
        },
        "id": "9J2G0tcJzPQr",
        "outputId": "b2dfafdb-2dc1-4756-ab2f-4d8d6ec21af0"
      },
      "outputs": [
        {
          "name": "stdout",
          "output_type": "stream",
          "text": [
            "<class 'pandas.core.frame.DataFrame'>\n",
            "RangeIndex: 1338 entries, 0 to 1337\n",
            "Data columns (total 7 columns):\n",
            " #   Column    Non-Null Count  Dtype  \n",
            "---  ------    --------------  -----  \n",
            " 0   age       1338 non-null   int64  \n",
            " 1   sex       1338 non-null   int64  \n",
            " 2   bmi       1338 non-null   float64\n",
            " 3   children  1338 non-null   int64  \n",
            " 4   smoker    1338 non-null   int64  \n",
            " 5   region    1338 non-null   int64  \n",
            " 6   charges   1338 non-null   float64\n",
            "dtypes: float64(2), int64(5)\n",
            "memory usage: 73.3 KB\n"
          ]
        }
      ],
      "source": [
        "df.info()"
      ]
    },
    {
      "cell_type": "code",
      "execution_count": 15,
      "metadata": {
        "colab": {
          "base_uri": "https://localhost:8080/",
          "height": 489
        },
        "id": "2rpWP3oU2pa-",
        "outputId": "c748d25f-574a-4207-9f7b-ba76cee2b878"
      },
      "outputs": [
        {
          "data": {
            "text/plain": [
              "Text(0.5, 0, 'Total cost ($)')"
            ]
          },
          "execution_count": 15,
          "metadata": {},
          "output_type": "execute_result"
        },
        {
          "data": {
            "image/png": "[encoded data removed]",
            "text/plain": [
              "<Figure size 640x480 with 1 Axes>"
            ]
          },
          "metadata": {},
          "output_type": "display_data"
        }
      ],
      "source": [
        "# EDA for one column\n",
        "sns.histplot(df['charges'], bins=25)\n",
        "plt.title('Histogram of Insurance Charges')\n",
        "plt.xlabel('Total cost ($)')"
      ]
    },
    {
      "cell_type": "code",
      "execution_count": 16,
      "metadata": {},
      "outputs": [
        {
          "data": {
            "text/plain": [
              "Text(0.5, 0, 'Total cost ($)')"
            ]
          },
          "execution_count": 16,
          "metadata": {},
          "output_type": "execute_result"
        },
        {
          "data": {
            "image/png": "[encoded data removed]",
            "text/plain": [
              "<Figure size 640x480 with 1 Axes>"
            ]
          },
          "metadata": {},
          "output_type": "display_data"
        }
      ],
      "source": [
        "sns.boxplot(x = df['charges'])\n",
        "plt.title('Distribution of Insurance Charges')\n",
        "plt.xlabel('Total cost ($)')"
      ]
    },
    {
      "cell_type": "code",
      "execution_count": 17,
      "metadata": {
        "colab": {
          "base_uri": "https://localhost:8080/",
          "height": 489
        },
        "id": "nTGqXyFF2pa-",
        "outputId": "bfa7d763-eb21-476d-bab1-6aa4fa6a262d"
      },
      "outputs": [
        {
          "data": {
            "text/plain": [
              "Text(0.5, 0, 'BMI')"
            ]
          },
          "execution_count": 17,
          "metadata": {},
          "output_type": "execute_result"
        },
        {
          "data": {
            "image/png": "[encoded data removed]",
            "text/plain": [
              "<Figure size 640x480 with 1 Axes>"
            ]
          },
          "metadata": {},
          "output_type": "display_data"
        }
      ],
      "source": [
        "# EDA for another column\n",
        "sns.histplot(df['bmi'], bins=25)\n",
        "plt.title('Histogram of BMI')\n",
        "plt.xlabel('BMI')"
      ]
    },
    {
      "cell_type": "code",
      "execution_count": 18,
      "metadata": {},
      "outputs": [
        {
          "data": {
            "text/plain": [
              "Text(0.5, 0, 'BMI')"
            ]
          },
          "execution_count": 18,
          "metadata": {},
          "output_type": "execute_result"
        },
        {
          "data": {
            "image/png": "[encoded data removed]",
            "text/plain": [
              "<Figure size 640x480 with 1 Axes>"
            ]
          },
          "metadata": {},
          "output_type": "display_data"
        }
      ],
      "source": [
        "sns.boxplot(x = df['bmi'])\n",
        "plt.title('Distribution of BMI')\n",
        "plt.xlabel('BMI')"
      ]
    },
    {
      "cell_type": "code",
      "execution_count": 19,
      "metadata": {
        "colab": {
          "base_uri": "https://localhost:8080/",
          "height": 489
        },
        "id": "Lxfo8jsk2pa_",
        "outputId": "9c6e01a1-5240-403a-d02f-73de7c05165f"
      },
      "outputs": [
        {
          "data": {
            "text/plain": [
              "Text(0, 0.5, 'Total cost ($)')"
            ]
          },
          "execution_count": 19,
          "metadata": {},
          "output_type": "execute_result"
        },
        {
          "data": {
            "image/png": "[encoded data removed]",
            "text/plain": [
              "<Figure size 640x480 with 1 Axes>"
            ]
          },
          "metadata": {},
          "output_type": "display_data"
        }
      ],
      "source": [
        "# scatterplot time!\n",
        "sns.scatterplot(x='bmi', y='charges', data=df)\n",
        "plt.title('BMI vs Charges for Insurance')\n",
        "plt.xlabel('BMI')\n",
        "plt.ylabel('Total cost ($)')"
      ]
    },
    {
      "cell_type": "markdown",
      "metadata": {
        "id": "Id83c0qO2pbA"
      },
      "source": [
        "### Machine Learning\n",
        "\n",
        "Now we perform machine learning on our cleaned dataset."
      ]
    },
    {
      "cell_type": "code",
      "execution_count": 20,
      "metadata": {
        "id": "k81JnPmxvu2X"
      },
      "outputs": [],
      "source": [
        "X = df.drop('charges', axis=1)\n",
        "y = df['charges']"
      ]
    },
    {
      "cell_type": "code",
      "execution_count": 21,
      "metadata": {
        "colab": {
          "base_uri": "https://localhost:8080/"
        },
        "id": "JLarQnG80f-3",
        "outputId": "a1c74634-1e04-4612-d7e4-efb5dfc4eee7"
      },
      "outputs": [
        {
          "name": "stdout",
          "output_type": "stream",
          "text": [
            "<class 'pandas.core.frame.DataFrame'>\n",
            "RangeIndex: 1338 entries, 0 to 1337\n",
            "Data columns (total 7 columns):\n",
            " #   Column    Non-Null Count  Dtype  \n",
            "---  ------    --------------  -----  \n",
            " 0   age       1338 non-null   int64  \n",
            " 1   sex       1338 non-null   int64  \n",
            " 2   bmi       1338 non-null   float64\n",
            " 3   children  1338 non-null   int64  \n",
            " 4   smoker    1338 non-null   int64  \n",
            " 5   region    1338 non-null   int64  \n",
            " 6   charges   1338 non-null   float64\n",
            "dtypes: float64(2), int64(5)\n",
            "memory usage: 73.3 KB\n"
          ]
        }
      ],
      "source": [
        "df.info()"
      ]
    },
    {
      "cell_type": "code",
      "execution_count": 22,
      "metadata": {
        "colab": {
          "base_uri": "https://localhost:8080/"
        },
        "id": "1Uaales20kyH",
        "outputId": "4da039db-f92a-4de3-de02-47ebb8b87803"
      },
      "outputs": [
        {
          "name": "stdout",
          "output_type": "stream",
          "text": [
            "Shape of df: (1338, 7)\n"
          ]
        }
      ],
      "source": [
        "print(\"Shape of df:\", df.shape)"
      ]
    },
    {
      "cell_type": "code",
      "execution_count": 23,
      "metadata": {
        "id": "K_jRdoNS-T3x"
      },
      "outputs": [],
      "source": [
        "df['bmi'] = df['bmi'].astype(int)"
      ]
    },
    {
      "cell_type": "code",
      "execution_count": 24,
      "metadata": {
        "id": "E9nuEnz68tGu"
      },
      "outputs": [],
      "source": [
        "X_train, X_test, y_train, y_test = train_test_split(X, y, test_size=0.2, random_state=42)"
      ]
    },
    {
      "cell_type": "markdown",
      "metadata": {
        "id": "M1GKqon4-0Ef"
      },
      "source": [
        "### 1. Decision Tree Regressor"
      ]
    },
    {
      "cell_type": "code",
      "execution_count": 25,
      "metadata": {
        "colab": {
          "base_uri": "https://localhost:8080/"
        },
        "id": "fDTqWjgIy4m0",
        "outputId": "bbb3e049-437d-4a45-c9e0-9a41fc478fbf"
      },
      "outputs": [
        {
          "name": "stdout",
          "output_type": "stream",
          "text": [
            "Mean Squared Error: 35353917.33767319\n",
            "R-squared: 0.7722756443936125\n"
          ]
        }
      ],
      "source": [
        "# Create a Decision Tree Regressor\n",
        "dt_regressor = DecisionTreeRegressor(random_state=90)\n",
        "\n",
        "# Train the model\n",
        "dt_regressor.fit(X_train, y_train)\n",
        "\n",
        "# Predict on the test set\n",
        "y_pred = dt_regressor.predict(X_test)\n",
        "\n",
        "# Evaluate the model using Mean Squared Error and R-squared\n",
        "mse = mean_squared_error(y_test, y_pred)\n",
        "r2 = r2_score(y_test, y_pred)\n",
        "\n",
        "print(\"Mean Squared Error:\", mse)\n",
        "print(\"R-squared:\", r2)"
      ]
    },
    {
      "cell_type": "code",
      "execution_count": 26,
      "metadata": {
        "colab": {
          "base_uri": "https://localhost:8080/"
        },
        "id": "HDdV1Er-2ceD",
        "outputId": "2508a5a4-c766-4d50-e761-5af1c7b00b21"
      },
      "outputs": [
        {
          "name": "stdout",
          "output_type": "stream",
          "text": [
            "Cross-Validation RMSE scores for Decision Tree Regressor: [6065.5572263  5832.94728743 7234.49801812 6868.62140027 5614.80720552]\n",
            "Mean CV RMSE for Decision Tree Regressor: 6323.28622752859\n",
            "Decision Tree Regressor Mean Squared Error: 41017095.039880045\n",
            "Decision Tree Regressor R-squared: 0.7357975511571022\n",
            "Cross-Validation RMSE scores for Gradient Boosting Regressor: [4868.6942485  3623.50968542 4839.26547917 5341.30504816 4885.22322473]\n",
            "Mean CV RMSE for Gradient Boosting Regressor: 4711.599537197328\n"
          ]
        }
      ],
      "source": [
        "# Create a Decision Tree Regressor\n",
        "dt_regressor = DecisionTreeRegressor(random_state=50)\n",
        "\n",
        "# Perform cross-validation for Decision Tree Regressor\n",
        "cv_scores_dt = cross_val_score(dt_regressor, X_train, y_train, cv=5, scoring='neg_mean_squared_error')\n",
        "cv_rmse_dt = (-cv_scores_dt)**0.5\n",
        "\n",
        "print(\"Cross-Validation RMSE scores for Decision Tree Regressor:\", cv_rmse_dt)\n",
        "print(\"Mean CV RMSE for Decision Tree Regressor:\", cv_rmse_dt.mean())\n",
        "\n",
        "# Train the Decision Tree Regressor model\n",
        "dt_regressor.fit(X_train, y_train)\n",
        "\n",
        "# Predict on the test set\n",
        "y_pred_dt = dt_regressor.predict(X_test)\n",
        "\n",
        "# Evaluate the Decision Tree Regressor model using Mean Squared Error and R-squared\n",
        "mse_dt = mean_squared_error(y_test, y_pred_dt)\n",
        "r2_dt = r2_score(y_test, y_pred_dt)\n",
        "\n",
        "print(\"Decision Tree Regressor Mean Squared Error:\", mse_dt)\n",
        "print(\"Decision Tree Regressor R-squared:\", r2_dt)\n",
        "\n",
        "# Create a Gradient Boosting Regressor\n",
        "gb_regressor = GradientBoostingRegressor(random_state=42)\n",
        "\n",
        "# Perform cross-validation for Gradient Boosting Regressor\n",
        "cv_scores_gb = cross_val_score(gb_regressor, X_train, y_train, cv=5, scoring='neg_mean_squared_error')\n",
        "cv_rmse_gb = (-cv_scores_gb)**0.5\n",
        "\n",
        "print(\"Cross-Validation RMSE scores for Gradient Boosting Regressor:\", cv_rmse_gb)\n",
        "print(\"Mean CV RMSE for Gradient Boosting Regressor:\", cv_rmse_gb.mean())"
      ]
    },
    {
      "cell_type": "markdown",
      "metadata": {
        "id": "6LO86REc2pbA"
      },
      "source": [
        "### 2. Linear Regression"
      ]
    },
    {
      "cell_type": "code",
      "execution_count": 27,
      "metadata": {
        "colab": {
          "base_uri": "https://localhost:8080/"
        },
        "id": "kawHvB241HZM",
        "outputId": "3a7c5bd6-5f8b-4627-fa71-a2c05029b67e"
      },
      "outputs": [
        {
          "name": "stdout",
          "output_type": "stream",
          "text": [
            "Mean Squared Error: 33927609.01712134\n",
            "R-squared: 0.7814628906071344\n"
          ]
        }
      ],
      "source": [
        "# Create a Linear Regression model\n",
        "linear_reg_model = LinearRegression()\n",
        "\n",
        "# Train the model\n",
        "linear_reg_model.fit(X_train, y_train)\n",
        "\n",
        "# Predict on the test set\n",
        "y_pred = linear_reg_model.predict(X_test)\n",
        "\n",
        "# Evaluate the model using Mean Squared Error and R-squared\n",
        "mse = mean_squared_error(y_test, y_pred)\n",
        "r2 = r2_score(y_test, y_pred)\n",
        "\n",
        "print(\"Mean Squared Error:\", mse)\n",
        "print(\"R-squared:\", r2)"
      ]
    },
    {
      "cell_type": "code",
      "execution_count": 28,
      "metadata": {
        "colab": {
          "base_uri": "https://localhost:8080/"
        },
        "id": "m2MjDVcn20p4",
        "outputId": "41d3a393-6f7c-49b9-c4fb-208059ca0594"
      },
      "outputs": [
        {
          "name": "stdout",
          "output_type": "stream",
          "text": [
            "Cross-Validation RMSE scores for Linear Regression: [6322.96146928 5669.44617093 5986.80204227 6830.13621179 5912.55444816]\n",
            "Mean CV RMSE for Linear Regression: 6144.380068484391\n",
            "Linear Regression Mean Squared Error: 33927609.01712134\n",
            "Linear Regression R-squared: 0.7814628906071344\n"
          ]
        }
      ],
      "source": [
        "# Perform cross-validation for Linear Regression\n",
        "cv_scores_lr = cross_val_score(linear_reg_model, X_train, y_train, cv=5, scoring='neg_mean_squared_error')\n",
        "cv_rmse_lr = (-cv_scores_lr)**0.5\n",
        "\n",
        "print(\"Cross-Validation RMSE scores for Linear Regression:\", cv_rmse_lr)\n",
        "print(\"Mean CV RMSE for Linear Regression:\", cv_rmse_lr.mean())\n",
        "\n",
        "# Train the Linear Regression model\n",
        "linear_reg_model.fit(X_train, y_train)\n",
        "\n",
        "# Predict on the test set\n",
        "y_pred_lr = linear_reg_model.predict(X_test)\n",
        "\n",
        "# Evaluate the Linear Regression model using Mean Squared Error and R-squared\n",
        "mse_lr = mean_squared_error(y_test, y_pred_lr)\n",
        "r2_lr = r2_score(y_test, y_pred_lr)\n",
        "\n",
        "print(\"Linear Regression Mean Squared Error:\", mse_lr)\n",
        "print(\"Linear Regression R-squared:\", r2_lr)\n"
      ]
    },
    {
      "cell_type": "code",
      "execution_count": 29,
      "metadata": {
        "colab": {
          "base_uri": "https://localhost:8080/"
        },
        "id": "OY44B8AZEe4T",
        "outputId": "58c513ee-5019-441e-e726-d7b9037da8e2"
      },
      "outputs": [
        {
          "name": "stdout",
          "output_type": "stream",
          "text": [
            "Best Ridge Parameters: {'alpha': 1.0}\n",
            "Best Ridge Model MSE: 33967092.307571344\n",
            "Best Lasso Parameters: {'alpha': 10.0}\n",
            "Best Lasso Model MSE: 33951074.14634581\n"
          ]
        }
      ],
      "source": [
        "# Define parameter grid for Ridge and Lasso\n",
        "param_grid_ridge = {'alpha': [0.1, 1.0, 10.0]}\n",
        "param_grid_lasso = {'alpha': [0.1, 1.0, 10.0]}\n",
        "\n",
        "# Create Ridge and Lasso models\n",
        "ridge_regressor = Ridge()\n",
        "lasso_regressor = Lasso()\n",
        "\n",
        "# Initialize GridSearchCV for Ridge and Lasso\n",
        "grid_search_ridge = GridSearchCV(ridge_regressor, param_grid_ridge, cv=5, scoring='neg_mean_squared_error')\n",
        "grid_search_lasso = GridSearchCV(lasso_regressor, param_grid_lasso, cv=5, scoring='neg_mean_squared_error')\n",
        "\n",
        "# Fit the GridSearchCV for Ridge and Lasso\n",
        "grid_search_ridge.fit(X_train, y_train)\n",
        "grid_search_lasso.fit(X_train, y_train)\n",
        "\n",
        "# Get the best parameters and models for Ridge and Lasso\n",
        "best_params_ridge = grid_search_ridge.best_params_\n",
        "best_params_lasso = grid_search_lasso.best_params_\n",
        "best_ridge_model = grid_search_ridge.best_estimator_\n",
        "best_lasso_model = grid_search_lasso.best_estimator_\n",
        "\n",
        "# Evaluate the best Ridge model\n",
        "y_pred_best_ridge = best_ridge_model.predict(X_test)\n",
        "best_mse_ridge = mean_squared_error(y_test, y_pred_best_ridge)\n",
        "\n",
        "# Evaluate the best Lasso model\n",
        "y_pred_best_lasso = best_lasso_model.predict(X_test)\n",
        "best_mse_lasso = mean_squared_error(y_test, y_pred_best_lasso)\n",
        "\n",
        "print(\"Best Ridge Parameters:\", best_params_ridge)\n",
        "print(\"Best Ridge Model MSE:\", best_mse_ridge)\n",
        "\n",
        "print(\"Best Lasso Parameters:\", best_params_lasso)\n",
        "print(\"Best Lasso Model MSE:\", best_mse_lasso)\n"
      ]
    },
    {
      "cell_type": "markdown",
      "metadata": {
        "id": "l7MtiGNQ2pbC"
      },
      "source": [
        "### 3. Support Vector Regression"
      ]
    },
    {
      "cell_type": "code",
      "execution_count": 30,
      "metadata": {
        "colab": {
          "base_uri": "https://localhost:8080/"
        },
        "id": "nxHjEsVY1a2J",
        "outputId": "07cb6fc3-df81-476c-95db-938f271a4e73"
      },
      "outputs": [
        {
          "name": "stdout",
          "output_type": "stream",
          "text": [
            "Mean Squared Error: 166472410.6072576\n",
            "R-squared: -0.07229482010987542\n"
          ]
        }
      ],
      "source": [
        "# Create a Support Vector Regression model\n",
        "svr_model = SVR()\n",
        "\n",
        "# Train the model\n",
        "svr_model.fit(X_train, y_train)\n",
        "\n",
        "# Predict on the test set\n",
        "y_pred = svr_model.predict(X_test)\n",
        "\n",
        "# Evaluate the model using Mean Squared Error and R-squared\n",
        "mse = mean_squared_error(y_test, y_pred)\n",
        "r2 = r2_score(y_test, y_pred)\n",
        "\n",
        "print(\"Mean Squared Error:\", mse)\n",
        "print(\"R-squared:\", r2)"
      ]
    },
    {
      "cell_type": "code",
      "execution_count": 31,
      "metadata": {
        "colab": {
          "base_uri": "https://localhost:8080/"
        },
        "id": "FBYTOumy3Oz0",
        "outputId": "243468cf-fb11-4cb5-c983-c2abb827cfd0"
      },
      "outputs": [
        {
          "name": "stdout",
          "output_type": "stream",
          "text": [
            "Cross-Validation RMSE scores for Support Vector Regression: [12529.09152249 13759.68557414 11787.95019551 12261.64767647\n",
            " 12568.19766808]\n",
            "Mean CV RMSE for Support Vector Regression: 12581.31452733684\n",
            "Support Vector Regression Mean Squared Error: 166472410.6072576\n",
            "Support Vector Regression R-squared: -0.07229482010987542\n"
          ]
        }
      ],
      "source": [
        "# Perform cross-validation for Support Vector Regression\n",
        "cv_scores_svr = cross_val_score(svr_model, X_train, y_train, cv=5, scoring='neg_mean_squared_error')\n",
        "cv_rmse_svr = (-cv_scores_svr)**0.5\n",
        "\n",
        "print(\"Cross-Validation RMSE scores for Support Vector Regression:\", cv_rmse_svr)\n",
        "print(\"Mean CV RMSE for Support Vector Regression:\", cv_rmse_svr.mean())\n",
        "\n",
        "# Train the Support Vector Regression model\n",
        "svr_model.fit(X_train, y_train)\n",
        "\n",
        "# Predict on the test set\n",
        "y_pred_svr = svr_model.predict(X_test)\n",
        "\n",
        "# Evaluate the Support Vector Regression model using Mean Squared Error and R-squared\n",
        "mse_svr = mean_squared_error(y_test, y_pred_svr)\n",
        "r2_svr = r2_score(y_test, y_pred_svr)\n",
        "\n",
        "print(\"Support Vector Regression Mean Squared Error:\", mse_svr)\n",
        "print(\"Support Vector Regression R-squared:\", r2_svr)"
      ]
    },
    {
      "cell_type": "code",
      "execution_count": 32,
      "metadata": {
        "colab": {
          "base_uri": "https://localhost:8080/"
        },
        "id": "I8Mf6QipE9Nk",
        "outputId": "7238e14d-a83c-4c30-d9df-71a0f3dab1ef"
      },
      "outputs": [
        {
          "name": "stdout",
          "output_type": "stream",
          "text": [
            "Best Parameters: {'C': 10.0, 'gamma': 'scale', 'kernel': 'linear'}\n",
            "Best Model MSE: 147100970.99728963\n"
          ]
        }
      ],
      "source": [
        "# Define parameter grid for SVR\n",
        "param_grid = {\n",
        "    'kernel': ['linear', 'rbf'],\n",
        "    'C': [0.1, 1.0, 10.0],\n",
        "    'gamma': ['scale', 'auto']\n",
        "}\n",
        "\n",
        "# Create SVR model\n",
        "svr_regressor = SVR()\n",
        "\n",
        "# Initialize GridSearchCV for SVR\n",
        "grid_search = GridSearchCV(svr_regressor, param_grid, cv=5, scoring='neg_mean_squared_error')\n",
        "\n",
        "# Fit the GridSearchCV\n",
        "grid_search.fit(X_train, y_train)\n",
        "\n",
        "# Get the best parameters and model\n",
        "best_params = grid_search.best_params_\n",
        "best_model = grid_search.best_estimator_\n",
        "\n",
        "# Evaluate the best model\n",
        "y_pred_best = best_model.predict(X_test)\n",
        "best_mse = mean_squared_error(y_test, y_pred_best)\n",
        "\n",
        "print(\"Best Parameters:\", best_params)\n",
        "print(\"Best Model MSE:\", best_mse)\n"
      ]
    },
    {
      "cell_type": "markdown",
      "metadata": {
        "id": "dYa1qlu42pbD"
      },
      "source": [
        "### 4. Lasso Regression"
      ]
    },
    {
      "cell_type": "code",
      "execution_count": 33,
      "metadata": {
        "colab": {
          "base_uri": "https://localhost:8080/"
        },
        "id": "nCrdWh0L1jmc",
        "outputId": "148eec0a-3fcf-4652-e669-62cf02edb26f"
      },
      "outputs": [
        {
          "name": "stdout",
          "output_type": "stream",
          "text": [
            "Mean Squared Error: 33930924.6905315\n",
            "R-squared: 0.7814415334380399\n"
          ]
        }
      ],
      "source": [
        "# Create a Lasso Regression model\n",
        "lasso_model = Lasso(alpha=1.0)  # You can adjust the alpha value\n",
        "\n",
        "# Train the model\n",
        "lasso_model.fit(X_train, y_train)\n",
        "\n",
        "# Predict on the test set\n",
        "y_pred = lasso_model.predict(X_test)\n",
        "\n",
        "# Evaluate the model using Mean Squared Error and R-squared\n",
        "mse = mean_squared_error(y_test, y_pred)\n",
        "r2 = r2_score(y_test, y_pred)\n",
        "\n",
        "print(\"Mean Squared Error:\", mse)\n",
        "print(\"R-squared:\", r2)"
      ]
    },
    {
      "cell_type": "code",
      "execution_count": 34,
      "metadata": {
        "colab": {
          "base_uri": "https://localhost:8080/"
        },
        "id": "eNPRtpKr3Imm",
        "outputId": "b75cd505-9a1f-444e-ae40-ea7890a4e12d"
      },
      "outputs": [
        {
          "name": "stdout",
          "output_type": "stream",
          "text": [
            "Cross-Validation RMSE scores for Lasso Regression: [6322.82314371 5669.33391037 5986.49657294 6829.67195415 5912.7317027 ]\n",
            "Mean CV RMSE for Lasso Regression: 6144.211456773044\n",
            "Lasso Regression Mean Squared Error: 33930924.6905315\n",
            "Lasso Regression R-squared: 0.7814415334380399\n"
          ]
        }
      ],
      "source": [
        "# Perform cross-validation for Lasso Regression\n",
        "cv_scores_lasso = cross_val_score(lasso_model, X_train, y_train, cv=5, scoring='neg_mean_squared_error')\n",
        "cv_rmse_lasso = (-cv_scores_lasso)**0.5\n",
        "\n",
        "print(\"Cross-Validation RMSE scores for Lasso Regression:\", cv_rmse_lasso)\n",
        "print(\"Mean CV RMSE for Lasso Regression:\", cv_rmse_lasso.mean())\n",
        "\n",
        "# Train the Lasso Regression model\n",
        "lasso_model.fit(X_train, y_train)\n",
        "\n",
        "# Predict on the test set\n",
        "y_pred_lasso = lasso_model.predict(X_test)\n",
        "\n",
        "# Evaluate the Lasso Regression model using Mean Squared Error and R-squared\n",
        "mse_lasso = mean_squared_error(y_test, y_pred_lasso)\n",
        "r2_lasso = r2_score(y_test, y_pred_lasso)\n",
        "\n",
        "print(\"Lasso Regression Mean Squared Error:\", mse_lasso)\n",
        "print(\"Lasso Regression R-squared:\", r2_lasso)"
      ]
    },
    {
      "cell_type": "markdown",
      "metadata": {
        "id": "UMTFAMvp2pbK"
      },
      "source": [
        "### 4. Random Forest"
      ]
    },
    {
      "cell_type": "code",
      "execution_count": 35,
      "metadata": {
        "colab": {
          "base_uri": "https://localhost:8080/"
        },
        "id": "zf6syqi02GLI",
        "outputId": "c1ff51e5-2a08-4a64-c42f-7a273de75f52"
      },
      "outputs": [
        {
          "name": "stdout",
          "output_type": "stream",
          "text": [
            "Cross-Validation RMSE scores for Random Forest Regressor: [5108.04909605 4006.23910113 5115.00633924 5478.77501352 5020.05101665]\n",
            "Mean CV RMSE for Random Forest Regressor: 4945.624113316784\n",
            "Random Forest Regressor Mean Squared Error: 21637736.594993167\n",
            "Random Forest Regressor R-squared: 0.8606253565676333\n"
          ]
        }
      ],
      "source": [
        "# Create a Random Forest Regressor\n",
        "rf_regressor = RandomForestRegressor(n_estimators=100, random_state=42)  # You can adjust n_estimators and other parameters\n",
        "\n",
        "# Perform cross-validation for Random Forest Regressor\n",
        "cv_scores_rf = cross_val_score(rf_regressor, X_train, y_train, cv=5, scoring='neg_mean_squared_error')\n",
        "cv_rmse_rf = (-cv_scores_rf)**0.5\n",
        "\n",
        "print(\"Cross-Validation RMSE scores for Random Forest Regressor:\", cv_rmse_rf)\n",
        "print(\"Mean CV RMSE for Random Forest Regressor:\", cv_rmse_rf.mean())\n",
        "\n",
        "# Train the Random Forest Regressor model\n",
        "rf_regressor.fit(X_train, y_train)\n",
        "\n",
        "# Predict on the test set\n",
        "y_pred_rf = rf_regressor.predict(X_test)\n",
        "\n",
        "# Evaluate the Random Forest Regressor model using Mean Squared Error and R-squared\n",
        "mse_rf = mean_squared_error(y_test, y_pred_rf)\n",
        "r2_rf = r2_score(y_test, y_pred_rf)\n",
        "\n",
        "print(\"Random Forest Regressor Mean Squared Error:\", mse_rf)\n",
        "print(\"Random Forest Regressor R-squared:\", r2_rf)"
      ]
    },
    {
      "cell_type": "markdown",
      "metadata": {
        "id": "WNBS0E7vCCOY"
      },
      "source": [
        "### Gradient Boosting"
      ]
    },
    {
      "cell_type": "code",
      "execution_count": 36,
      "metadata": {
        "colab": {
          "base_uri": "https://localhost:8080/"
        },
        "id": "tZlYf6jJCD7h",
        "outputId": "d10e2ed7-c076-4a27-ceac-74d3fd771827"
      },
      "outputs": [
        {
          "name": "stdout",
          "output_type": "stream",
          "text": [
            "Gradient Boosting Regressor Mean Squared Error: 18979979.039642848\n",
            "Gradient Boosting Regressor R-squared: 0.8777447077520979\n"
          ]
        }
      ],
      "source": [
        "# Train the Gradient Boosting Regressor model\n",
        "gb_regressor.fit(X_train, y_train)\n",
        "\n",
        "# Predict on the test set\n",
        "y_pred_gb = gb_regressor.predict(X_test)\n",
        "\n",
        "# Evaluate the Gradient Boosting Regressor model using Mean Squared Error and R-squared\n",
        "mse_gb = mean_squared_error(y_test, y_pred_gb)\n",
        "r2_gb = r2_score(y_test, y_pred_gb)\n",
        "\n",
        "print(\"Gradient Boosting Regressor Mean Squared Error:\", mse_gb)\n",
        "print(\"Gradient Boosting Regressor R-squared:\", r2_gb)"
      ]
    },
    {
      "cell_type": "markdown",
      "metadata": {
        "id": "npPf3MXyC2sj"
      },
      "source": [
        "### Overfitting and Underfitting Check"
      ]
    },
    {
      "cell_type": "markdown",
      "metadata": {},
      "source": [
        "#### Linear Regression"
      ]
    },
    {
      "cell_type": "code",
      "execution_count": 37,
      "metadata": {
        "colab": {
          "base_uri": "https://localhost:8080/"
        },
        "id": "7dLq8q5Kdzr_",
        "outputId": "cb69d1e3-1682-45df-c683-1dc5b06814ba"
      },
      "outputs": [
        {
          "name": "stdout",
          "output_type": "stream",
          "text": [
            "MSE and R-squared scores for different models:\n",
            "Underfit (Training) - MSE: 37313600.5074, R-squared: 0.7415\n",
            "Good Fit (Training) - MSE: 37313600.5074, R-squared: 0.7415\n",
            "Overfit (Training) - MSE: 37313600.5074, R-squared: 0.7415\n",
            "Underfit (Test) - MSE: 33927609.0171, R-squared: 0.7815\n",
            "Good Fit (Test) - MSE: 33927609.0171, R-squared: 0.7815\n",
            "Overfit (Test) - MSE: 33927609.0171, R-squared: 0.7815\n"
          ]
        }
      ],
      "source": [
        "# Create linear regression models with different complexities\n",
        "model_underfit = LinearRegression()\n",
        "model_goodfit = LinearRegression()\n",
        "model_overfit = LinearRegression()\n",
        "\n",
        "# Train the models\n",
        "model_underfit.fit(X_train, y_train)\n",
        "model_goodfit.fit(X_train, y_train)\n",
        "model_overfit.fit(X_train, y_train)\n",
        "\n",
        "# Make predictions on training and test data\n",
        "y_pred_underfit_train = model_underfit.predict(X_train)\n",
        "y_pred_goodfit_train = model_goodfit.predict(X_train)\n",
        "y_pred_overfit_train = model_overfit.predict(X_train)\n",
        "\n",
        "y_pred_underfit_test = model_underfit.predict(X_test)\n",
        "y_pred_goodfit_test = model_goodfit.predict(X_test)\n",
        "y_pred_overfit_test = model_overfit.predict(X_test)\n",
        "\n",
        "# Calculate performance metrics\n",
        "mse_underfit_train = mean_squared_error(y_train, y_pred_underfit_train)\n",
        "mse_goodfit_train = mean_squared_error(y_train, y_pred_goodfit_train)\n",
        "mse_overfit_train = mean_squared_error(y_train, y_pred_overfit_train)\n",
        "\n",
        "mse_underfit_test = mean_squared_error(y_test, y_pred_underfit_test)\n",
        "mse_goodfit_test = mean_squared_error(y_test, y_pred_goodfit_test)\n",
        "mse_overfit_test = mean_squared_error(y_test, y_pred_overfit_test)\n",
        "\n",
        "r2_underfit_train = r2_score(y_train, y_pred_underfit_train)\n",
        "r2_goodfit_train = r2_score(y_train, y_pred_goodfit_train)\n",
        "r2_overfit_train = r2_score(y_train, y_pred_overfit_train)\n",
        "\n",
        "r2_underfit_test = r2_score(y_test, y_pred_underfit_test)\n",
        "r2_goodfit_test = r2_score(y_test, y_pred_goodfit_test)\n",
        "r2_overfit_test = r2_score(y_test, y_pred_overfit_test)\n",
        "\n",
        "# Print the results\n",
        "print(\"MSE and R-squared scores for different models:\")\n",
        "print(\"Underfit (Training) - MSE: {:.4f}, R-squared: {:.4f}\".format(mse_underfit_train, r2_underfit_train))\n",
        "print(\"Good Fit (Training) - MSE: {:.4f}, R-squared: {:.4f}\".format(mse_goodfit_train, r2_goodfit_train))\n",
        "print(\"Overfit (Training) - MSE: {:.4f}, R-squared: {:.4f}\".format(mse_overfit_train, r2_overfit_train))\n",
        "print(\"Underfit (Test) - MSE: {:.4f}, R-squared: {:.4f}\".format(mse_underfit_test, r2_underfit_test))\n",
        "print(\"Good Fit (Test) - MSE: {:.4f}, R-squared: {:.4f}\".format(mse_goodfit_test, r2_goodfit_test))\n",
        "print(\"Overfit (Test) - MSE: {:.4f}, R-squared: {:.4f}\".format(mse_overfit_test, r2_overfit_test))"
      ]
    },
    {
      "cell_type": "markdown",
      "metadata": {},
      "source": [
        "#### Random Forest"
      ]
    },
    {
      "cell_type": "code",
      "execution_count": 38,
      "metadata": {
        "colab": {
          "base_uri": "https://localhost:8080/"
        },
        "id": "mkbB0g-WeTgL",
        "outputId": "33dfa127-89da-4b77-9823-296d5dd98e4f"
      },
      "outputs": [
        {
          "name": "stdout",
          "output_type": "stream",
          "text": [
            "MSE and R-squared scores for different models:\n",
            "Underfit (Training) - MSE: 3574476.8870, R-squared: 0.9752\n",
            "Good Fit (Training) - MSE: 3642141.4983, R-squared: 0.9748\n",
            "Overfit (Training) - MSE: 3573654.3822, R-squared: 0.9752\n",
            "Underfit (Test) - MSE: 21267204.3282, R-squared: 0.8630\n",
            "Good Fit (Test) - MSE: 21270851.0522, R-squared: 0.8630\n",
            "Overfit (Test) - MSE: 21114068.7153, R-squared: 0.8640\n"
          ]
        }
      ],
      "source": [
        "model_underfit = RandomForestRegressor()\n",
        "model_goodfit = RandomForestRegressor()\n",
        "model_overfit = RandomForestRegressor()\n",
        "\n",
        "# Train the models\n",
        "model_underfit.fit(X_train, y_train)\n",
        "model_goodfit.fit(X_train, y_train)\n",
        "model_overfit.fit(X_train, y_train)\n",
        "\n",
        "# Make predictions on training and test data\n",
        "y_pred_underfit_train = model_underfit.predict(X_train)\n",
        "y_pred_goodfit_train = model_goodfit.predict(X_train)\n",
        "y_pred_overfit_train = model_overfit.predict(X_train)\n",
        "\n",
        "y_pred_underfit_test = model_underfit.predict(X_test)\n",
        "y_pred_goodfit_test = model_goodfit.predict(X_test)\n",
        "y_pred_overfit_test = model_overfit.predict(X_test)\n",
        "\n",
        "# Calculate performance metrics\n",
        "mse_underfit_train = mean_squared_error(y_train, y_pred_underfit_train)\n",
        "mse_goodfit_train = mean_squared_error(y_train, y_pred_goodfit_train)\n",
        "mse_overfit_train = mean_squared_error(y_train, y_pred_overfit_train)\n",
        "\n",
        "mse_underfit_test = mean_squared_error(y_test, y_pred_underfit_test)\n",
        "mse_goodfit_test = mean_squared_error(y_test, y_pred_goodfit_test)\n",
        "mse_overfit_test = mean_squared_error(y_test, y_pred_overfit_test)\n",
        "\n",
        "r2_underfit_train = r2_score(y_train, y_pred_underfit_train)\n",
        "r2_goodfit_train = r2_score(y_train, y_pred_goodfit_train)\n",
        "r2_overfit_train = r2_score(y_train, y_pred_overfit_train)\n",
        "\n",
        "r2_underfit_test = r2_score(y_test, y_pred_underfit_test)\n",
        "r2_goodfit_test = r2_score(y_test, y_pred_goodfit_test)\n",
        "r2_overfit_test = r2_score(y_test, y_pred_overfit_test)\n",
        "\n",
        "# Print the results\n",
        "print(\"MSE and R-squared scores for different models:\")\n",
        "print(\"Underfit (Training) - MSE: {:.4f}, R-squared: {:.4f}\".format(mse_underfit_train, r2_underfit_train))\n",
        "print(\"Good Fit (Training) - MSE: {:.4f}, R-squared: {:.4f}\".format(mse_goodfit_train, r2_goodfit_train))\n",
        "print(\"Overfit (Training) - MSE: {:.4f}, R-squared: {:.4f}\".format(mse_overfit_train, r2_overfit_train))\n",
        "print(\"Underfit (Test) - MSE: {:.4f}, R-squared: {:.4f}\".format(mse_underfit_test, r2_underfit_test))\n",
        "print(\"Good Fit (Test) - MSE: {:.4f}, R-squared: {:.4f}\".format(mse_goodfit_test, r2_goodfit_test))\n",
        "print(\"Overfit (Test) - MSE: {:.4f}, R-squared: {:.4f}\".format(mse_overfit_test, r2_overfit_test))"
      ]
    },
    {
      "cell_type": "code",
      "execution_count": 39,
      "metadata": {
        "colab": {
          "base_uri": "https://localhost:8080/"
        },
        "id": "mt5T37zpeizD",
        "outputId": "c9c65642-8edc-448d-d129-0305ca16a70d"
      },
      "outputs": [
        {
          "name": "stdout",
          "output_type": "stream",
          "text": [
            "MSE and R-squared scores for different models:\n",
            "Underfit (Training) - MSE: 37313612.7984, R-squared: 0.7415\n",
            "Good Fit (Training) - MSE: 37313600.6303, R-squared: 0.7415\n",
            "Overfit (Training) - MSE: 37313600.5086, R-squared: 0.7415\n",
            "Underfit (Test) - MSE: 33930924.6905, R-squared: 0.7814\n",
            "Good Fit (Test) - MSE: 33927939.5353, R-squared: 0.7815\n",
            "Overfit (Test) - MSE: 33927642.0586, R-squared: 0.7815\n"
          ]
        }
      ],
      "source": [
        "# Create Lasso models with different complexity levels\n",
        "model_underfit = Lasso(alpha=1.0)  # High regularization\n",
        "model_goodfit = Lasso(alpha=0.1)   # Moderate regularization\n",
        "model_overfit = Lasso(alpha=0.01)  # Low regularization\n",
        "\n",
        "# Train the models\n",
        "model_underfit.fit(X_train, y_train)\n",
        "model_goodfit.fit(X_train, y_train)\n",
        "model_overfit.fit(X_train, y_train)\n",
        "\n",
        "# Make predictions on training and test data\n",
        "y_pred_underfit_train = model_underfit.predict(X_train)\n",
        "y_pred_goodfit_train = model_goodfit.predict(X_train)\n",
        "y_pred_overfit_train = model_overfit.predict(X_train)\n",
        "\n",
        "y_pred_underfit_test = model_underfit.predict(X_test)\n",
        "y_pred_goodfit_test = model_goodfit.predict(X_test)\n",
        "y_pred_overfit_test = model_overfit.predict(X_test)\n",
        "\n",
        "# Calculate performance metrics\n",
        "mse_underfit_train = mean_squared_error(y_train, y_pred_underfit_train)\n",
        "mse_goodfit_train = mean_squared_error(y_train, y_pred_goodfit_train)\n",
        "mse_overfit_train = mean_squared_error(y_train, y_pred_overfit_train)\n",
        "\n",
        "mse_underfit_test = mean_squared_error(y_test, y_pred_underfit_test)\n",
        "mse_goodfit_test = mean_squared_error(y_test, y_pred_goodfit_test)\n",
        "mse_overfit_test = mean_squared_error(y_test, y_pred_overfit_test)\n",
        "\n",
        "r2_underfit_train = r2_score(y_train, y_pred_underfit_train)\n",
        "r2_goodfit_train = r2_score(y_train, y_pred_goodfit_train)\n",
        "r2_overfit_train = r2_score(y_train, y_pred_overfit_train)\n",
        "\n",
        "r2_underfit_test = r2_score(y_test, y_pred_underfit_test)\n",
        "r2_goodfit_test = r2_score(y_test, y_pred_goodfit_test)\n",
        "r2_overfit_test = r2_score(y_test, y_pred_overfit_test)\n",
        "\n",
        "# Print the results\n",
        "print(\"MSE and R-squared scores for different models:\")\n",
        "print(\"Underfit (Training) - MSE: {:.4f}, R-squared: {:.4f}\".format(mse_underfit_train, r2_underfit_train))\n",
        "print(\"Good Fit (Training) - MSE: {:.4f}, R-squared: {:.4f}\".format(mse_goodfit_train, r2_goodfit_train))\n",
        "print(\"Overfit (Training) - MSE: {:.4f}, R-squared: {:.4f}\".format(mse_overfit_train, r2_overfit_train))\n",
        "print(\"Underfit (Test) - MSE: {:.4f}, R-squared: {:.4f}\".format(mse_underfit_test, r2_underfit_test))\n",
        "print(\"Good Fit (Test) - MSE: {:.4f}, R-squared: {:.4f}\".format(mse_goodfit_test, r2_goodfit_test))\n",
        "print(\"Overfit (Test) - MSE: {:.4f}, R-squared: {:.4f}\".format(mse_overfit_test, r2_overfit_test))"
      ]
    },
    {
      "cell_type": "markdown",
      "metadata": {},
      "source": [
        "#### DECISION TREE"
      ]
    },
    {
      "cell_type": "code",
      "execution_count": 40,
      "metadata": {
        "colab": {
          "base_uri": "https://localhost:8080/"
        },
        "id": "XHMPFSM1fajb",
        "outputId": "30c00219-f95c-4586-a0aa-fc454c49fcde"
      },
      "outputs": [
        {
          "name": "stdout",
          "output_type": "stream",
          "text": [
            "MSE and R-squared scores for different models:\n",
            "Underfit (Training) - MSE: 21120357.0162, R-squared: 0.8537\n",
            "Good Fit (Training) - MSE: 4718019.6223, R-squared: 0.9673\n",
            "Overfit (Training) - MSE: 244239.5544, R-squared: 0.9983\n",
            "Underfit (Test) - MSE: 22812669.8523, R-squared: 0.8531\n",
            "Good Fit (Test) - MSE: 38587840.9326, R-squared: 0.7514\n",
            "Overfit (Test) - MSE: 39852574.8694, R-squared: 0.7433\n"
          ]
        }
      ],
      "source": [
        "# Split the data into training and test sets\n",
        "X_train, X_test, y_train, y_test = train_test_split(X, y, test_size=0.2, random_state=42)\n",
        "\n",
        "# Create Decision Tree Regressor models with different depths\n",
        "model_underfit = DecisionTreeRegressor(max_depth=3)  # Shallow tree\n",
        "model_goodfit = DecisionTreeRegressor(max_depth=10)  # Moderate depth\n",
        "model_overfit = DecisionTreeRegressor(max_depth=None)  # Deep tree (potential overfitting)\n",
        "\n",
        "# Train the models\n",
        "model_underfit.fit(X_train, y_train)\n",
        "model_goodfit.fit(X_train, y_train)\n",
        "model_overfit.fit(X_train, y_train)\n",
        "\n",
        "# Make predictions on training and test data\n",
        "y_pred_underfit_train = model_underfit.predict(X_train)\n",
        "y_pred_goodfit_train = model_goodfit.predict(X_train)\n",
        "y_pred_overfit_train = model_overfit.predict(X_train)\n",
        "\n",
        "y_pred_underfit_test = model_underfit.predict(X_test)\n",
        "y_pred_goodfit_test = model_goodfit.predict(X_test)\n",
        "y_pred_overfit_test = model_overfit.predict(X_test)\n",
        "\n",
        "# Calculate performance metrics\n",
        "mse_underfit_train = mean_squared_error(y_train, y_pred_underfit_train)\n",
        "mse_goodfit_train = mean_squared_error(y_train, y_pred_goodfit_train)\n",
        "mse_overfit_train = mean_squared_error(y_train, y_pred_overfit_train)\n",
        "\n",
        "mse_underfit_test = mean_squared_error(y_test, y_pred_underfit_test)\n",
        "mse_goodfit_test = mean_squared_error(y_test, y_pred_goodfit_test)\n",
        "mse_overfit_test = mean_squared_error(y_test, y_pred_overfit_test)\n",
        "\n",
        "r2_underfit_train = r2_score(y_train, y_pred_underfit_train)\n",
        "r2_goodfit_train = r2_score(y_train, y_pred_goodfit_train)\n",
        "r2_overfit_train = r2_score(y_train, y_pred_overfit_train)\n",
        "\n",
        "r2_underfit_test = r2_score(y_test, y_pred_underfit_test)\n",
        "r2_goodfit_test = r2_score(y_test, y_pred_goodfit_test)\n",
        "r2_overfit_test = r2_score(y_test, y_pred_overfit_test)\n",
        "\n",
        "# Print the results\n",
        "print(\"MSE and R-squared scores for different models:\")\n",
        "print(\"Underfit (Training) - MSE: {:.4f}, R-squared: {:.4f}\".format(mse_underfit_train, r2_underfit_train))\n",
        "print(\"Good Fit (Training) - MSE: {:.4f}, R-squared: {:.4f}\".format(mse_goodfit_train, r2_goodfit_train))\n",
        "print(\"Overfit (Training) - MSE: {:.4f}, R-squared: {:.4f}\".format(mse_overfit_train, r2_overfit_train))\n",
        "print(\"Underfit (Test) - MSE: {:.4f}, R-squared: {:.4f}\".format(mse_underfit_test, r2_underfit_test))\n",
        "print(\"Good Fit (Test) - MSE: {:.4f}, R-squared: {:.4f}\".format(mse_goodfit_test, r2_goodfit_test))\n",
        "print(\"Overfit (Test) - MSE: {:.4f}, R-squared: {:.4f}\".format(mse_overfit_test, r2_overfit_test))"
      ]
    },
    {
      "cell_type": "markdown",
      "metadata": {},
      "source": [
        "#### SVR"
      ]
    },
    {
      "cell_type": "code",
      "execution_count": 41,
      "metadata": {
        "colab": {
          "base_uri": "https://localhost:8080/"
        },
        "id": "jLrCS2DhfqRN",
        "outputId": "762e576f-2fff-4be5-983f-4cf293798870"
      },
      "outputs": [
        {
          "ename": "NameError",
          "evalue": "name 'StandardScaler' is not defined",
          "output_type": "error",
          "traceback": [
            "\u001b[0;31m---------------------------------------------------------------------------\u001b[0m",
            "\u001b[0;31mNameError\u001b[0m                                 Traceback (most recent call last)",
            "Cell \u001b[0;32mIn[41], line 2\u001b[0m\n\u001b[1;32m      1\u001b[0m \u001b[39m# Standardize the features\u001b[39;00m\n\u001b[0;32m----> 2\u001b[0m scaler \u001b[39m=\u001b[39m StandardScaler()\n\u001b[1;32m      3\u001b[0m X_train_scaled \u001b[39m=\u001b[39m scaler\u001b[39m.\u001b[39mfit_transform(X_train)\n\u001b[1;32m      4\u001b[0m X_test_scaled \u001b[39m=\u001b[39m scaler\u001b[39m.\u001b[39mtransform(X_test)\n",
            "\u001b[0;31mNameError\u001b[0m: name 'StandardScaler' is not defined"
          ]
        }
      ],
      "source": [
        "# Standardize the features\n",
        "scaler = StandardScaler()\n",
        "X_train_scaled = scaler.fit_transform(X_train)\n",
        "X_test_scaled = scaler.transform(X_test)\n",
        "\n",
        "# Create SVR models with different complexity levels\n",
        "model_underfit = SVR(C=1.0, epsilon=0.2)  # High regularization\n",
        "model_goodfit = SVR(C=10.0, epsilon=0.1)  # Moderate regularization\n",
        "model_overfit = SVR(C=100.0, epsilon=0.05)  # Low regularization\n",
        "\n",
        "# Train the models\n",
        "model_underfit.fit(X_train_scaled, y_train)\n",
        "model_goodfit.fit(X_train_scaled, y_train)\n",
        "model_overfit.fit(X_train_scaled, y_train)\n",
        "\n",
        "# Make predictions on training and test data\n",
        "y_pred_underfit_train = model_underfit.predict(X_train_scaled)\n",
        "y_pred_goodfit_train = model_goodfit.predict(X_train_scaled)\n",
        "y_pred_overfit_train = model_overfit.predict(X_train_scaled)\n",
        "\n",
        "y_pred_underfit_test = model_underfit.predict(X_test_scaled)\n",
        "y_pred_goodfit_test = model_goodfit.predict(X_test_scaled)\n",
        "y_pred_overfit_test = model_overfit.predict(X_test_scaled)\n",
        "\n",
        "# Calculate performance metrics\n",
        "mse_underfit_train = mean_squared_error(y_train, y_pred_underfit_train)\n",
        "mse_goodfit_train = mean_squared_error(y_train, y_pred_goodfit_train)\n",
        "mse_overfit_train = mean_squared_error(y_train, y_pred_overfit_train)\n",
        "\n",
        "mse_underfit_test = mean_squared_error(y_test, y_pred_underfit_test)\n",
        "mse_goodfit_test = mean_squared_error(y_test, y_pred_goodfit_test)\n",
        "mse_overfit_test = mean_squared_error(y_test, y_pred_overfit_test)\n",
        "\n",
        "r2_underfit_train = r2_score(y_train, y_pred_underfit_train)\n",
        "r2_goodfit_train = r2_score(y_train, y_pred_goodfit_train)\n",
        "r2_overfit_train = r2_score(y_train, y_pred_overfit_train)\n",
        "\n",
        "r2_underfit_test = r2_score(y_test, y_pred_underfit_test)\n",
        "r2_goodfit_test = r2_score(y_test, y_pred_goodfit_test)\n",
        "r2_overfit_test = r2_score(y_test, y_pred_overfit_test)\n",
        "\n",
        "# Print the results\n",
        "print(\"MSE and R-squared scores for different models:\")\n",
        "print(\"Underfit (Training) - MSE: {:.4f}, R-squared: {:.4f}\".format(mse_underfit_train, r2_underfit_train))\n",
        "print(\"Good Fit (Training) - MSE: {:.4f}, R-squared: {:.4f}\".format(mse_goodfit_train, r2_goodfit_train))\n",
        "print(\"Overfit (Training) - MSE: {:.4f}, R-squared: {:.4f}\".format(mse_overfit_train, r2_overfit_train))\n",
        "print(\"Underfit (Test) - MSE: {:.4f}, R-squared: {:.4f}\".format(mse_underfit_test, r2_underfit_test))\n",
        "print(\"Good Fit (Test) - MSE: {:.4f}, R-squared: {:.4f}\".format(mse_goodfit_test, r2_goodfit_test))\n",
        "print(\"Overfit (Test) - MSE: {:.4f}, R-squared: {:.4f}\".format(mse_overfit_test, r2_overfit_test))\n"
      ]
    },
    {
      "cell_type": "markdown",
      "metadata": {
        "id": "LqbKgHj42pbK"
      },
      "source": [
        "## Results"
      ]
    },
    {
      "cell_type": "code",
      "execution_count": null,
      "metadata": {
        "colab": {
          "base_uri": "https://localhost:8080/",
          "height": 789
        },
        "id": "5qmUnLoT2pbL",
        "outputId": "f731e378-2f1d-42d8-aba9-d8001f169747"
      },
      "outputs": [],
      "source": [
        "# comparing all metrics for this stage of analysis\n",
        "fig, ax = plt.subplots(2, 3, sharex=True, sharey=False, figsize=(30, 10), dpi=300)\n",
        "x_labels = results['ml_algorithm']\n",
        "indices = np.arange(len(x_labels))\n",
        "width = 0.3\n",
        "\n",
        "#row=0, col=0\n",
        "ax[0,0].bar(indices,results['mae'],color=\"lightcoral\",alpha=1,label=\"MAE\")\n",
        "ax[0,0].grid(True,alpha=0.5)\n",
        "# ax[0,0].set_ylim(0,1)\n",
        "ax[0,0].set_xlabel(\"algorithm\")\n",
        "ax[0,0].set_ylabel(\"MAE\")\n",
        "ax[0,0].set_title(\"MAE Comparison\")\n",
        "ax[0,0].legend(loc='lower right')\n",
        "ax[0,0].set_xticks(indices, x_labels, rotation=45)\n",
        "\n",
        "#row=0, col=1\n",
        "ax[0,1].bar(indices,results['mse'],color=\"gold\",alpha=1,label=\"MSE\")\n",
        "ax[0,1].grid(True,alpha=0.5)\n",
        "# ax[0,1].set_ylim(0,1)\n",
        "ax[0,1].set_xlabel(\"algorithm\")\n",
        "ax[0,1].set_ylabel(\"MSE\")\n",
        "ax[0,1].set_title(\"MSE Comparison\")\n",
        "ax[0,1].legend(loc='lower right')\n",
        "ax[0,1].set_xticks(indices, x_labels, rotation=45)\n",
        "\n",
        "#row=0, col=2\n",
        "ax[0,2].bar(indices,results['rmse'],color=\"lightgreen\",alpha=1,label=\"RMSE\")\n",
        "ax[0,2].grid(True,alpha=0.5)\n",
        "# ax[0,2].set_ylim(0,1)\n",
        "ax[0,2].set_xlabel(\"algorithm\")\n",
        "ax[0,2].set_ylabel(\"RMSE\")\n",
        "ax[0,2].set_title(\"RMSE Comparison\")\n",
        "ax[0,2].legend(loc='lower right')\n",
        "ax[0,2].set_xticks(indices, x_labels, rotation=45)\n",
        "\n",
        "#row=1, col=0\n",
        "ax[1,0].bar(indices,results['r2'],color=\"lightskyblue\",alpha=1,label=\"R2\")\n",
        "ax[1,0].grid(True,alpha=0.5)\n",
        "# ax[1,0].set_ylim(0,1)\n",
        "ax[1,0].set_xlabel(\"algorithm\")\n",
        "ax[1,0].set_ylabel(\"R2\")\n",
        "ax[1,0].set_title(\"R2 Comparison\")\n",
        "ax[1,0].legend(loc='lower right')\n",
        "ax[1,0].set_xticks(indices, x_labels, rotation=45)\n",
        "\n",
        "#row=1, col=1\n",
        "ax[1,1].bar(indices,results['adjusted_r2'],color=\"mediumpurple\",alpha=1,label=\"Adjusted R2\")\n",
        "ax[1,1].grid(True,alpha=0.5)\n",
        "# ax[1,1].set_ylim(0,1)\n",
        "ax[1,1].set_xlabel(\"algorithm\")\n",
        "ax[1,1].set_ylabel(\"Adjusted R2\")\n",
        "ax[1,1].set_title(\"Adjusted R2 Comparison\")\n",
        "ax[1,1].legend(loc='lower right')\n",
        "ax[1,1].set_xticks(indices, x_labels, rotation=45)\n",
        "\n",
        "#row=1, col=2\n",
        "ax[1,2].bar(indices,results['cross_val'],color=\"darkgrey\",alpha=1,label=\"Cross-Validation Score\")\n",
        "ax[1,2].grid(True,alpha=0.5)\n",
        "# ax[1,2].set_ylim(0,1)\n",
        "ax[1,2].set_xlabel(\"algorithm\")\n",
        "ax[1,2].set_ylabel(\"Mean Cross-Validation Score\")\n",
        "ax[1,2].set_title(\"Mean Cross-Validation Score Comparison\")\n",
        "ax[1,2].legend(loc='lower right')\n",
        "ax[1,2].set_xticks(indices, x_labels, rotation=45)"
      ]
    },
    {
      "cell_type": "markdown",
      "metadata": {
        "id": "Zkcif5fSsEOt"
      },
      "source": [
        "## Discussion and Conclusion\n",
        "\n",
        "MAE (Mean Absolute Error) measures mean absolute difference between actual and predicted values. The lower the MAE value, the more accurate the model is. In our case, we see that the Support Vector Regression model has the lowest MAE, which taking into account our target variable, Caffeine (mg), indicates that on average, the model predicts the value of caffeine amount differs from the actual caffeiene amount by 34 mg. The next well-performing models are Random Forest and Lasso Regression, with MAE values of 44 and 59 mg respectively. The worst-performing models are Linear Regression and Decision Tree, with MAE values of 85 and 86 mg of caffeine, which is too big a difference.\n",
        "\n",
        "MSE (Mean Squared Error) measures mean squared difference between actual and prediced values, and penalizes the error more and to see how the outliers are affecting the predictions. The lower the MSE value, the more accurate the model is. The RMSE is just the squared root of the MSE value. In our case, we find that the Support Vector Regression model again has the lowest RMSE of 52 mg, followed by Random Forest and Lasso Regression, with RMSE values of 56 and 72 mg respectively. Again, we find the worst-performing models are Linear Regression and Decision Tree, with RMSE values of 90 and 104 mg respectively.\n",
        "\n",
        "R2 measures how the independent variable(s) (X) affect the dependent/target variable, Y. R2 value is always betweeen 0 and 1, where 0 indicates the model does not explain any variablity in the target variable, and 1 indicates it explains full variability in Y. We find that the Decision Tree model has a negative R2 value, which is not possible and indicates either there is something wrong with the model, or it is not a good fit for our problem. We will disregard it. The other 4 models have R2 values less than 0.5, indicating the model explains some variability in the target variable to a lesser extent.\n",
        "\n",
        "Adjusted R2 takes into account the number of features in the model and its degrees of freedom. Its value only increases if the new term improves the accuracy. We see that the adjusted R2 value are proportionate to the R2 values and follow that same pattern, which indicates the model is not too complex.\n",
        "\n"
      ]
    }
  ],
  "metadata": {
    "colab": {
      "provenance": []
    },
    "kernelspec": {
      "display_name": "Python 3",
      "language": "python",
      "name": "python3"
    },
    "language_info": {
      "codemirror_mode": {
        "name": "ipython",
        "version": 3
      },
      "file_extension": ".py",
      "mimetype": "text/x-python",
      "name": "python",
      "nbconvert_exporter": "python",
      "pygments_lexer": "ipython3",
      "version": "3.11.4"
    },
    "orig_nbformat": 4
  },
  "nbformat": 4,
  "nbformat_minor": 0
}
