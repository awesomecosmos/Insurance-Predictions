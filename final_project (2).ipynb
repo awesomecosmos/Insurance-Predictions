{
  "cells": [
    {
      "cell_type": "markdown",
      "metadata": {
        "id": "RgLIOmHj2paw"
      },
      "source": [
        "# CS677 Machine Learning Final Project\n",
        "## Insurance Cost Per Family\n",
        "\n",
        "by Kelsey Woods and Aayushi Verma"
      ]
    },
    {
      "cell_type": "markdown",
      "metadata": {
        "id": "phmkYK6O2pa2"
      },
      "source": [
        "We are using a dataset titled Medical Cost Personal Dataset by Kaggle https://www.kaggle.com/datasets/mirichoi0218/insurance?resource=download. It lists the cost per family and its possibly associated factors."
      ]
    },
    {
      "cell_type": "code",
      "execution_count": 93,
      "metadata": {
        "id": "AyXWXWBd2pa2"
      },
      "outputs": [],
      "source": [
        "# importing packages\n",
        "import numpy as np\n",
        "import pandas as pd\n",
        "import seaborn as sns\n",
        "import matplotlib.pyplot as plt\n",
        "from sklearn.metrics import accuracy_score, recall_score, precision_score, f1_score, confusion_matrix\n",
        "from sklearn.metrics import ConfusionMatrixDisplay\n",
        "from sklearn.model_selection import train_test_split\n",
        "from sklearn.svm import SVR\n",
        "from sklearn import metrics\n",
        "from sklearn.metrics import mean_squared_error, mean_absolute_error, r2_score\n",
        "from sklearn.linear_model import LinearRegression\n",
        "from sklearn.linear_model import Lasso\n",
        "from sklearn.ensemble import RandomForestRegressor\n",
        "from sklearn.model_selection import cross_val_score\n",
        "from sklearn.tree import DecisionTreeClassifier"
      ]
    },
    {
      "cell_type": "markdown",
      "metadata": {
        "id": "QiCWXMLl_2zJ"
      },
      "source": [
        "### Preparation & EDA\n",
        "\n",
        "We start by performing Exploratory Data Analysis and cleaning on this dataset to prepare for the machine learning process."
      ]
    },
    {
      "cell_type": "code",
      "execution_count": 94,
      "metadata": {
        "id": "CrwyXNd32pa4"
      },
      "outputs": [],
      "source": [
        "# reading data\n",
        "df = pd.read_csv('/content/insurance.csv')"
      ]
    },
    {
      "cell_type": "code",
      "execution_count": 95,
      "metadata": {
        "colab": {
          "base_uri": "https://localhost:8080/",
          "height": 990
        },
        "id": "3Dh_etkG2pa5",
        "outputId": "44497599-2cc5-4369-e439-0792270d185f"
      },
      "outputs": [
        {
          "output_type": "execute_result",
          "data": {
            "text/plain": [
              "    age     sex     bmi  children smoker     region      charges\n",
              "0    19  female  27.900         0    yes  southwest  16884.92400\n",
              "1    18    male  33.770         1     no  southeast   1725.55230\n",
              "2    28    male  33.000         3     no  southeast   4449.46200\n",
              "3    33    male  22.705         0     no  northwest  21984.47061\n",
              "4    32    male  28.880         0     no  northwest   3866.85520\n",
              "5    31  female  25.740         0     no  southeast   3756.62160\n",
              "6    46  female  33.440         1     no  southeast   8240.58960\n",
              "7    37  female  27.740         3     no  northwest   7281.50560\n",
              "8    37    male  29.830         2     no  northeast   6406.41070\n",
              "9    60  female  25.840         0     no  northwest  28923.13692\n",
              "10   25    male  26.220         0     no  northeast   2721.32080\n",
              "11   62  female  26.290         0    yes  southeast  27808.72510\n",
              "12   23    male  34.400         0     no  southwest   1826.84300\n",
              "13   56  female  39.820         0     no  southeast  11090.71780\n",
              "14   27    male  42.130         0    yes  southeast  39611.75770\n",
              "15   19    male  24.600         1     no  southwest   1837.23700\n",
              "16   52  female  30.780         1     no  northeast  10797.33620\n",
              "17   23    male  23.845         0     no  northeast   2395.17155\n",
              "18   56    male  40.300         0     no  southwest  10602.38500\n",
              "19   30    male  35.300         0    yes  southwest  36837.46700\n",
              "20   60  female  36.005         0     no  northeast  13228.84695\n",
              "21   30  female  32.400         1     no  southwest   4149.73600\n",
              "22   18    male  34.100         0     no  southeast   1137.01100\n",
              "23   34  female  31.920         1    yes  northeast  37701.87680\n",
              "24   37    male  28.025         2     no  northwest   6203.90175\n",
              "25   59  female  27.720         3     no  southeast  14001.13380\n",
              "26   63  female  23.085         0     no  northeast  14451.83515\n",
              "27   55  female  32.775         2     no  northwest  12268.63225\n",
              "28   23    male  17.385         1     no  northwest   2775.19215\n",
              "29   31    male  36.300         2    yes  southwest  38711.00000"
            ],
            "text/html": [
              "\n",
              "\n",
              "  <div id=\"df-b65a7821-b15a-4ba6-994a-24920f6eb3fb\">\n",
              "    <div class=\"colab-df-container\">\n",
              "      <div>\n",
              "<style scoped>\n",
              "    .dataframe tbody tr th:only-of-type {\n",
              "        vertical-align: middle;\n",
              "    }\n",
              "\n",
              "    .dataframe tbody tr th {\n",
              "        vertical-align: top;\n",
              "    }\n",
              "\n",
              "    .dataframe thead th {\n",
              "        text-align: right;\n",
              "    }\n",
              "</style>\n",
              "<table border=\"1\" class=\"dataframe\">\n",
              "  <thead>\n",
              "    <tr style=\"text-align: right;\">\n",
              "      <th></th>\n",
              "      <th>age</th>\n",
              "      <th>sex</th>\n",
              "      <th>bmi</th>\n",
              "      <th>children</th>\n",
              "      <th>smoker</th>\n",
              "      <th>region</th>\n",
              "      <th>charges</th>\n",
              "    </tr>\n",
              "  </thead>\n",
              "  <tbody>\n",
              "    <tr>\n",
              "      <th>0</th>\n",
              "      <td>19</td>\n",
              "      <td>female</td>\n",
              "      <td>27.900</td>\n",
              "      <td>0</td>\n",
              "      <td>yes</td>\n",
              "      <td>southwest</td>\n",
              "      <td>16884.92400</td>\n",
              "    </tr>\n",
              "    <tr>\n",
              "      <th>1</th>\n",
              "      <td>18</td>\n",
              "      <td>male</td>\n",
              "      <td>33.770</td>\n",
              "      <td>1</td>\n",
              "      <td>no</td>\n",
              "      <td>southeast</td>\n",
              "      <td>1725.55230</td>\n",
              "    </tr>\n",
              "    <tr>\n",
              "      <th>2</th>\n",
              "      <td>28</td>\n",
              "      <td>male</td>\n",
              "      <td>33.000</td>\n",
              "      <td>3</td>\n",
              "      <td>no</td>\n",
              "      <td>southeast</td>\n",
              "      <td>4449.46200</td>\n",
              "    </tr>\n",
              "    <tr>\n",
              "      <th>3</th>\n",
              "      <td>33</td>\n",
              "      <td>male</td>\n",
              "      <td>22.705</td>\n",
              "      <td>0</td>\n",
              "      <td>no</td>\n",
              "      <td>northwest</td>\n",
              "      <td>21984.47061</td>\n",
              "    </tr>\n",
              "    <tr>\n",
              "      <th>4</th>\n",
              "      <td>32</td>\n",
              "      <td>male</td>\n",
              "      <td>28.880</td>\n",
              "      <td>0</td>\n",
              "      <td>no</td>\n",
              "      <td>northwest</td>\n",
              "      <td>3866.85520</td>\n",
              "    </tr>\n",
              "    <tr>\n",
              "      <th>5</th>\n",
              "      <td>31</td>\n",
              "      <td>female</td>\n",
              "      <td>25.740</td>\n",
              "      <td>0</td>\n",
              "      <td>no</td>\n",
              "      <td>southeast</td>\n",
              "      <td>3756.62160</td>\n",
              "    </tr>\n",
              "    <tr>\n",
              "      <th>6</th>\n",
              "      <td>46</td>\n",
              "      <td>female</td>\n",
              "      <td>33.440</td>\n",
              "      <td>1</td>\n",
              "      <td>no</td>\n",
              "      <td>southeast</td>\n",
              "      <td>8240.58960</td>\n",
              "    </tr>\n",
              "    <tr>\n",
              "      <th>7</th>\n",
              "      <td>37</td>\n",
              "      <td>female</td>\n",
              "      <td>27.740</td>\n",
              "      <td>3</td>\n",
              "      <td>no</td>\n",
              "      <td>northwest</td>\n",
              "      <td>7281.50560</td>\n",
              "    </tr>\n",
              "    <tr>\n",
              "      <th>8</th>\n",
              "      <td>37</td>\n",
              "      <td>male</td>\n",
              "      <td>29.830</td>\n",
              "      <td>2</td>\n",
              "      <td>no</td>\n",
              "      <td>northeast</td>\n",
              "      <td>6406.41070</td>\n",
              "    </tr>\n",
              "    <tr>\n",
              "      <th>9</th>\n",
              "      <td>60</td>\n",
              "      <td>female</td>\n",
              "      <td>25.840</td>\n",
              "      <td>0</td>\n",
              "      <td>no</td>\n",
              "      <td>northwest</td>\n",
              "      <td>28923.13692</td>\n",
              "    </tr>\n",
              "    <tr>\n",
              "      <th>10</th>\n",
              "      <td>25</td>\n",
              "      <td>male</td>\n",
              "      <td>26.220</td>\n",
              "      <td>0</td>\n",
              "      <td>no</td>\n",
              "      <td>northeast</td>\n",
              "      <td>2721.32080</td>\n",
              "    </tr>\n",
              "    <tr>\n",
              "      <th>11</th>\n",
              "      <td>62</td>\n",
              "      <td>female</td>\n",
              "      <td>26.290</td>\n",
              "      <td>0</td>\n",
              "      <td>yes</td>\n",
              "      <td>southeast</td>\n",
              "      <td>27808.72510</td>\n",
              "    </tr>\n",
              "    <tr>\n",
              "      <th>12</th>\n",
              "      <td>23</td>\n",
              "      <td>male</td>\n",
              "      <td>34.400</td>\n",
              "      <td>0</td>\n",
              "      <td>no</td>\n",
              "      <td>southwest</td>\n",
              "      <td>1826.84300</td>\n",
              "    </tr>\n",
              "    <tr>\n",
              "      <th>13</th>\n",
              "      <td>56</td>\n",
              "      <td>female</td>\n",
              "      <td>39.820</td>\n",
              "      <td>0</td>\n",
              "      <td>no</td>\n",
              "      <td>southeast</td>\n",
              "      <td>11090.71780</td>\n",
              "    </tr>\n",
              "    <tr>\n",
              "      <th>14</th>\n",
              "      <td>27</td>\n",
              "      <td>male</td>\n",
              "      <td>42.130</td>\n",
              "      <td>0</td>\n",
              "      <td>yes</td>\n",
              "      <td>southeast</td>\n",
              "      <td>39611.75770</td>\n",
              "    </tr>\n",
              "    <tr>\n",
              "      <th>15</th>\n",
              "      <td>19</td>\n",
              "      <td>male</td>\n",
              "      <td>24.600</td>\n",
              "      <td>1</td>\n",
              "      <td>no</td>\n",
              "      <td>southwest</td>\n",
              "      <td>1837.23700</td>\n",
              "    </tr>\n",
              "    <tr>\n",
              "      <th>16</th>\n",
              "      <td>52</td>\n",
              "      <td>female</td>\n",
              "      <td>30.780</td>\n",
              "      <td>1</td>\n",
              "      <td>no</td>\n",
              "      <td>northeast</td>\n",
              "      <td>10797.33620</td>\n",
              "    </tr>\n",
              "    <tr>\n",
              "      <th>17</th>\n",
              "      <td>23</td>\n",
              "      <td>male</td>\n",
              "      <td>23.845</td>\n",
              "      <td>0</td>\n",
              "      <td>no</td>\n",
              "      <td>northeast</td>\n",
              "      <td>2395.17155</td>\n",
              "    </tr>\n",
              "    <tr>\n",
              "      <th>18</th>\n",
              "      <td>56</td>\n",
              "      <td>male</td>\n",
              "      <td>40.300</td>\n",
              "      <td>0</td>\n",
              "      <td>no</td>\n",
              "      <td>southwest</td>\n",
              "      <td>10602.38500</td>\n",
              "    </tr>\n",
              "    <tr>\n",
              "      <th>19</th>\n",
              "      <td>30</td>\n",
              "      <td>male</td>\n",
              "      <td>35.300</td>\n",
              "      <td>0</td>\n",
              "      <td>yes</td>\n",
              "      <td>southwest</td>\n",
              "      <td>36837.46700</td>\n",
              "    </tr>\n",
              "    <tr>\n",
              "      <th>20</th>\n",
              "      <td>60</td>\n",
              "      <td>female</td>\n",
              "      <td>36.005</td>\n",
              "      <td>0</td>\n",
              "      <td>no</td>\n",
              "      <td>northeast</td>\n",
              "      <td>13228.84695</td>\n",
              "    </tr>\n",
              "    <tr>\n",
              "      <th>21</th>\n",
              "      <td>30</td>\n",
              "      <td>female</td>\n",
              "      <td>32.400</td>\n",
              "      <td>1</td>\n",
              "      <td>no</td>\n",
              "      <td>southwest</td>\n",
              "      <td>4149.73600</td>\n",
              "    </tr>\n",
              "    <tr>\n",
              "      <th>22</th>\n",
              "      <td>18</td>\n",
              "      <td>male</td>\n",
              "      <td>34.100</td>\n",
              "      <td>0</td>\n",
              "      <td>no</td>\n",
              "      <td>southeast</td>\n",
              "      <td>1137.01100</td>\n",
              "    </tr>\n",
              "    <tr>\n",
              "      <th>23</th>\n",
              "      <td>34</td>\n",
              "      <td>female</td>\n",
              "      <td>31.920</td>\n",
              "      <td>1</td>\n",
              "      <td>yes</td>\n",
              "      <td>northeast</td>\n",
              "      <td>37701.87680</td>\n",
              "    </tr>\n",
              "    <tr>\n",
              "      <th>24</th>\n",
              "      <td>37</td>\n",
              "      <td>male</td>\n",
              "      <td>28.025</td>\n",
              "      <td>2</td>\n",
              "      <td>no</td>\n",
              "      <td>northwest</td>\n",
              "      <td>6203.90175</td>\n",
              "    </tr>\n",
              "    <tr>\n",
              "      <th>25</th>\n",
              "      <td>59</td>\n",
              "      <td>female</td>\n",
              "      <td>27.720</td>\n",
              "      <td>3</td>\n",
              "      <td>no</td>\n",
              "      <td>southeast</td>\n",
              "      <td>14001.13380</td>\n",
              "    </tr>\n",
              "    <tr>\n",
              "      <th>26</th>\n",
              "      <td>63</td>\n",
              "      <td>female</td>\n",
              "      <td>23.085</td>\n",
              "      <td>0</td>\n",
              "      <td>no</td>\n",
              "      <td>northeast</td>\n",
              "      <td>14451.83515</td>\n",
              "    </tr>\n",
              "    <tr>\n",
              "      <th>27</th>\n",
              "      <td>55</td>\n",
              "      <td>female</td>\n",
              "      <td>32.775</td>\n",
              "      <td>2</td>\n",
              "      <td>no</td>\n",
              "      <td>northwest</td>\n",
              "      <td>12268.63225</td>\n",
              "    </tr>\n",
              "    <tr>\n",
              "      <th>28</th>\n",
              "      <td>23</td>\n",
              "      <td>male</td>\n",
              "      <td>17.385</td>\n",
              "      <td>1</td>\n",
              "      <td>no</td>\n",
              "      <td>northwest</td>\n",
              "      <td>2775.19215</td>\n",
              "    </tr>\n",
              "    <tr>\n",
              "      <th>29</th>\n",
              "      <td>31</td>\n",
              "      <td>male</td>\n",
              "      <td>36.300</td>\n",
              "      <td>2</td>\n",
              "      <td>yes</td>\n",
              "      <td>southwest</td>\n",
              "      <td>38711.00000</td>\n",
              "    </tr>\n",
              "  </tbody>\n",
              "</table>\n",
              "</div>\n",
              "      <button class=\"colab-df-convert\" onclick=\"convertToInteractive('df-b65a7821-b15a-4ba6-994a-24920f6eb3fb')\"\n",
              "              title=\"Convert this dataframe to an interactive table.\"\n",
              "              style=\"display:none;\">\n",
              "\n",
              "  <svg xmlns=\"http://www.w3.org/2000/svg\" height=\"24px\"viewBox=\"0 0 24 24\"\n",
              "       width=\"24px\">\n",
              "    <path d=\"M0 0h24v24H0V0z\" fill=\"none\"/>\n",
              "    <path d=\"M18.56 5.44l.94 2.06.94-2.06 2.06-.94-2.06-.94-.94-2.06-.94 2.06-2.06.94zm-11 1L8.5 8.5l.94-2.06 2.06-.94-2.06-.94L8.5 2.5l-.94 2.06-2.06.94zm10 10l.94 2.06.94-2.06 2.06-.94-2.06-.94-.94-2.06-.94 2.06-2.06.94z\"/><path d=\"M17.41 7.96l-1.37-1.37c-.4-.4-.92-.59-1.43-.59-.52 0-1.04.2-1.43.59L10.3 9.45l-7.72 7.72c-.78.78-.78 2.05 0 2.83L4 21.41c.39.39.9.59 1.41.59.51 0 1.02-.2 1.41-.59l7.78-7.78 2.81-2.81c.8-.78.8-2.07 0-2.86zM5.41 20L4 18.59l7.72-7.72 1.47 1.35L5.41 20z\"/>\n",
              "  </svg>\n",
              "      </button>\n",
              "\n",
              "\n",
              "\n",
              "    <div id=\"df-3a8fb0f2-c09c-4f4e-81ba-4ebc8ca0e5a7\">\n",
              "      <button class=\"colab-df-quickchart\" onclick=\"quickchart('df-3a8fb0f2-c09c-4f4e-81ba-4ebc8ca0e5a7')\"\n",
              "              title=\"Suggest charts.\"\n",
              "              style=\"display:none;\">\n",
              "\n",
              "<svg xmlns=\"http://www.w3.org/2000/svg\" height=\"24px\"viewBox=\"0 0 24 24\"\n",
              "     width=\"24px\">\n",
              "    <g>\n",
              "        <path d=\"M19 3H5c-1.1 0-2 .9-2 2v14c0 1.1.9 2 2 2h14c1.1 0 2-.9 2-2V5c0-1.1-.9-2-2-2zM9 17H7v-7h2v7zm4 0h-2V7h2v10zm4 0h-2v-4h2v4z\"/>\n",
              "    </g>\n",
              "</svg>\n",
              "      </button>\n",
              "    </div>\n",
              "\n",
              "<style>\n",
              "  .colab-df-quickchart {\n",
              "    background-color: #E8F0FE;\n",
              "    border: none;\n",
              "    border-radius: 50%;\n",
              "    cursor: pointer;\n",
              "    display: none;\n",
              "    fill: #1967D2;\n",
              "    height: 32px;\n",
              "    padding: 0 0 0 0;\n",
              "    width: 32px;\n",
              "  }\n",
              "\n",
              "  .colab-df-quickchart:hover {\n",
              "    background-color: #E2EBFA;\n",
              "    box-shadow: 0px 1px 2px rgba(60, 64, 67, 0.3), 0px 1px 3px 1px rgba(60, 64, 67, 0.15);\n",
              "    fill: #174EA6;\n",
              "  }\n",
              "\n",
              "  [theme=dark] .colab-df-quickchart {\n",
              "    background-color: #3B4455;\n",
              "    fill: #D2E3FC;\n",
              "  }\n",
              "\n",
              "  [theme=dark] .colab-df-quickchart:hover {\n",
              "    background-color: #434B5C;\n",
              "    box-shadow: 0px 1px 3px 1px rgba(0, 0, 0, 0.15);\n",
              "    filter: drop-shadow(0px 1px 2px rgba(0, 0, 0, 0.3));\n",
              "    fill: #FFFFFF;\n",
              "  }\n",
              "</style>\n",
              "\n",
              "    <script>\n",
              "      async function quickchart(key) {\n",
              "        const containerElement = document.querySelector('#' + key);\n",
              "        const charts = await google.colab.kernel.invokeFunction(\n",
              "            'suggestCharts', [key], {});\n",
              "      }\n",
              "    </script>\n",
              "\n",
              "      <script>\n",
              "\n",
              "function displayQuickchartButton(domScope) {\n",
              "  let quickchartButtonEl =\n",
              "    domScope.querySelector('#df-3a8fb0f2-c09c-4f4e-81ba-4ebc8ca0e5a7 button.colab-df-quickchart');\n",
              "  quickchartButtonEl.style.display =\n",
              "    google.colab.kernel.accessAllowed ? 'block' : 'none';\n",
              "}\n",
              "\n",
              "        displayQuickchartButton(document);\n",
              "      </script>\n",
              "      <style>\n",
              "    .colab-df-container {\n",
              "      display:flex;\n",
              "      flex-wrap:wrap;\n",
              "      gap: 12px;\n",
              "    }\n",
              "\n",
              "    .colab-df-convert {\n",
              "      background-color: #E8F0FE;\n",
              "      border: none;\n",
              "      border-radius: 50%;\n",
              "      cursor: pointer;\n",
              "      display: none;\n",
              "      fill: #1967D2;\n",
              "      height: 32px;\n",
              "      padding: 0 0 0 0;\n",
              "      width: 32px;\n",
              "    }\n",
              "\n",
              "    .colab-df-convert:hover {\n",
              "      background-color: #E2EBFA;\n",
              "      box-shadow: 0px 1px 2px rgba(60, 64, 67, 0.3), 0px 1px 3px 1px rgba(60, 64, 67, 0.15);\n",
              "      fill: #174EA6;\n",
              "    }\n",
              "\n",
              "    [theme=dark] .colab-df-convert {\n",
              "      background-color: #3B4455;\n",
              "      fill: #D2E3FC;\n",
              "    }\n",
              "\n",
              "    [theme=dark] .colab-df-convert:hover {\n",
              "      background-color: #434B5C;\n",
              "      box-shadow: 0px 1px 3px 1px rgba(0, 0, 0, 0.15);\n",
              "      filter: drop-shadow(0px 1px 2px rgba(0, 0, 0, 0.3));\n",
              "      fill: #FFFFFF;\n",
              "    }\n",
              "  </style>\n",
              "\n",
              "      <script>\n",
              "        const buttonEl =\n",
              "          document.querySelector('#df-b65a7821-b15a-4ba6-994a-24920f6eb3fb button.colab-df-convert');\n",
              "        buttonEl.style.display =\n",
              "          google.colab.kernel.accessAllowed ? 'block' : 'none';\n",
              "\n",
              "        async function convertToInteractive(key) {\n",
              "          const element = document.querySelector('#df-b65a7821-b15a-4ba6-994a-24920f6eb3fb');\n",
              "          const dataTable =\n",
              "            await google.colab.kernel.invokeFunction('convertToInteractive',\n",
              "                                                     [key], {});\n",
              "          if (!dataTable) return;\n",
              "\n",
              "          const docLinkHtml = 'Like what you see? Visit the ' +\n",
              "            '<a target=\"_blank\" href=https://colab.research.google.com/notebooks/data_table.ipynb>data table notebook</a>'\n",
              "            + ' to learn more about interactive tables.';\n",
              "          element.innerHTML = '';\n",
              "          dataTable['output_type'] = 'display_data';\n",
              "          await google.colab.output.renderOutput(dataTable, element);\n",
              "          const docLink = document.createElement('div');\n",
              "          docLink.innerHTML = docLinkHtml;\n",
              "          element.appendChild(docLink);\n",
              "        }\n",
              "      </script>\n",
              "    </div>\n",
              "  </div>\n"
            ]
          },
          "metadata": {},
          "execution_count": 95
        }
      ],
      "source": [
        "# checking data structure\n",
        "df.head(30)"
      ]
    },
    {
      "cell_type": "code",
      "execution_count": 96,
      "metadata": {
        "colab": {
          "base_uri": "https://localhost:8080/"
        },
        "id": "ILARcCgG2pa6",
        "outputId": "6bae2fb7-252c-42fc-9d4b-c44bdbe80bd0"
      },
      "outputs": [
        {
          "output_type": "stream",
          "name": "stdout",
          "text": [
            "<class 'pandas.core.frame.DataFrame'>\n",
            "RangeIndex: 1338 entries, 0 to 1337\n",
            "Data columns (total 7 columns):\n",
            " #   Column    Non-Null Count  Dtype  \n",
            "---  ------    --------------  -----  \n",
            " 0   age       1338 non-null   int64  \n",
            " 1   sex       1338 non-null   object \n",
            " 2   bmi       1338 non-null   float64\n",
            " 3   children  1338 non-null   int64  \n",
            " 4   smoker    1338 non-null   object \n",
            " 5   region    1338 non-null   object \n",
            " 6   charges   1338 non-null   float64\n",
            "dtypes: float64(2), int64(2), object(3)\n",
            "memory usage: 73.3+ KB\n"
          ]
        }
      ],
      "source": [
        "# checking data content\n",
        "df.info()"
      ]
    },
    {
      "cell_type": "code",
      "source": [
        "for col in df.columns:\n",
        "    df.loc[df[col] == \"yes\", col] = 1\n",
        "    df.loc[df[col] == \"no\", col] = 0\n",
        "    df.loc[df[col] == \"female\", col] = 1\n",
        "    df.loc[df[col] == \"male\", col] = 0\n",
        "    df.loc[df[col] == \"southwest\", col] = 1\n",
        "    df.loc[df[col] == \"northwest\", col] = 2\n",
        "    df.loc[df[col] == \"southeast\", col] = 3\n",
        "    df.loc[df[col] == \"northeast\", col] = 4"
      ],
      "metadata": {
        "id": "cjbOD5O-zCCe"
      },
      "execution_count": 97,
      "outputs": []
    },
    {
      "cell_type": "code",
      "source": [
        "df.head(20)"
      ],
      "metadata": {
        "colab": {
          "base_uri": "https://localhost:8080/",
          "height": 676
        },
        "id": "l9ueeA3paqrH",
        "outputId": "b2eece78-14a1-4460-f230-32d7b70f01e9"
      },
      "execution_count": 98,
      "outputs": [
        {
          "output_type": "execute_result",
          "data": {
            "text/plain": [
              "    age sex     bmi  children smoker region      charges\n",
              "0    19   1  27.900         0      1      1  16884.92400\n",
              "1    18   0  33.770         1      0      3   1725.55230\n",
              "2    28   0  33.000         3      0      3   4449.46200\n",
              "3    33   0  22.705         0      0      2  21984.47061\n",
              "4    32   0  28.880         0      0      2   3866.85520\n",
              "5    31   1  25.740         0      0      3   3756.62160\n",
              "6    46   1  33.440         1      0      3   8240.58960\n",
              "7    37   1  27.740         3      0      2   7281.50560\n",
              "8    37   0  29.830         2      0      4   6406.41070\n",
              "9    60   1  25.840         0      0      2  28923.13692\n",
              "10   25   0  26.220         0      0      4   2721.32080\n",
              "11   62   1  26.290         0      1      3  27808.72510\n",
              "12   23   0  34.400         0      0      1   1826.84300\n",
              "13   56   1  39.820         0      0      3  11090.71780\n",
              "14   27   0  42.130         0      1      3  39611.75770\n",
              "15   19   0  24.600         1      0      1   1837.23700\n",
              "16   52   1  30.780         1      0      4  10797.33620\n",
              "17   23   0  23.845         0      0      4   2395.17155\n",
              "18   56   0  40.300         0      0      1  10602.38500\n",
              "19   30   0  35.300         0      1      1  36837.46700"
            ],
            "text/html": [
              "\n",
              "\n",
              "  <div id=\"df-d28917f0-bfc2-4d75-991f-be7e70c4d804\">\n",
              "    <div class=\"colab-df-container\">\n",
              "      <div>\n",
              "<style scoped>\n",
              "    .dataframe tbody tr th:only-of-type {\n",
              "        vertical-align: middle;\n",
              "    }\n",
              "\n",
              "    .dataframe tbody tr th {\n",
              "        vertical-align: top;\n",
              "    }\n",
              "\n",
              "    .dataframe thead th {\n",
              "        text-align: right;\n",
              "    }\n",
              "</style>\n",
              "<table border=\"1\" class=\"dataframe\">\n",
              "  <thead>\n",
              "    <tr style=\"text-align: right;\">\n",
              "      <th></th>\n",
              "      <th>age</th>\n",
              "      <th>sex</th>\n",
              "      <th>bmi</th>\n",
              "      <th>children</th>\n",
              "      <th>smoker</th>\n",
              "      <th>region</th>\n",
              "      <th>charges</th>\n",
              "    </tr>\n",
              "  </thead>\n",
              "  <tbody>\n",
              "    <tr>\n",
              "      <th>0</th>\n",
              "      <td>19</td>\n",
              "      <td>1</td>\n",
              "      <td>27.900</td>\n",
              "      <td>0</td>\n",
              "      <td>1</td>\n",
              "      <td>1</td>\n",
              "      <td>16884.92400</td>\n",
              "    </tr>\n",
              "    <tr>\n",
              "      <th>1</th>\n",
              "      <td>18</td>\n",
              "      <td>0</td>\n",
              "      <td>33.770</td>\n",
              "      <td>1</td>\n",
              "      <td>0</td>\n",
              "      <td>3</td>\n",
              "      <td>1725.55230</td>\n",
              "    </tr>\n",
              "    <tr>\n",
              "      <th>2</th>\n",
              "      <td>28</td>\n",
              "      <td>0</td>\n",
              "      <td>33.000</td>\n",
              "      <td>3</td>\n",
              "      <td>0</td>\n",
              "      <td>3</td>\n",
              "      <td>4449.46200</td>\n",
              "    </tr>\n",
              "    <tr>\n",
              "      <th>3</th>\n",
              "      <td>33</td>\n",
              "      <td>0</td>\n",
              "      <td>22.705</td>\n",
              "      <td>0</td>\n",
              "      <td>0</td>\n",
              "      <td>2</td>\n",
              "      <td>21984.47061</td>\n",
              "    </tr>\n",
              "    <tr>\n",
              "      <th>4</th>\n",
              "      <td>32</td>\n",
              "      <td>0</td>\n",
              "      <td>28.880</td>\n",
              "      <td>0</td>\n",
              "      <td>0</td>\n",
              "      <td>2</td>\n",
              "      <td>3866.85520</td>\n",
              "    </tr>\n",
              "    <tr>\n",
              "      <th>5</th>\n",
              "      <td>31</td>\n",
              "      <td>1</td>\n",
              "      <td>25.740</td>\n",
              "      <td>0</td>\n",
              "      <td>0</td>\n",
              "      <td>3</td>\n",
              "      <td>3756.62160</td>\n",
              "    </tr>\n",
              "    <tr>\n",
              "      <th>6</th>\n",
              "      <td>46</td>\n",
              "      <td>1</td>\n",
              "      <td>33.440</td>\n",
              "      <td>1</td>\n",
              "      <td>0</td>\n",
              "      <td>3</td>\n",
              "      <td>8240.58960</td>\n",
              "    </tr>\n",
              "    <tr>\n",
              "      <th>7</th>\n",
              "      <td>37</td>\n",
              "      <td>1</td>\n",
              "      <td>27.740</td>\n",
              "      <td>3</td>\n",
              "      <td>0</td>\n",
              "      <td>2</td>\n",
              "      <td>7281.50560</td>\n",
              "    </tr>\n",
              "    <tr>\n",
              "      <th>8</th>\n",
              "      <td>37</td>\n",
              "      <td>0</td>\n",
              "      <td>29.830</td>\n",
              "      <td>2</td>\n",
              "      <td>0</td>\n",
              "      <td>4</td>\n",
              "      <td>6406.41070</td>\n",
              "    </tr>\n",
              "    <tr>\n",
              "      <th>9</th>\n",
              "      <td>60</td>\n",
              "      <td>1</td>\n",
              "      <td>25.840</td>\n",
              "      <td>0</td>\n",
              "      <td>0</td>\n",
              "      <td>2</td>\n",
              "      <td>28923.13692</td>\n",
              "    </tr>\n",
              "    <tr>\n",
              "      <th>10</th>\n",
              "      <td>25</td>\n",
              "      <td>0</td>\n",
              "      <td>26.220</td>\n",
              "      <td>0</td>\n",
              "      <td>0</td>\n",
              "      <td>4</td>\n",
              "      <td>2721.32080</td>\n",
              "    </tr>\n",
              "    <tr>\n",
              "      <th>11</th>\n",
              "      <td>62</td>\n",
              "      <td>1</td>\n",
              "      <td>26.290</td>\n",
              "      <td>0</td>\n",
              "      <td>1</td>\n",
              "      <td>3</td>\n",
              "      <td>27808.72510</td>\n",
              "    </tr>\n",
              "    <tr>\n",
              "      <th>12</th>\n",
              "      <td>23</td>\n",
              "      <td>0</td>\n",
              "      <td>34.400</td>\n",
              "      <td>0</td>\n",
              "      <td>0</td>\n",
              "      <td>1</td>\n",
              "      <td>1826.84300</td>\n",
              "    </tr>\n",
              "    <tr>\n",
              "      <th>13</th>\n",
              "      <td>56</td>\n",
              "      <td>1</td>\n",
              "      <td>39.820</td>\n",
              "      <td>0</td>\n",
              "      <td>0</td>\n",
              "      <td>3</td>\n",
              "      <td>11090.71780</td>\n",
              "    </tr>\n",
              "    <tr>\n",
              "      <th>14</th>\n",
              "      <td>27</td>\n",
              "      <td>0</td>\n",
              "      <td>42.130</td>\n",
              "      <td>0</td>\n",
              "      <td>1</td>\n",
              "      <td>3</td>\n",
              "      <td>39611.75770</td>\n",
              "    </tr>\n",
              "    <tr>\n",
              "      <th>15</th>\n",
              "      <td>19</td>\n",
              "      <td>0</td>\n",
              "      <td>24.600</td>\n",
              "      <td>1</td>\n",
              "      <td>0</td>\n",
              "      <td>1</td>\n",
              "      <td>1837.23700</td>\n",
              "    </tr>\n",
              "    <tr>\n",
              "      <th>16</th>\n",
              "      <td>52</td>\n",
              "      <td>1</td>\n",
              "      <td>30.780</td>\n",
              "      <td>1</td>\n",
              "      <td>0</td>\n",
              "      <td>4</td>\n",
              "      <td>10797.33620</td>\n",
              "    </tr>\n",
              "    <tr>\n",
              "      <th>17</th>\n",
              "      <td>23</td>\n",
              "      <td>0</td>\n",
              "      <td>23.845</td>\n",
              "      <td>0</td>\n",
              "      <td>0</td>\n",
              "      <td>4</td>\n",
              "      <td>2395.17155</td>\n",
              "    </tr>\n",
              "    <tr>\n",
              "      <th>18</th>\n",
              "      <td>56</td>\n",
              "      <td>0</td>\n",
              "      <td>40.300</td>\n",
              "      <td>0</td>\n",
              "      <td>0</td>\n",
              "      <td>1</td>\n",
              "      <td>10602.38500</td>\n",
              "    </tr>\n",
              "    <tr>\n",
              "      <th>19</th>\n",
              "      <td>30</td>\n",
              "      <td>0</td>\n",
              "      <td>35.300</td>\n",
              "      <td>0</td>\n",
              "      <td>1</td>\n",
              "      <td>1</td>\n",
              "      <td>36837.46700</td>\n",
              "    </tr>\n",
              "  </tbody>\n",
              "</table>\n",
              "</div>\n",
              "      <button class=\"colab-df-convert\" onclick=\"convertToInteractive('df-d28917f0-bfc2-4d75-991f-be7e70c4d804')\"\n",
              "              title=\"Convert this dataframe to an interactive table.\"\n",
              "              style=\"display:none;\">\n",
              "\n",
              "  <svg xmlns=\"http://www.w3.org/2000/svg\" height=\"24px\"viewBox=\"0 0 24 24\"\n",
              "       width=\"24px\">\n",
              "    <path d=\"M0 0h24v24H0V0z\" fill=\"none\"/>\n",
              "    <path d=\"M18.56 5.44l.94 2.06.94-2.06 2.06-.94-2.06-.94-.94-2.06-.94 2.06-2.06.94zm-11 1L8.5 8.5l.94-2.06 2.06-.94-2.06-.94L8.5 2.5l-.94 2.06-2.06.94zm10 10l.94 2.06.94-2.06 2.06-.94-2.06-.94-.94-2.06-.94 2.06-2.06.94z\"/><path d=\"M17.41 7.96l-1.37-1.37c-.4-.4-.92-.59-1.43-.59-.52 0-1.04.2-1.43.59L10.3 9.45l-7.72 7.72c-.78.78-.78 2.05 0 2.83L4 21.41c.39.39.9.59 1.41.59.51 0 1.02-.2 1.41-.59l7.78-7.78 2.81-2.81c.8-.78.8-2.07 0-2.86zM5.41 20L4 18.59l7.72-7.72 1.47 1.35L5.41 20z\"/>\n",
              "  </svg>\n",
              "      </button>\n",
              "\n",
              "\n",
              "\n",
              "    <div id=\"df-70382f06-47ff-4083-ae4e-2d973875cb5f\">\n",
              "      <button class=\"colab-df-quickchart\" onclick=\"quickchart('df-70382f06-47ff-4083-ae4e-2d973875cb5f')\"\n",
              "              title=\"Suggest charts.\"\n",
              "              style=\"display:none;\">\n",
              "\n",
              "<svg xmlns=\"http://www.w3.org/2000/svg\" height=\"24px\"viewBox=\"0 0 24 24\"\n",
              "     width=\"24px\">\n",
              "    <g>\n",
              "        <path d=\"M19 3H5c-1.1 0-2 .9-2 2v14c0 1.1.9 2 2 2h14c1.1 0 2-.9 2-2V5c0-1.1-.9-2-2-2zM9 17H7v-7h2v7zm4 0h-2V7h2v10zm4 0h-2v-4h2v4z\"/>\n",
              "    </g>\n",
              "</svg>\n",
              "      </button>\n",
              "    </div>\n",
              "\n",
              "<style>\n",
              "  .colab-df-quickchart {\n",
              "    background-color: #E8F0FE;\n",
              "    border: none;\n",
              "    border-radius: 50%;\n",
              "    cursor: pointer;\n",
              "    display: none;\n",
              "    fill: #1967D2;\n",
              "    height: 32px;\n",
              "    padding: 0 0 0 0;\n",
              "    width: 32px;\n",
              "  }\n",
              "\n",
              "  .colab-df-quickchart:hover {\n",
              "    background-color: #E2EBFA;\n",
              "    box-shadow: 0px 1px 2px rgba(60, 64, 67, 0.3), 0px 1px 3px 1px rgba(60, 64, 67, 0.15);\n",
              "    fill: #174EA6;\n",
              "  }\n",
              "\n",
              "  [theme=dark] .colab-df-quickchart {\n",
              "    background-color: #3B4455;\n",
              "    fill: #D2E3FC;\n",
              "  }\n",
              "\n",
              "  [theme=dark] .colab-df-quickchart:hover {\n",
              "    background-color: #434B5C;\n",
              "    box-shadow: 0px 1px 3px 1px rgba(0, 0, 0, 0.15);\n",
              "    filter: drop-shadow(0px 1px 2px rgba(0, 0, 0, 0.3));\n",
              "    fill: #FFFFFF;\n",
              "  }\n",
              "</style>\n",
              "\n",
              "    <script>\n",
              "      async function quickchart(key) {\n",
              "        const containerElement = document.querySelector('#' + key);\n",
              "        const charts = await google.colab.kernel.invokeFunction(\n",
              "            'suggestCharts', [key], {});\n",
              "      }\n",
              "    </script>\n",
              "\n",
              "      <script>\n",
              "\n",
              "function displayQuickchartButton(domScope) {\n",
              "  let quickchartButtonEl =\n",
              "    domScope.querySelector('#df-70382f06-47ff-4083-ae4e-2d973875cb5f button.colab-df-quickchart');\n",
              "  quickchartButtonEl.style.display =\n",
              "    google.colab.kernel.accessAllowed ? 'block' : 'none';\n",
              "}\n",
              "\n",
              "        displayQuickchartButton(document);\n",
              "      </script>\n",
              "      <style>\n",
              "    .colab-df-container {\n",
              "      display:flex;\n",
              "      flex-wrap:wrap;\n",
              "      gap: 12px;\n",
              "    }\n",
              "\n",
              "    .colab-df-convert {\n",
              "      background-color: #E8F0FE;\n",
              "      border: none;\n",
              "      border-radius: 50%;\n",
              "      cursor: pointer;\n",
              "      display: none;\n",
              "      fill: #1967D2;\n",
              "      height: 32px;\n",
              "      padding: 0 0 0 0;\n",
              "      width: 32px;\n",
              "    }\n",
              "\n",
              "    .colab-df-convert:hover {\n",
              "      background-color: #E2EBFA;\n",
              "      box-shadow: 0px 1px 2px rgba(60, 64, 67, 0.3), 0px 1px 3px 1px rgba(60, 64, 67, 0.15);\n",
              "      fill: #174EA6;\n",
              "    }\n",
              "\n",
              "    [theme=dark] .colab-df-convert {\n",
              "      background-color: #3B4455;\n",
              "      fill: #D2E3FC;\n",
              "    }\n",
              "\n",
              "    [theme=dark] .colab-df-convert:hover {\n",
              "      background-color: #434B5C;\n",
              "      box-shadow: 0px 1px 3px 1px rgba(0, 0, 0, 0.15);\n",
              "      filter: drop-shadow(0px 1px 2px rgba(0, 0, 0, 0.3));\n",
              "      fill: #FFFFFF;\n",
              "    }\n",
              "  </style>\n",
              "\n",
              "      <script>\n",
              "        const buttonEl =\n",
              "          document.querySelector('#df-d28917f0-bfc2-4d75-991f-be7e70c4d804 button.colab-df-convert');\n",
              "        buttonEl.style.display =\n",
              "          google.colab.kernel.accessAllowed ? 'block' : 'none';\n",
              "\n",
              "        async function convertToInteractive(key) {\n",
              "          const element = document.querySelector('#df-d28917f0-bfc2-4d75-991f-be7e70c4d804');\n",
              "          const dataTable =\n",
              "            await google.colab.kernel.invokeFunction('convertToInteractive',\n",
              "                                                     [key], {});\n",
              "          if (!dataTable) return;\n",
              "\n",
              "          const docLinkHtml = 'Like what you see? Visit the ' +\n",
              "            '<a target=\"_blank\" href=https://colab.research.google.com/notebooks/data_table.ipynb>data table notebook</a>'\n",
              "            + ' to learn more about interactive tables.';\n",
              "          element.innerHTML = '';\n",
              "          dataTable['output_type'] = 'display_data';\n",
              "          await google.colab.output.renderOutput(dataTable, element);\n",
              "          const docLink = document.createElement('div');\n",
              "          docLink.innerHTML = docLinkHtml;\n",
              "          element.appendChild(docLink);\n",
              "        }\n",
              "      </script>\n",
              "    </div>\n",
              "  </div>\n"
            ]
          },
          "metadata": {},
          "execution_count": 98
        }
      ]
    },
    {
      "cell_type": "code",
      "source": [
        "df.shape"
      ],
      "metadata": {
        "colab": {
          "base_uri": "https://localhost:8080/"
        },
        "id": "e5IqwBi0cTid",
        "outputId": "f914ece6-71c5-4f44-93ed-3eca5a87e343"
      },
      "execution_count": 99,
      "outputs": [
        {
          "output_type": "execute_result",
          "data": {
            "text/plain": [
              "(1338, 7)"
            ]
          },
          "metadata": {},
          "execution_count": 99
        }
      ]
    },
    {
      "cell_type": "code",
      "source": [
        "df[['sex']] = df[['sex']].apply(pd.to_numeric, errors='coerce')\n",
        "df[['smoker']] = df[['smoker']].apply(pd.to_numeric, errors='coerce')\n",
        "df[['region']] = df[['region']].apply(pd.to_numeric, errors='coerce')"
      ],
      "metadata": {
        "id": "CsFczWIjcfBn"
      },
      "execution_count": 100,
      "outputs": []
    },
    {
      "cell_type": "code",
      "source": [
        "df.info()"
      ],
      "metadata": {
        "colab": {
          "base_uri": "https://localhost:8080/"
        },
        "id": "3-kPfHpbcnjb",
        "outputId": "2dd50695-f6ce-4825-b1ea-a4209ae2498c"
      },
      "execution_count": 101,
      "outputs": [
        {
          "output_type": "stream",
          "name": "stdout",
          "text": [
            "<class 'pandas.core.frame.DataFrame'>\n",
            "RangeIndex: 1338 entries, 0 to 1337\n",
            "Data columns (total 7 columns):\n",
            " #   Column    Non-Null Count  Dtype  \n",
            "---  ------    --------------  -----  \n",
            " 0   age       1338 non-null   int64  \n",
            " 1   sex       1338 non-null   int64  \n",
            " 2   bmi       1338 non-null   float64\n",
            " 3   children  1338 non-null   int64  \n",
            " 4   smoker    1338 non-null   int64  \n",
            " 5   region    1338 non-null   int64  \n",
            " 6   charges   1338 non-null   float64\n",
            "dtypes: float64(2), int64(5)\n",
            "memory usage: 73.3 KB\n"
          ]
        }
      ]
    },
    {
      "cell_type": "code",
      "execution_count": 102,
      "metadata": {
        "id": "UfcaXVUv2pa7",
        "colab": {
          "base_uri": "https://localhost:8080/",
          "height": 423
        },
        "outputId": "d77b3133-c520-4d1f-9860-c0b7886a09f0"
      },
      "outputs": [
        {
          "output_type": "execute_result",
          "data": {
            "text/plain": [
              "      age  sex     bmi  children  smoker  region      charges\n",
              "0      19    1  27.900         0       1       1  16884.92400\n",
              "1      18    0  33.770         1       0       3   1725.55230\n",
              "2      28    0  33.000         3       0       3   4449.46200\n",
              "3      33    0  22.705         0       0       2  21984.47061\n",
              "4      32    0  28.880         0       0       2   3866.85520\n",
              "...   ...  ...     ...       ...     ...     ...          ...\n",
              "1333   50    0  30.970         3       0       2  10600.54830\n",
              "1334   18    1  31.920         0       0       4   2205.98080\n",
              "1335   18    1  36.850         0       0       3   1629.83350\n",
              "1336   21    1  25.800         0       0       1   2007.94500\n",
              "1337   61    1  29.070         0       1       2  29141.36030\n",
              "\n",
              "[1338 rows x 7 columns]"
            ],
            "text/html": [
              "\n",
              "\n",
              "  <div id=\"df-7f329034-7103-4da6-a0cb-964f2c0bafe7\">\n",
              "    <div class=\"colab-df-container\">\n",
              "      <div>\n",
              "<style scoped>\n",
              "    .dataframe tbody tr th:only-of-type {\n",
              "        vertical-align: middle;\n",
              "    }\n",
              "\n",
              "    .dataframe tbody tr th {\n",
              "        vertical-align: top;\n",
              "    }\n",
              "\n",
              "    .dataframe thead th {\n",
              "        text-align: right;\n",
              "    }\n",
              "</style>\n",
              "<table border=\"1\" class=\"dataframe\">\n",
              "  <thead>\n",
              "    <tr style=\"text-align: right;\">\n",
              "      <th></th>\n",
              "      <th>age</th>\n",
              "      <th>sex</th>\n",
              "      <th>bmi</th>\n",
              "      <th>children</th>\n",
              "      <th>smoker</th>\n",
              "      <th>region</th>\n",
              "      <th>charges</th>\n",
              "    </tr>\n",
              "  </thead>\n",
              "  <tbody>\n",
              "    <tr>\n",
              "      <th>0</th>\n",
              "      <td>19</td>\n",
              "      <td>1</td>\n",
              "      <td>27.900</td>\n",
              "      <td>0</td>\n",
              "      <td>1</td>\n",
              "      <td>1</td>\n",
              "      <td>16884.92400</td>\n",
              "    </tr>\n",
              "    <tr>\n",
              "      <th>1</th>\n",
              "      <td>18</td>\n",
              "      <td>0</td>\n",
              "      <td>33.770</td>\n",
              "      <td>1</td>\n",
              "      <td>0</td>\n",
              "      <td>3</td>\n",
              "      <td>1725.55230</td>\n",
              "    </tr>\n",
              "    <tr>\n",
              "      <th>2</th>\n",
              "      <td>28</td>\n",
              "      <td>0</td>\n",
              "      <td>33.000</td>\n",
              "      <td>3</td>\n",
              "      <td>0</td>\n",
              "      <td>3</td>\n",
              "      <td>4449.46200</td>\n",
              "    </tr>\n",
              "    <tr>\n",
              "      <th>3</th>\n",
              "      <td>33</td>\n",
              "      <td>0</td>\n",
              "      <td>22.705</td>\n",
              "      <td>0</td>\n",
              "      <td>0</td>\n",
              "      <td>2</td>\n",
              "      <td>21984.47061</td>\n",
              "    </tr>\n",
              "    <tr>\n",
              "      <th>4</th>\n",
              "      <td>32</td>\n",
              "      <td>0</td>\n",
              "      <td>28.880</td>\n",
              "      <td>0</td>\n",
              "      <td>0</td>\n",
              "      <td>2</td>\n",
              "      <td>3866.85520</td>\n",
              "    </tr>\n",
              "    <tr>\n",
              "      <th>...</th>\n",
              "      <td>...</td>\n",
              "      <td>...</td>\n",
              "      <td>...</td>\n",
              "      <td>...</td>\n",
              "      <td>...</td>\n",
              "      <td>...</td>\n",
              "      <td>...</td>\n",
              "    </tr>\n",
              "    <tr>\n",
              "      <th>1333</th>\n",
              "      <td>50</td>\n",
              "      <td>0</td>\n",
              "      <td>30.970</td>\n",
              "      <td>3</td>\n",
              "      <td>0</td>\n",
              "      <td>2</td>\n",
              "      <td>10600.54830</td>\n",
              "    </tr>\n",
              "    <tr>\n",
              "      <th>1334</th>\n",
              "      <td>18</td>\n",
              "      <td>1</td>\n",
              "      <td>31.920</td>\n",
              "      <td>0</td>\n",
              "      <td>0</td>\n",
              "      <td>4</td>\n",
              "      <td>2205.98080</td>\n",
              "    </tr>\n",
              "    <tr>\n",
              "      <th>1335</th>\n",
              "      <td>18</td>\n",
              "      <td>1</td>\n",
              "      <td>36.850</td>\n",
              "      <td>0</td>\n",
              "      <td>0</td>\n",
              "      <td>3</td>\n",
              "      <td>1629.83350</td>\n",
              "    </tr>\n",
              "    <tr>\n",
              "      <th>1336</th>\n",
              "      <td>21</td>\n",
              "      <td>1</td>\n",
              "      <td>25.800</td>\n",
              "      <td>0</td>\n",
              "      <td>0</td>\n",
              "      <td>1</td>\n",
              "      <td>2007.94500</td>\n",
              "    </tr>\n",
              "    <tr>\n",
              "      <th>1337</th>\n",
              "      <td>61</td>\n",
              "      <td>1</td>\n",
              "      <td>29.070</td>\n",
              "      <td>0</td>\n",
              "      <td>1</td>\n",
              "      <td>2</td>\n",
              "      <td>29141.36030</td>\n",
              "    </tr>\n",
              "  </tbody>\n",
              "</table>\n",
              "<p>1338 rows × 7 columns</p>\n",
              "</div>\n",
              "      <button class=\"colab-df-convert\" onclick=\"convertToInteractive('df-7f329034-7103-4da6-a0cb-964f2c0bafe7')\"\n",
              "              title=\"Convert this dataframe to an interactive table.\"\n",
              "              style=\"display:none;\">\n",
              "\n",
              "  <svg xmlns=\"http://www.w3.org/2000/svg\" height=\"24px\"viewBox=\"0 0 24 24\"\n",
              "       width=\"24px\">\n",
              "    <path d=\"M0 0h24v24H0V0z\" fill=\"none\"/>\n",
              "    <path d=\"M18.56 5.44l.94 2.06.94-2.06 2.06-.94-2.06-.94-.94-2.06-.94 2.06-2.06.94zm-11 1L8.5 8.5l.94-2.06 2.06-.94-2.06-.94L8.5 2.5l-.94 2.06-2.06.94zm10 10l.94 2.06.94-2.06 2.06-.94-2.06-.94-.94-2.06-.94 2.06-2.06.94z\"/><path d=\"M17.41 7.96l-1.37-1.37c-.4-.4-.92-.59-1.43-.59-.52 0-1.04.2-1.43.59L10.3 9.45l-7.72 7.72c-.78.78-.78 2.05 0 2.83L4 21.41c.39.39.9.59 1.41.59.51 0 1.02-.2 1.41-.59l7.78-7.78 2.81-2.81c.8-.78.8-2.07 0-2.86zM5.41 20L4 18.59l7.72-7.72 1.47 1.35L5.41 20z\"/>\n",
              "  </svg>\n",
              "      </button>\n",
              "\n",
              "\n",
              "\n",
              "    <div id=\"df-5920a1ce-679b-4f11-941d-a1ac569e946f\">\n",
              "      <button class=\"colab-df-quickchart\" onclick=\"quickchart('df-5920a1ce-679b-4f11-941d-a1ac569e946f')\"\n",
              "              title=\"Suggest charts.\"\n",
              "              style=\"display:none;\">\n",
              "\n",
              "<svg xmlns=\"http://www.w3.org/2000/svg\" height=\"24px\"viewBox=\"0 0 24 24\"\n",
              "     width=\"24px\">\n",
              "    <g>\n",
              "        <path d=\"M19 3H5c-1.1 0-2 .9-2 2v14c0 1.1.9 2 2 2h14c1.1 0 2-.9 2-2V5c0-1.1-.9-2-2-2zM9 17H7v-7h2v7zm4 0h-2V7h2v10zm4 0h-2v-4h2v4z\"/>\n",
              "    </g>\n",
              "</svg>\n",
              "      </button>\n",
              "    </div>\n",
              "\n",
              "<style>\n",
              "  .colab-df-quickchart {\n",
              "    background-color: #E8F0FE;\n",
              "    border: none;\n",
              "    border-radius: 50%;\n",
              "    cursor: pointer;\n",
              "    display: none;\n",
              "    fill: #1967D2;\n",
              "    height: 32px;\n",
              "    padding: 0 0 0 0;\n",
              "    width: 32px;\n",
              "  }\n",
              "\n",
              "  .colab-df-quickchart:hover {\n",
              "    background-color: #E2EBFA;\n",
              "    box-shadow: 0px 1px 2px rgba(60, 64, 67, 0.3), 0px 1px 3px 1px rgba(60, 64, 67, 0.15);\n",
              "    fill: #174EA6;\n",
              "  }\n",
              "\n",
              "  [theme=dark] .colab-df-quickchart {\n",
              "    background-color: #3B4455;\n",
              "    fill: #D2E3FC;\n",
              "  }\n",
              "\n",
              "  [theme=dark] .colab-df-quickchart:hover {\n",
              "    background-color: #434B5C;\n",
              "    box-shadow: 0px 1px 3px 1px rgba(0, 0, 0, 0.15);\n",
              "    filter: drop-shadow(0px 1px 2px rgba(0, 0, 0, 0.3));\n",
              "    fill: #FFFFFF;\n",
              "  }\n",
              "</style>\n",
              "\n",
              "    <script>\n",
              "      async function quickchart(key) {\n",
              "        const containerElement = document.querySelector('#' + key);\n",
              "        const charts = await google.colab.kernel.invokeFunction(\n",
              "            'suggestCharts', [key], {});\n",
              "      }\n",
              "    </script>\n",
              "\n",
              "      <script>\n",
              "\n",
              "function displayQuickchartButton(domScope) {\n",
              "  let quickchartButtonEl =\n",
              "    domScope.querySelector('#df-5920a1ce-679b-4f11-941d-a1ac569e946f button.colab-df-quickchart');\n",
              "  quickchartButtonEl.style.display =\n",
              "    google.colab.kernel.accessAllowed ? 'block' : 'none';\n",
              "}\n",
              "\n",
              "        displayQuickchartButton(document);\n",
              "      </script>\n",
              "      <style>\n",
              "    .colab-df-container {\n",
              "      display:flex;\n",
              "      flex-wrap:wrap;\n",
              "      gap: 12px;\n",
              "    }\n",
              "\n",
              "    .colab-df-convert {\n",
              "      background-color: #E8F0FE;\n",
              "      border: none;\n",
              "      border-radius: 50%;\n",
              "      cursor: pointer;\n",
              "      display: none;\n",
              "      fill: #1967D2;\n",
              "      height: 32px;\n",
              "      padding: 0 0 0 0;\n",
              "      width: 32px;\n",
              "    }\n",
              "\n",
              "    .colab-df-convert:hover {\n",
              "      background-color: #E2EBFA;\n",
              "      box-shadow: 0px 1px 2px rgba(60, 64, 67, 0.3), 0px 1px 3px 1px rgba(60, 64, 67, 0.15);\n",
              "      fill: #174EA6;\n",
              "    }\n",
              "\n",
              "    [theme=dark] .colab-df-convert {\n",
              "      background-color: #3B4455;\n",
              "      fill: #D2E3FC;\n",
              "    }\n",
              "\n",
              "    [theme=dark] .colab-df-convert:hover {\n",
              "      background-color: #434B5C;\n",
              "      box-shadow: 0px 1px 3px 1px rgba(0, 0, 0, 0.15);\n",
              "      filter: drop-shadow(0px 1px 2px rgba(0, 0, 0, 0.3));\n",
              "      fill: #FFFFFF;\n",
              "    }\n",
              "  </style>\n",
              "\n",
              "      <script>\n",
              "        const buttonEl =\n",
              "          document.querySelector('#df-7f329034-7103-4da6-a0cb-964f2c0bafe7 button.colab-df-convert');\n",
              "        buttonEl.style.display =\n",
              "          google.colab.kernel.accessAllowed ? 'block' : 'none';\n",
              "\n",
              "        async function convertToInteractive(key) {\n",
              "          const element = document.querySelector('#df-7f329034-7103-4da6-a0cb-964f2c0bafe7');\n",
              "          const dataTable =\n",
              "            await google.colab.kernel.invokeFunction('convertToInteractive',\n",
              "                                                     [key], {});\n",
              "          if (!dataTable) return;\n",
              "\n",
              "          const docLinkHtml = 'Like what you see? Visit the ' +\n",
              "            '<a target=\"_blank\" href=https://colab.research.google.com/notebooks/data_table.ipynb>data table notebook</a>'\n",
              "            + ' to learn more about interactive tables.';\n",
              "          element.innerHTML = '';\n",
              "          dataTable['output_type'] = 'display_data';\n",
              "          await google.colab.output.renderOutput(dataTable, element);\n",
              "          const docLink = document.createElement('div');\n",
              "          docLink.innerHTML = docLinkHtml;\n",
              "          element.appendChild(docLink);\n",
              "        }\n",
              "      </script>\n",
              "    </div>\n",
              "  </div>\n"
            ]
          },
          "metadata": {},
          "execution_count": 102
        }
      ],
      "source": [
        "df.fillna(df.mean())"
      ]
    },
    {
      "cell_type": "code",
      "source": [
        "# Drop duplicates based on all columns\n",
        "df_no_duplicates = df.drop_duplicates()\n",
        "\n",
        "# Drop duplicates based on specific columns\n",
        "columns_to_check = ['bmi', 'charges']  # Replace with the column names you want to consider\n",
        "df_no_duplicates_specific = df.drop_duplicates(subset=columns_to_check)\n",
        "\n",
        "# Print the shape of the resulting DataFrames\n",
        "print(\"Original DataFrame shape:\", df.shape)\n",
        "print(\"DataFrame shape after dropping all duplicates:\", df_no_duplicates.shape)\n",
        "print(\"DataFrame shape after dropping duplicates based on specific columns:\", df_no_duplicates_specific.shape)\n"
      ],
      "metadata": {
        "colab": {
          "base_uri": "https://localhost:8080/"
        },
        "id": "D6QvLQIFw1YU",
        "outputId": "3a7fc32a-a02a-4dac-a450-ce4cf33bfca1"
      },
      "execution_count": 103,
      "outputs": [
        {
          "output_type": "stream",
          "name": "stdout",
          "text": [
            "Original DataFrame shape: (1338, 7)\n",
            "DataFrame shape after dropping all duplicates: (1337, 7)\n",
            "DataFrame shape after dropping duplicates based on specific columns: (1337, 7)\n"
          ]
        }
      ]
    },
    {
      "cell_type": "code",
      "execution_count": 104,
      "metadata": {
        "colab": {
          "base_uri": "https://localhost:8080/",
          "height": 452
        },
        "id": "KjuLIVHh2pa7",
        "outputId": "f8c50be2-3fff-4805-a356-6f58ff3afbb8"
      },
      "outputs": [
        {
          "output_type": "execute_result",
          "data": {
            "text/plain": [
              "<Axes: >"
            ]
          },
          "metadata": {},
          "execution_count": 104
        },
        {
          "output_type": "display_data",
          "data": {
            "text/plain": [
              "<Figure size 640x480 with 2 Axes>"
            ],
            "image/png": "[encoded data removed]"
          },
          "metadata": {}
        }
      ],
      "source": [
        "# performing label encoding of data and displaying correlation matrix\n",
        "df_e = pd.get_dummies(df)\n",
        "corrMatrix_e = df_e.corr()\n",
        "sns.heatmap(corrMatrix_e, annot=True)"
      ]
    },
    {
      "cell_type": "code",
      "execution_count": 105,
      "metadata": {
        "colab": {
          "base_uri": "https://localhost:8080/",
          "height": 206
        },
        "id": "1A4QU1LZ2pa-",
        "outputId": "ba7ab9e6-0847-409c-e060-f169876f1869"
      },
      "outputs": [
        {
          "output_type": "execute_result",
          "data": {
            "text/plain": [
              "   age  sex     bmi  children  smoker  region      charges\n",
              "0   19    1  27.900         0       1       1  16884.92400\n",
              "1   18    0  33.770         1       0       3   1725.55230\n",
              "2   28    0  33.000         3       0       3   4449.46200\n",
              "3   33    0  22.705         0       0       2  21984.47061\n",
              "4   32    0  28.880         0       0       2   3866.85520"
            ],
            "text/html": [
              "\n",
              "\n",
              "  <div id=\"df-3c8dd182-a71b-4bf3-8cbd-0915b0c1e25b\">\n",
              "    <div class=\"colab-df-container\">\n",
              "      <div>\n",
              "<style scoped>\n",
              "    .dataframe tbody tr th:only-of-type {\n",
              "        vertical-align: middle;\n",
              "    }\n",
              "\n",
              "    .dataframe tbody tr th {\n",
              "        vertical-align: top;\n",
              "    }\n",
              "\n",
              "    .dataframe thead th {\n",
              "        text-align: right;\n",
              "    }\n",
              "</style>\n",
              "<table border=\"1\" class=\"dataframe\">\n",
              "  <thead>\n",
              "    <tr style=\"text-align: right;\">\n",
              "      <th></th>\n",
              "      <th>age</th>\n",
              "      <th>sex</th>\n",
              "      <th>bmi</th>\n",
              "      <th>children</th>\n",
              "      <th>smoker</th>\n",
              "      <th>region</th>\n",
              "      <th>charges</th>\n",
              "    </tr>\n",
              "  </thead>\n",
              "  <tbody>\n",
              "    <tr>\n",
              "      <th>0</th>\n",
              "      <td>19</td>\n",
              "      <td>1</td>\n",
              "      <td>27.900</td>\n",
              "      <td>0</td>\n",
              "      <td>1</td>\n",
              "      <td>1</td>\n",
              "      <td>16884.92400</td>\n",
              "    </tr>\n",
              "    <tr>\n",
              "      <th>1</th>\n",
              "      <td>18</td>\n",
              "      <td>0</td>\n",
              "      <td>33.770</td>\n",
              "      <td>1</td>\n",
              "      <td>0</td>\n",
              "      <td>3</td>\n",
              "      <td>1725.55230</td>\n",
              "    </tr>\n",
              "    <tr>\n",
              "      <th>2</th>\n",
              "      <td>28</td>\n",
              "      <td>0</td>\n",
              "      <td>33.000</td>\n",
              "      <td>3</td>\n",
              "      <td>0</td>\n",
              "      <td>3</td>\n",
              "      <td>4449.46200</td>\n",
              "    </tr>\n",
              "    <tr>\n",
              "      <th>3</th>\n",
              "      <td>33</td>\n",
              "      <td>0</td>\n",
              "      <td>22.705</td>\n",
              "      <td>0</td>\n",
              "      <td>0</td>\n",
              "      <td>2</td>\n",
              "      <td>21984.47061</td>\n",
              "    </tr>\n",
              "    <tr>\n",
              "      <th>4</th>\n",
              "      <td>32</td>\n",
              "      <td>0</td>\n",
              "      <td>28.880</td>\n",
              "      <td>0</td>\n",
              "      <td>0</td>\n",
              "      <td>2</td>\n",
              "      <td>3866.85520</td>\n",
              "    </tr>\n",
              "  </tbody>\n",
              "</table>\n",
              "</div>\n",
              "      <button class=\"colab-df-convert\" onclick=\"convertToInteractive('df-3c8dd182-a71b-4bf3-8cbd-0915b0c1e25b')\"\n",
              "              title=\"Convert this dataframe to an interactive table.\"\n",
              "              style=\"display:none;\">\n",
              "\n",
              "  <svg xmlns=\"http://www.w3.org/2000/svg\" height=\"24px\"viewBox=\"0 0 24 24\"\n",
              "       width=\"24px\">\n",
              "    <path d=\"M0 0h24v24H0V0z\" fill=\"none\"/>\n",
              "    <path d=\"M18.56 5.44l.94 2.06.94-2.06 2.06-.94-2.06-.94-.94-2.06-.94 2.06-2.06.94zm-11 1L8.5 8.5l.94-2.06 2.06-.94-2.06-.94L8.5 2.5l-.94 2.06-2.06.94zm10 10l.94 2.06.94-2.06 2.06-.94-2.06-.94-.94-2.06-.94 2.06-2.06.94z\"/><path d=\"M17.41 7.96l-1.37-1.37c-.4-.4-.92-.59-1.43-.59-.52 0-1.04.2-1.43.59L10.3 9.45l-7.72 7.72c-.78.78-.78 2.05 0 2.83L4 21.41c.39.39.9.59 1.41.59.51 0 1.02-.2 1.41-.59l7.78-7.78 2.81-2.81c.8-.78.8-2.07 0-2.86zM5.41 20L4 18.59l7.72-7.72 1.47 1.35L5.41 20z\"/>\n",
              "  </svg>\n",
              "      </button>\n",
              "\n",
              "\n",
              "\n",
              "    <div id=\"df-b8e169ef-bdf3-4f3f-a010-aecc07f3a7ab\">\n",
              "      <button class=\"colab-df-quickchart\" onclick=\"quickchart('df-b8e169ef-bdf3-4f3f-a010-aecc07f3a7ab')\"\n",
              "              title=\"Suggest charts.\"\n",
              "              style=\"display:none;\">\n",
              "\n",
              "<svg xmlns=\"http://www.w3.org/2000/svg\" height=\"24px\"viewBox=\"0 0 24 24\"\n",
              "     width=\"24px\">\n",
              "    <g>\n",
              "        <path d=\"M19 3H5c-1.1 0-2 .9-2 2v14c0 1.1.9 2 2 2h14c1.1 0 2-.9 2-2V5c0-1.1-.9-2-2-2zM9 17H7v-7h2v7zm4 0h-2V7h2v10zm4 0h-2v-4h2v4z\"/>\n",
              "    </g>\n",
              "</svg>\n",
              "      </button>\n",
              "    </div>\n",
              "\n",
              "<style>\n",
              "  .colab-df-quickchart {\n",
              "    background-color: #E8F0FE;\n",
              "    border: none;\n",
              "    border-radius: 50%;\n",
              "    cursor: pointer;\n",
              "    display: none;\n",
              "    fill: #1967D2;\n",
              "    height: 32px;\n",
              "    padding: 0 0 0 0;\n",
              "    width: 32px;\n",
              "  }\n",
              "\n",
              "  .colab-df-quickchart:hover {\n",
              "    background-color: #E2EBFA;\n",
              "    box-shadow: 0px 1px 2px rgba(60, 64, 67, 0.3), 0px 1px 3px 1px rgba(60, 64, 67, 0.15);\n",
              "    fill: #174EA6;\n",
              "  }\n",
              "\n",
              "  [theme=dark] .colab-df-quickchart {\n",
              "    background-color: #3B4455;\n",
              "    fill: #D2E3FC;\n",
              "  }\n",
              "\n",
              "  [theme=dark] .colab-df-quickchart:hover {\n",
              "    background-color: #434B5C;\n",
              "    box-shadow: 0px 1px 3px 1px rgba(0, 0, 0, 0.15);\n",
              "    filter: drop-shadow(0px 1px 2px rgba(0, 0, 0, 0.3));\n",
              "    fill: #FFFFFF;\n",
              "  }\n",
              "</style>\n",
              "\n",
              "    <script>\n",
              "      async function quickchart(key) {\n",
              "        const containerElement = document.querySelector('#' + key);\n",
              "        const charts = await google.colab.kernel.invokeFunction(\n",
              "            'suggestCharts', [key], {});\n",
              "      }\n",
              "    </script>\n",
              "\n",
              "      <script>\n",
              "\n",
              "function displayQuickchartButton(domScope) {\n",
              "  let quickchartButtonEl =\n",
              "    domScope.querySelector('#df-b8e169ef-bdf3-4f3f-a010-aecc07f3a7ab button.colab-df-quickchart');\n",
              "  quickchartButtonEl.style.display =\n",
              "    google.colab.kernel.accessAllowed ? 'block' : 'none';\n",
              "}\n",
              "\n",
              "        displayQuickchartButton(document);\n",
              "      </script>\n",
              "      <style>\n",
              "    .colab-df-container {\n",
              "      display:flex;\n",
              "      flex-wrap:wrap;\n",
              "      gap: 12px;\n",
              "    }\n",
              "\n",
              "    .colab-df-convert {\n",
              "      background-color: #E8F0FE;\n",
              "      border: none;\n",
              "      border-radius: 50%;\n",
              "      cursor: pointer;\n",
              "      display: none;\n",
              "      fill: #1967D2;\n",
              "      height: 32px;\n",
              "      padding: 0 0 0 0;\n",
              "      width: 32px;\n",
              "    }\n",
              "\n",
              "    .colab-df-convert:hover {\n",
              "      background-color: #E2EBFA;\n",
              "      box-shadow: 0px 1px 2px rgba(60, 64, 67, 0.3), 0px 1px 3px 1px rgba(60, 64, 67, 0.15);\n",
              "      fill: #174EA6;\n",
              "    }\n",
              "\n",
              "    [theme=dark] .colab-df-convert {\n",
              "      background-color: #3B4455;\n",
              "      fill: #D2E3FC;\n",
              "    }\n",
              "\n",
              "    [theme=dark] .colab-df-convert:hover {\n",
              "      background-color: #434B5C;\n",
              "      box-shadow: 0px 1px 3px 1px rgba(0, 0, 0, 0.15);\n",
              "      filter: drop-shadow(0px 1px 2px rgba(0, 0, 0, 0.3));\n",
              "      fill: #FFFFFF;\n",
              "    }\n",
              "  </style>\n",
              "\n",
              "      <script>\n",
              "        const buttonEl =\n",
              "          document.querySelector('#df-3c8dd182-a71b-4bf3-8cbd-0915b0c1e25b button.colab-df-convert');\n",
              "        buttonEl.style.display =\n",
              "          google.colab.kernel.accessAllowed ? 'block' : 'none';\n",
              "\n",
              "        async function convertToInteractive(key) {\n",
              "          const element = document.querySelector('#df-3c8dd182-a71b-4bf3-8cbd-0915b0c1e25b');\n",
              "          const dataTable =\n",
              "            await google.colab.kernel.invokeFunction('convertToInteractive',\n",
              "                                                     [key], {});\n",
              "          if (!dataTable) return;\n",
              "\n",
              "          const docLinkHtml = 'Like what you see? Visit the ' +\n",
              "            '<a target=\"_blank\" href=https://colab.research.google.com/notebooks/data_table.ipynb>data table notebook</a>'\n",
              "            + ' to learn more about interactive tables.';\n",
              "          element.innerHTML = '';\n",
              "          dataTable['output_type'] = 'display_data';\n",
              "          await google.colab.output.renderOutput(dataTable, element);\n",
              "          const docLink = document.createElement('div');\n",
              "          docLink.innerHTML = docLinkHtml;\n",
              "          element.appendChild(docLink);\n",
              "        }\n",
              "      </script>\n",
              "    </div>\n",
              "  </div>\n"
            ]
          },
          "metadata": {},
          "execution_count": 105
        }
      ],
      "source": [
        "# checking data structure again\n",
        "df.head()"
      ]
    },
    {
      "cell_type": "code",
      "source": [
        "df.info()"
      ],
      "metadata": {
        "colab": {
          "base_uri": "https://localhost:8080/"
        },
        "id": "9J2G0tcJzPQr",
        "outputId": "b2dfafdb-2dc1-4756-ab2f-4d8d6ec21af0"
      },
      "execution_count": 106,
      "outputs": [
        {
          "output_type": "stream",
          "name": "stdout",
          "text": [
            "<class 'pandas.core.frame.DataFrame'>\n",
            "RangeIndex: 1338 entries, 0 to 1337\n",
            "Data columns (total 7 columns):\n",
            " #   Column    Non-Null Count  Dtype  \n",
            "---  ------    --------------  -----  \n",
            " 0   age       1338 non-null   int64  \n",
            " 1   sex       1338 non-null   int64  \n",
            " 2   bmi       1338 non-null   float64\n",
            " 3   children  1338 non-null   int64  \n",
            " 4   smoker    1338 non-null   int64  \n",
            " 5   region    1338 non-null   int64  \n",
            " 6   charges   1338 non-null   float64\n",
            "dtypes: float64(2), int64(5)\n",
            "memory usage: 73.3 KB\n"
          ]
        }
      ]
    },
    {
      "cell_type": "code",
      "execution_count": 107,
      "metadata": {
        "colab": {
          "base_uri": "https://localhost:8080/",
          "height": 489
        },
        "id": "2rpWP3oU2pa-",
        "outputId": "c748d25f-574a-4207-9f7b-ba76cee2b878"
      },
      "outputs": [
        {
          "output_type": "execute_result",
          "data": {
            "text/plain": [
              "Text(0.5, 1.0, 'Histogram of Distinct Charged Amounts in Dataset')"
            ]
          },
          "metadata": {},
          "execution_count": 107
        },
        {
          "output_type": "display_data",
          "data": {
            "text/plain": [
              "<Figure size 640x480 with 1 Axes>"
            ],
            "image/png": "[encoded data removed]"
          },
          "metadata": {}
        }
      ],
      "source": [
        "# EDA for one column\n",
        "sns.histplot(df['charges'], bins=25, color='sienna')\n",
        "plt.title('Histogram of Distinct Charged Amounts in Dataset')"
      ]
    },
    {
      "cell_type": "code",
      "execution_count": 108,
      "metadata": {
        "colab": {
          "base_uri": "https://localhost:8080/",
          "height": 489
        },
        "id": "nTGqXyFF2pa-",
        "outputId": "bfa7d763-eb21-476d-bab1-6aa4fa6a262d"
      },
      "outputs": [
        {
          "output_type": "execute_result",
          "data": {
            "text/plain": [
              "Text(0.5, 1.0, 'Histogram of Distinct Number of Children in Dataset')"
            ]
          },
          "metadata": {},
          "execution_count": 108
        },
        {
          "output_type": "display_data",
          "data": {
            "text/plain": [
              "<Figure size 640x480 with 1 Axes>"
            ],
            "image/png": "[encoded data removed]"
          },
          "metadata": {}
        }
      ],
      "source": [
        "# EDA for another column\n",
        "sns.histplot(df['bmi'], bins=25, color='sienna')\n",
        "plt.title('Histogram of Distinct Number of Children in Dataset')"
      ]
    },
    {
      "cell_type": "code",
      "execution_count": 109,
      "metadata": {
        "colab": {
          "base_uri": "https://localhost:8080/",
          "height": 489
        },
        "id": "Lxfo8jsk2pa_",
        "outputId": "9c6e01a1-5240-403a-d02f-73de7c05165f"
      },
      "outputs": [
        {
          "output_type": "execute_result",
          "data": {
            "text/plain": [
              "Text(0.5, 1.0, 'Children vs Charges for Insurance')"
            ]
          },
          "metadata": {},
          "execution_count": 109
        },
        {
          "output_type": "display_data",
          "data": {
            "text/plain": [
              "<Figure size 640x480 with 1 Axes>"
            ],
            "image/png": "[encoded data removed]"
          },
          "metadata": {}
        }
      ],
      "source": [
        "# scatterplot time!\n",
        "sns.scatterplot(x='bmi', y='charges', data=df,\n",
        "                color='sienna')\n",
        "plt.title('Children vs Charges for Insurance')"
      ]
    },
    {
      "cell_type": "markdown",
      "metadata": {
        "id": "Id83c0qO2pbA"
      },
      "source": [
        "### Machine Learning\n",
        "\n",
        "Now we perform machine learning on our cleaned dataset."
      ]
    },
    {
      "cell_type": "code",
      "source": [
        "X = df.drop('charges', axis=1)\n",
        "y = df['charges']"
      ],
      "metadata": {
        "id": "k81JnPmxvu2X"
      },
      "execution_count": 110,
      "outputs": []
    },
    {
      "cell_type": "code",
      "source": [
        "print(X)"
      ],
      "metadata": {
        "colab": {
          "base_uri": "https://localhost:8080/"
        },
        "id": "7-tKPTF5zpZN",
        "outputId": "ca65523a-1b98-431f-a6c9-7adffec6a929"
      },
      "execution_count": 111,
      "outputs": [
        {
          "output_type": "stream",
          "name": "stdout",
          "text": [
            "      age  sex     bmi  children  smoker  region\n",
            "0      19    1  27.900         0       1       1\n",
            "1      18    0  33.770         1       0       3\n",
            "2      28    0  33.000         3       0       3\n",
            "3      33    0  22.705         0       0       2\n",
            "4      32    0  28.880         0       0       2\n",
            "...   ...  ...     ...       ...     ...     ...\n",
            "1333   50    0  30.970         3       0       2\n",
            "1334   18    1  31.920         0       0       4\n",
            "1335   18    1  36.850         0       0       3\n",
            "1336   21    1  25.800         0       0       1\n",
            "1337   61    1  29.070         0       1       2\n",
            "\n",
            "[1338 rows x 6 columns]\n"
          ]
        }
      ]
    },
    {
      "cell_type": "code",
      "source": [
        "print(y)"
      ],
      "metadata": {
        "colab": {
          "base_uri": "https://localhost:8080/"
        },
        "id": "wJq5zpewzqq8",
        "outputId": "a8e07912-c32f-4abe-df72-95bff10aca2b"
      },
      "execution_count": 112,
      "outputs": [
        {
          "output_type": "stream",
          "name": "stdout",
          "text": [
            "0       16884.92400\n",
            "1        1725.55230\n",
            "2        4449.46200\n",
            "3       21984.47061\n",
            "4        3866.85520\n",
            "           ...     \n",
            "1333    10600.54830\n",
            "1334     2205.98080\n",
            "1335     1629.83350\n",
            "1336     2007.94500\n",
            "1337    29141.36030\n",
            "Name: charges, Length: 1338, dtype: float64\n"
          ]
        }
      ]
    },
    {
      "cell_type": "code",
      "source": [
        "df.info()"
      ],
      "metadata": {
        "colab": {
          "base_uri": "https://localhost:8080/"
        },
        "id": "JLarQnG80f-3",
        "outputId": "a1c74634-1e04-4612-d7e4-efb5dfc4eee7"
      },
      "execution_count": 113,
      "outputs": [
        {
          "output_type": "stream",
          "name": "stdout",
          "text": [
            "<class 'pandas.core.frame.DataFrame'>\n",
            "RangeIndex: 1338 entries, 0 to 1337\n",
            "Data columns (total 7 columns):\n",
            " #   Column    Non-Null Count  Dtype  \n",
            "---  ------    --------------  -----  \n",
            " 0   age       1338 non-null   int64  \n",
            " 1   sex       1338 non-null   int64  \n",
            " 2   bmi       1338 non-null   float64\n",
            " 3   children  1338 non-null   int64  \n",
            " 4   smoker    1338 non-null   int64  \n",
            " 5   region    1338 non-null   int64  \n",
            " 6   charges   1338 non-null   float64\n",
            "dtypes: float64(2), int64(5)\n",
            "memory usage: 73.3 KB\n"
          ]
        }
      ]
    },
    {
      "cell_type": "code",
      "source": [
        "print(\"Shape of df:\", df.shape)"
      ],
      "metadata": {
        "colab": {
          "base_uri": "https://localhost:8080/"
        },
        "id": "1Uaales20kyH",
        "outputId": "4da039db-f92a-4de3-de02-47ebb8b87803"
      },
      "execution_count": 114,
      "outputs": [
        {
          "output_type": "stream",
          "name": "stdout",
          "text": [
            "Shape of df: (1338, 7)\n"
          ]
        }
      ]
    },
    {
      "cell_type": "code",
      "source": [
        "df['bmi'] = df['bmi'].astype(int)"
      ],
      "metadata": {
        "id": "K_jRdoNS-T3x"
      },
      "execution_count": 115,
      "outputs": []
    },
    {
      "cell_type": "code",
      "source": [
        "X_train, X_test, y_train, y_test = train_test_split(X, y, test_size=0.2, random_state=42)"
      ],
      "metadata": {
        "id": "E9nuEnz68tGu"
      },
      "execution_count": 116,
      "outputs": []
    },
    {
      "cell_type": "markdown",
      "metadata": {
        "id": "M1GKqon4-0Ef"
      },
      "source": [
        "#### 1. Decision Tree Classifier"
      ]
    },
    {
      "cell_type": "code",
      "source": [
        "import pandas as pd\n",
        "from sklearn.model_selection import train_test_split\n",
        "from sklearn.tree import DecisionTreeRegressor\n",
        "from sklearn.metrics import mean_squared_error, r2_score\n",
        "\n",
        "# Create a Decision Tree Regressor\n",
        "dt_regressor = DecisionTreeRegressor(random_state=90)\n",
        "\n",
        "# Train the model\n",
        "dt_regressor.fit(X_train, y_train)\n",
        "\n",
        "# Predict on the test set\n",
        "y_pred = dt_regressor.predict(X_test)\n",
        "\n",
        "# Evaluate the model using Mean Squared Error and R-squared\n",
        "mse = mean_squared_error(y_test, y_pred)\n",
        "r2 = r2_score(y_test, y_pred)\n",
        "\n",
        "print(\"Mean Squared Error:\", mse)\n",
        "print(\"R-squared:\", r2)\n"
      ],
      "metadata": {
        "colab": {
          "base_uri": "https://localhost:8080/"
        },
        "id": "fDTqWjgIy4m0",
        "outputId": "bbb3e049-437d-4a45-c9e0-9a41fc478fbf"
      },
      "execution_count": 117,
      "outputs": [
        {
          "output_type": "stream",
          "name": "stdout",
          "text": [
            "Mean Squared Error: 35353917.33767319\n",
            "R-squared: 0.7722756443936125\n"
          ]
        }
      ]
    },
    {
      "cell_type": "code",
      "source": [
        "import pandas as pd\n",
        "from sklearn.model_selection import train_test_split, cross_val_score\n",
        "from sklearn.tree import DecisionTreeRegressor\n",
        "from sklearn.ensemble import GradientBoostingRegressor\n",
        "from sklearn.metrics import mean_squared_error, r2_score\n",
        "\n",
        "# Create a Decision Tree Regressor\n",
        "dt_regressor = DecisionTreeRegressor(random_state=50)\n",
        "\n",
        "# Perform cross-validation for Decision Tree Regressor\n",
        "cv_scores_dt = cross_val_score(dt_regressor, X_train, y_train, cv=5, scoring='neg_mean_squared_error')\n",
        "cv_rmse_dt = (-cv_scores_dt)**0.5\n",
        "\n",
        "print(\"Cross-Validation RMSE scores for Decision Tree Regressor:\", cv_rmse_dt)\n",
        "print(\"Mean CV RMSE for Decision Tree Regressor:\", cv_rmse_dt.mean())\n",
        "\n",
        "# Train the Decision Tree Regressor model\n",
        "dt_regressor.fit(X_train, y_train)\n",
        "\n",
        "# Predict on the test set\n",
        "y_pred_dt = dt_regressor.predict(X_test)\n",
        "\n",
        "# Evaluate the Decision Tree Regressor model using Mean Squared Error and R-squared\n",
        "mse_dt = mean_squared_error(y_test, y_pred_dt)\n",
        "r2_dt = r2_score(y_test, y_pred_dt)\n",
        "\n",
        "print(\"Decision Tree Regressor Mean Squared Error:\", mse_dt)\n",
        "print(\"Decision Tree Regressor R-squared:\", r2_dt)\n",
        "\n",
        "# Create a Gradient Boosting Regressor\n",
        "gb_regressor = GradientBoostingRegressor(random_state=42)\n",
        "\n",
        "# Perform cross-validation for Gradient Boosting Regressor\n",
        "cv_scores_gb = cross_val_score(gb_regressor, X_train, y_train, cv=5, scoring='neg_mean_squared_error')\n",
        "cv_rmse_gb = (-cv_scores_gb)**0.5\n",
        "\n",
        "print(\"Cross-Validation RMSE scores for Gradient Boosting Regressor:\", cv_rmse_gb)\n",
        "print(\"Mean CV RMSE for Gradient Boosting Regressor:\", cv_rmse_gb.mean())"
      ],
      "metadata": {
        "colab": {
          "base_uri": "https://localhost:8080/"
        },
        "id": "HDdV1Er-2ceD",
        "outputId": "2508a5a4-c766-4d50-e761-5af1c7b00b21"
      },
      "execution_count": 118,
      "outputs": [
        {
          "output_type": "stream",
          "name": "stdout",
          "text": [
            "Cross-Validation RMSE scores for Decision Tree Regressor: [6065.5572263  5832.94728743 7234.49801812 6868.62140027 5614.80720552]\n",
            "Mean CV RMSE for Decision Tree Regressor: 6323.28622752859\n",
            "Decision Tree Regressor Mean Squared Error: 41017095.039880045\n",
            "Decision Tree Regressor R-squared: 0.7357975511571022\n",
            "Cross-Validation RMSE scores for Gradient Boosting Regressor: [4868.6942485  3623.50968542 4839.26547917 5341.30504816 4885.22322473]\n",
            "Mean CV RMSE for Gradient Boosting Regressor: 4711.599537197328\n"
          ]
        }
      ]
    },
    {
      "cell_type": "markdown",
      "metadata": {
        "id": "6LO86REc2pbA"
      },
      "source": [
        "### Linear Regression"
      ]
    },
    {
      "cell_type": "code",
      "source": [
        "import pandas as pd\n",
        "from sklearn.model_selection import train_test_split\n",
        "from sklearn.linear_model import LinearRegression\n",
        "from sklearn.metrics import mean_squared_error, r2_score\n",
        "\n",
        "# Create a Linear Regression model\n",
        "linear_reg_model = LinearRegression()\n",
        "\n",
        "# Train the model\n",
        "linear_reg_model.fit(X_train, y_train)\n",
        "\n",
        "# Predict on the test set\n",
        "y_pred = linear_reg_model.predict(X_test)\n",
        "\n",
        "# Evaluate the model using Mean Squared Error and R-squared\n",
        "mse = mean_squared_error(y_test, y_pred)\n",
        "r2 = r2_score(y_test, y_pred)\n",
        "\n",
        "print(\"Mean Squared Error:\", mse)\n",
        "print(\"R-squared:\", r2)"
      ],
      "metadata": {
        "colab": {
          "base_uri": "https://localhost:8080/"
        },
        "id": "kawHvB241HZM",
        "outputId": "3a7c5bd6-5f8b-4627-fa71-a2c05029b67e"
      },
      "execution_count": 119,
      "outputs": [
        {
          "output_type": "stream",
          "name": "stdout",
          "text": [
            "Mean Squared Error: 33927609.01712134\n",
            "R-squared: 0.7814628906071344\n"
          ]
        }
      ]
    },
    {
      "cell_type": "code",
      "source": [
        "import pandas as pd\n",
        "from sklearn.model_selection import train_test_split, cross_val_score\n",
        "from sklearn.linear_model import LinearRegression\n",
        "from sklearn.metrics import mean_squared_error, r2_score\n",
        "\n",
        "# Perform cross-validation for Linear Regression\n",
        "cv_scores_lr = cross_val_score(linear_reg_model, X_train, y_train, cv=5, scoring='neg_mean_squared_error')\n",
        "cv_rmse_lr = (-cv_scores_lr)**0.5\n",
        "\n",
        "print(\"Cross-Validation RMSE scores for Linear Regression:\", cv_rmse_lr)\n",
        "print(\"Mean CV RMSE for Linear Regression:\", cv_rmse_lr.mean())\n",
        "\n",
        "# Train the Linear Regression model\n",
        "linear_reg_model.fit(X_train, y_train)\n",
        "\n",
        "# Predict on the test set\n",
        "y_pred_lr = linear_reg_model.predict(X_test)\n",
        "\n",
        "# Evaluate the Linear Regression model using Mean Squared Error and R-squared\n",
        "mse_lr = mean_squared_error(y_test, y_pred_lr)\n",
        "r2_lr = r2_score(y_test, y_pred_lr)\n",
        "\n",
        "print(\"Linear Regression Mean Squared Error:\", mse_lr)\n",
        "print(\"Linear Regression R-squared:\", r2_lr)\n"
      ],
      "metadata": {
        "colab": {
          "base_uri": "https://localhost:8080/"
        },
        "id": "m2MjDVcn20p4",
        "outputId": "41d3a393-6f7c-49b9-c4fb-208059ca0594"
      },
      "execution_count": 120,
      "outputs": [
        {
          "output_type": "stream",
          "name": "stdout",
          "text": [
            "Cross-Validation RMSE scores for Linear Regression: [6322.96146928 5669.44617093 5986.80204227 6830.13621179 5912.55444816]\n",
            "Mean CV RMSE for Linear Regression: 6144.380068484391\n",
            "Linear Regression Mean Squared Error: 33927609.01712134\n",
            "Linear Regression R-squared: 0.7814628906071344\n"
          ]
        }
      ]
    },
    {
      "cell_type": "code",
      "source": [
        "import pandas as pd\n",
        "from sklearn.model_selection import train_test_split, GridSearchCV\n",
        "from sklearn.linear_model import Ridge, Lasso\n",
        "from sklearn.metrics import mean_squared_error\n",
        "\n",
        "# Define parameter grid for Ridge and Lasso\n",
        "param_grid_ridge = {'alpha': [0.1, 1.0, 10.0]}\n",
        "param_grid_lasso = {'alpha': [0.1, 1.0, 10.0]}\n",
        "\n",
        "# Create Ridge and Lasso models\n",
        "ridge_regressor = Ridge()\n",
        "lasso_regressor = Lasso()\n",
        "\n",
        "# Initialize GridSearchCV for Ridge and Lasso\n",
        "grid_search_ridge = GridSearchCV(ridge_regressor, param_grid_ridge, cv=5, scoring='neg_mean_squared_error')\n",
        "grid_search_lasso = GridSearchCV(lasso_regressor, param_grid_lasso, cv=5, scoring='neg_mean_squared_error')\n",
        "\n",
        "# Fit the GridSearchCV for Ridge and Lasso\n",
        "grid_search_ridge.fit(X_train, y_train)\n",
        "grid_search_lasso.fit(X_train, y_train)\n",
        "\n",
        "# Get the best parameters and models for Ridge and Lasso\n",
        "best_params_ridge = grid_search_ridge.best_params_\n",
        "best_params_lasso = grid_search_lasso.best_params_\n",
        "best_ridge_model = grid_search_ridge.best_estimator_\n",
        "best_lasso_model = grid_search_lasso.best_estimator_\n",
        "\n",
        "# Evaluate the best Ridge model\n",
        "y_pred_best_ridge = best_ridge_model.predict(X_test)\n",
        "best_mse_ridge = mean_squared_error(y_test, y_pred_best_ridge)\n",
        "\n",
        "# Evaluate the best Lasso model\n",
        "y_pred_best_lasso = best_lasso_model.predict(X_test)\n",
        "best_mse_lasso = mean_squared_error(y_test, y_pred_best_lasso)\n",
        "\n",
        "print(\"Best Ridge Parameters:\", best_params_ridge)\n",
        "print(\"Best Ridge Model MSE:\", best_mse_ridge)\n",
        "\n",
        "print(\"Best Lasso Parameters:\", best_params_lasso)\n",
        "print(\"Best Lasso Model MSE:\", best_mse_lasso)\n"
      ],
      "metadata": {
        "colab": {
          "base_uri": "https://localhost:8080/"
        },
        "id": "OY44B8AZEe4T",
        "outputId": "58c513ee-5019-441e-e726-d7b9037da8e2"
      },
      "execution_count": 121,
      "outputs": [
        {
          "output_type": "stream",
          "name": "stdout",
          "text": [
            "Best Ridge Parameters: {'alpha': 1.0}\n",
            "Best Ridge Model MSE: 33967092.307571344\n",
            "Best Lasso Parameters: {'alpha': 10.0}\n",
            "Best Lasso Model MSE: 33951074.14634581\n"
          ]
        }
      ]
    },
    {
      "cell_type": "markdown",
      "metadata": {
        "id": "l7MtiGNQ2pbC"
      },
      "source": [
        "### Support Vector Regression"
      ]
    },
    {
      "cell_type": "code",
      "source": [
        "import pandas as pd\n",
        "from sklearn.model_selection import train_test_split\n",
        "from sklearn.svm import SVR\n",
        "from sklearn.metrics import mean_squared_error, r2_score\n",
        "\n",
        "# Create a Support Vector Regression model\n",
        "svr_model = SVR()\n",
        "\n",
        "# Train the model\n",
        "svr_model.fit(X_train, y_train)\n",
        "\n",
        "# Predict on the test set\n",
        "y_pred = svr_model.predict(X_test)\n",
        "\n",
        "# Evaluate the model using Mean Squared Error and R-squared\n",
        "mse = mean_squared_error(y_test, y_pred)\n",
        "r2 = r2_score(y_test, y_pred)\n",
        "\n",
        "print(\"Mean Squared Error:\", mse)\n",
        "print(\"R-squared:\", r2)"
      ],
      "metadata": {
        "id": "nxHjEsVY1a2J",
        "colab": {
          "base_uri": "https://localhost:8080/"
        },
        "outputId": "07cb6fc3-df81-476c-95db-938f271a4e73"
      },
      "execution_count": 122,
      "outputs": [
        {
          "output_type": "stream",
          "name": "stdout",
          "text": [
            "Mean Squared Error: 166472410.6072576\n",
            "R-squared: -0.07229482010987542\n"
          ]
        }
      ]
    },
    {
      "cell_type": "code",
      "source": [
        "import pandas as pd\n",
        "from sklearn.model_selection import train_test_split, cross_val_score\n",
        "from sklearn.svm import SVR\n",
        "from sklearn.metrics import mean_squared_error, r2_score\n",
        "\n",
        "# Perform cross-validation for Support Vector Regression\n",
        "cv_scores_svr = cross_val_score(svr_model, X_train, y_train, cv=5, scoring='neg_mean_squared_error')\n",
        "cv_rmse_svr = (-cv_scores_svr)**0.5\n",
        "\n",
        "print(\"Cross-Validation RMSE scores for Support Vector Regression:\", cv_rmse_svr)\n",
        "print(\"Mean CV RMSE for Support Vector Regression:\", cv_rmse_svr.mean())\n",
        "\n",
        "# Train the Support Vector Regression model\n",
        "svr_model.fit(X_train, y_train)\n",
        "\n",
        "# Predict on the test set\n",
        "y_pred_svr = svr_model.predict(X_test)\n",
        "\n",
        "# Evaluate the Support Vector Regression model using Mean Squared Error and R-squared\n",
        "mse_svr = mean_squared_error(y_test, y_pred_svr)\n",
        "r2_svr = r2_score(y_test, y_pred_svr)\n",
        "\n",
        "print(\"Support Vector Regression Mean Squared Error:\", mse_svr)\n",
        "print(\"Support Vector Regression R-squared:\", r2_svr)"
      ],
      "metadata": {
        "id": "FBYTOumy3Oz0",
        "colab": {
          "base_uri": "https://localhost:8080/"
        },
        "outputId": "243468cf-fb11-4cb5-c983-c2abb827cfd0"
      },
      "execution_count": 123,
      "outputs": [
        {
          "output_type": "stream",
          "name": "stdout",
          "text": [
            "Cross-Validation RMSE scores for Support Vector Regression: [12529.09152249 13759.68557414 11787.95019551 12261.64767647\n",
            " 12568.19766808]\n",
            "Mean CV RMSE for Support Vector Regression: 12581.31452733684\n",
            "Support Vector Regression Mean Squared Error: 166472410.6072576\n",
            "Support Vector Regression R-squared: -0.07229482010987542\n"
          ]
        }
      ]
    },
    {
      "cell_type": "code",
      "source": [
        "import pandas as pd\n",
        "from sklearn.model_selection import train_test_split, GridSearchCV\n",
        "from sklearn.svm import SVR\n",
        "from sklearn.metrics import mean_squared_error\n",
        "\n",
        "# Define parameter grid for SVR\n",
        "param_grid = {\n",
        "    'kernel': ['linear', 'rbf'],\n",
        "    'C': [0.1, 1.0, 10.0],\n",
        "    'gamma': ['scale', 'auto']\n",
        "}\n",
        "\n",
        "# Create SVR model\n",
        "svr_regressor = SVR()\n",
        "\n",
        "# Initialize GridSearchCV for SVR\n",
        "grid_search = GridSearchCV(svr_regressor, param_grid, cv=5, scoring='neg_mean_squared_error')\n",
        "\n",
        "# Fit the GridSearchCV\n",
        "grid_search.fit(X_train, y_train)\n",
        "\n",
        "# Get the best parameters and model\n",
        "best_params = grid_search.best_params_\n",
        "best_model = grid_search.best_estimator_\n",
        "\n",
        "# Evaluate the best model\n",
        "y_pred_best = best_model.predict(X_test)\n",
        "best_mse = mean_squared_error(y_test, y_pred_best)\n",
        "\n",
        "print(\"Best Parameters:\", best_params)\n",
        "print(\"Best Model MSE:\", best_mse)\n"
      ],
      "metadata": {
        "colab": {
          "base_uri": "https://localhost:8080/"
        },
        "id": "I8Mf6QipE9Nk",
        "outputId": "7238e14d-a83c-4c30-d9df-71a0f3dab1ef"
      },
      "execution_count": 124,
      "outputs": [
        {
          "output_type": "stream",
          "name": "stdout",
          "text": [
            "Best Parameters: {'C': 10.0, 'gamma': 'scale', 'kernel': 'linear'}\n",
            "Best Model MSE: 147100970.99728963\n"
          ]
        }
      ]
    },
    {
      "cell_type": "markdown",
      "metadata": {
        "id": "dYa1qlu42pbD"
      },
      "source": [
        "### Lasso Regression"
      ]
    },
    {
      "cell_type": "code",
      "source": [
        "import pandas as pd\n",
        "from sklearn.model_selection import train_test_split\n",
        "from sklearn.linear_model import Lasso\n",
        "from sklearn.metrics import mean_squared_error, r2_score\n",
        "\n",
        "# Create a Lasso Regression model\n",
        "lasso_model = Lasso(alpha=1.0)  # You can adjust the alpha value\n",
        "\n",
        "# Train the model\n",
        "lasso_model.fit(X_train, y_train)\n",
        "\n",
        "# Predict on the test set\n",
        "y_pred = lasso_model.predict(X_test)\n",
        "\n",
        "# Evaluate the model using Mean Squared Error and R-squared\n",
        "mse = mean_squared_error(y_test, y_pred)\n",
        "r2 = r2_score(y_test, y_pred)\n",
        "\n",
        "print(\"Mean Squared Error:\", mse)\n",
        "print(\"R-squared:\", r2)"
      ],
      "metadata": {
        "id": "nCrdWh0L1jmc",
        "colab": {
          "base_uri": "https://localhost:8080/"
        },
        "outputId": "148eec0a-3fcf-4652-e669-62cf02edb26f"
      },
      "execution_count": 125,
      "outputs": [
        {
          "output_type": "stream",
          "name": "stdout",
          "text": [
            "Mean Squared Error: 33930924.6905315\n",
            "R-squared: 0.7814415334380399\n"
          ]
        }
      ]
    },
    {
      "cell_type": "code",
      "source": [
        "import pandas as pd\n",
        "from sklearn.model_selection import train_test_split, cross_val_score\n",
        "from sklearn.linear_model import Lasso\n",
        "from sklearn.metrics import mean_squared_error, r2_score\n",
        "\n",
        "# Perform cross-validation for Lasso Regression\n",
        "cv_scores_lasso = cross_val_score(lasso_model, X_train, y_train, cv=5, scoring='neg_mean_squared_error')\n",
        "cv_rmse_lasso = (-cv_scores_lasso)**0.5\n",
        "\n",
        "print(\"Cross-Validation RMSE scores for Lasso Regression:\", cv_rmse_lasso)\n",
        "print(\"Mean CV RMSE for Lasso Regression:\", cv_rmse_lasso.mean())\n",
        "\n",
        "# Train the Lasso Regression model\n",
        "lasso_model.fit(X_train, y_train)\n",
        "\n",
        "# Predict on the test set\n",
        "y_pred_lasso = lasso_model.predict(X_test)\n",
        "\n",
        "# Evaluate the Lasso Regression model using Mean Squared Error and R-squared\n",
        "mse_lasso = mean_squared_error(y_test, y_pred_lasso)\n",
        "r2_lasso = r2_score(y_test, y_pred_lasso)\n",
        "\n",
        "print(\"Lasso Regression Mean Squared Error:\", mse_lasso)\n",
        "print(\"Lasso Regression R-squared:\", r2_lasso)"
      ],
      "metadata": {
        "id": "eNPRtpKr3Imm",
        "colab": {
          "base_uri": "https://localhost:8080/"
        },
        "outputId": "b75cd505-9a1f-444e-ae40-ea7890a4e12d"
      },
      "execution_count": 126,
      "outputs": [
        {
          "output_type": "stream",
          "name": "stdout",
          "text": [
            "Cross-Validation RMSE scores for Lasso Regression: [6322.82314371 5669.33391037 5986.49657294 6829.67195415 5912.7317027 ]\n",
            "Mean CV RMSE for Lasso Regression: 6144.211456773044\n",
            "Lasso Regression Mean Squared Error: 33930924.6905315\n",
            "Lasso Regression R-squared: 0.7814415334380399\n"
          ]
        }
      ]
    },
    {
      "cell_type": "markdown",
      "metadata": {
        "id": "UMTFAMvp2pbK"
      },
      "source": [
        "### Random Forest"
      ]
    },
    {
      "cell_type": "code",
      "source": [
        "import pandas as pd\n",
        "from sklearn.model_selection import train_test_split, cross_val_score\n",
        "from sklearn.ensemble import RandomForestRegressor\n",
        "from sklearn.metrics import mean_squared_error, r2_score\n",
        "\n",
        "# Create a Random Forest Regressor\n",
        "rf_regressor = RandomForestRegressor(n_estimators=100, random_state=42)  # You can adjust n_estimators and other parameters\n",
        "\n",
        "# Perform cross-validation for Random Forest Regressor\n",
        "cv_scores_rf = cross_val_score(rf_regressor, X_train, y_train, cv=5, scoring='neg_mean_squared_error')\n",
        "cv_rmse_rf = (-cv_scores_rf)**0.5\n",
        "\n",
        "print(\"Cross-Validation RMSE scores for Random Forest Regressor:\", cv_rmse_rf)\n",
        "print(\"Mean CV RMSE for Random Forest Regressor:\", cv_rmse_rf.mean())\n",
        "\n",
        "# Train the Random Forest Regressor model\n",
        "rf_regressor.fit(X_train, y_train)\n",
        "\n",
        "# Predict on the test set\n",
        "y_pred_rf = rf_regressor.predict(X_test)\n",
        "\n",
        "# Evaluate the Random Forest Regressor model using Mean Squared Error and R-squared\n",
        "mse_rf = mean_squared_error(y_test, y_pred_rf)\n",
        "r2_rf = r2_score(y_test, y_pred_rf)\n",
        "\n",
        "print(\"Random Forest Regressor Mean Squared Error:\", mse_rf)\n",
        "print(\"Random Forest Regressor R-squared:\", r2_rf)"
      ],
      "metadata": {
        "id": "zf6syqi02GLI",
        "colab": {
          "base_uri": "https://localhost:8080/"
        },
        "outputId": "c1ff51e5-2a08-4a64-c42f-7a273de75f52"
      },
      "execution_count": 127,
      "outputs": [
        {
          "output_type": "stream",
          "name": "stdout",
          "text": [
            "Cross-Validation RMSE scores for Random Forest Regressor: [5108.04909605 4006.23910113 5115.00633924 5478.77501352 5020.05101665]\n",
            "Mean CV RMSE for Random Forest Regressor: 4945.624113316784\n",
            "Random Forest Regressor Mean Squared Error: 21637736.594993167\n",
            "Random Forest Regressor R-squared: 0.8606253565676333\n"
          ]
        }
      ]
    },
    {
      "cell_type": "markdown",
      "source": [
        "#Gradient Boosting"
      ],
      "metadata": {
        "id": "WNBS0E7vCCOY"
      }
    },
    {
      "cell_type": "code",
      "source": [
        "# Train the Gradient Boosting Regressor model\n",
        "gb_regressor.fit(X_train, y_train)\n",
        "\n",
        "# Predict on the test set\n",
        "y_pred_gb = gb_regressor.predict(X_test)\n",
        "\n",
        "# Evaluate the Gradient Boosting Regressor model using Mean Squared Error and R-squared\n",
        "mse_gb = mean_squared_error(y_test, y_pred_gb)\n",
        "r2_gb = r2_score(y_test, y_pred_gb)\n",
        "\n",
        "print(\"Gradient Boosting Regressor Mean Squared Error:\", mse_gb)\n",
        "print(\"Gradient Boosting Regressor R-squared:\", r2_gb)"
      ],
      "metadata": {
        "id": "tZlYf6jJCD7h",
        "colab": {
          "base_uri": "https://localhost:8080/"
        },
        "outputId": "d10e2ed7-c076-4a27-ceac-74d3fd771827"
      },
      "execution_count": 128,
      "outputs": [
        {
          "output_type": "stream",
          "name": "stdout",
          "text": [
            "Gradient Boosting Regressor Mean Squared Error: 18979979.039642848\n",
            "Gradient Boosting Regressor R-squared: 0.8777447077520979\n"
          ]
        }
      ]
    },
    {
      "cell_type": "markdown",
      "source": [
        "#Overfitting and Underfitting Check"
      ],
      "metadata": {
        "id": "npPf3MXyC2sj"
      }
    },
    {
      "cell_type": "code",
      "source": [
        "##LINEAR REGRESSION\n",
        "\n",
        "import numpy as np\n",
        "import matplotlib.pyplot as plt\n",
        "from sklearn.model_selection import train_test_split\n",
        "from sklearn.linear_model import LinearRegression\n",
        "from sklearn.metrics import mean_squared_error, r2_score\n",
        "\n",
        "# Create linear regression models with different complexities\n",
        "model_underfit = LinearRegression()\n",
        "model_goodfit = LinearRegression()\n",
        "model_overfit = LinearRegression()\n",
        "\n",
        "# Train the models\n",
        "model_underfit.fit(X_train, y_train)\n",
        "model_goodfit.fit(X_train, y_train)\n",
        "model_overfit.fit(X_train, y_train)\n",
        "\n",
        "# Make predictions on training and test data\n",
        "y_pred_underfit_train = model_underfit.predict(X_train)\n",
        "y_pred_goodfit_train = model_goodfit.predict(X_train)\n",
        "y_pred_overfit_train = model_overfit.predict(X_train)\n",
        "\n",
        "y_pred_underfit_test = model_underfit.predict(X_test)\n",
        "y_pred_goodfit_test = model_goodfit.predict(X_test)\n",
        "y_pred_overfit_test = model_overfit.predict(X_test)\n",
        "\n",
        "# Calculate performance metrics\n",
        "mse_underfit_train = mean_squared_error(y_train, y_pred_underfit_train)\n",
        "mse_goodfit_train = mean_squared_error(y_train, y_pred_goodfit_train)\n",
        "mse_overfit_train = mean_squared_error(y_train, y_pred_overfit_train)\n",
        "\n",
        "mse_underfit_test = mean_squared_error(y_test, y_pred_underfit_test)\n",
        "mse_goodfit_test = mean_squared_error(y_test, y_pred_goodfit_test)\n",
        "mse_overfit_test = mean_squared_error(y_test, y_pred_overfit_test)\n",
        "\n",
        "r2_underfit_train = r2_score(y_train, y_pred_underfit_train)\n",
        "r2_goodfit_train = r2_score(y_train, y_pred_goodfit_train)\n",
        "r2_overfit_train = r2_score(y_train, y_pred_overfit_train)\n",
        "\n",
        "r2_underfit_test = r2_score(y_test, y_pred_underfit_test)\n",
        "r2_goodfit_test = r2_score(y_test, y_pred_goodfit_test)\n",
        "r2_overfit_test = r2_score(y_test, y_pred_overfit_test)\n",
        "\n",
        "# Print the results\n",
        "print(\"MSE and R-squared scores for different models:\")\n",
        "print(\"Underfit (Training) - MSE: {:.4f}, R-squared: {:.4f}\".format(mse_underfit_train, r2_underfit_train))\n",
        "print(\"Good Fit (Training) - MSE: {:.4f}, R-squared: {:.4f}\".format(mse_goodfit_train, r2_goodfit_train))\n",
        "print(\"Overfit (Training) - MSE: {:.4f}, R-squared: {:.4f}\".format(mse_overfit_train, r2_overfit_train))\n",
        "print(\"Underfit (Test) - MSE: {:.4f}, R-squared: {:.4f}\".format(mse_underfit_test, r2_underfit_test))\n",
        "print(\"Good Fit (Test) - MSE: {:.4f}, R-squared: {:.4f}\".format(mse_goodfit_test, r2_goodfit_test))\n",
        "print(\"Overfit (Test) - MSE: {:.4f}, R-squared: {:.4f}\".format(mse_overfit_test, r2_overfit_test))"
      ],
      "metadata": {
        "colab": {
          "base_uri": "https://localhost:8080/"
        },
        "id": "7dLq8q5Kdzr_",
        "outputId": "cb69d1e3-1682-45df-c683-1dc5b06814ba"
      },
      "execution_count": 137,
      "outputs": [
        {
          "output_type": "stream",
          "name": "stdout",
          "text": [
            "MSE and R-squared scores for different models:\n",
            "Underfit (Training) - MSE: 37313600.5074, R-squared: 0.7415\n",
            "Good Fit (Training) - MSE: 37313600.5074, R-squared: 0.7415\n",
            "Overfit (Training) - MSE: 37313600.5074, R-squared: 0.7415\n",
            "Underfit (Test) - MSE: 33927609.0171, R-squared: 0.7815\n",
            "Good Fit (Test) - MSE: 33927609.0171, R-squared: 0.7815\n",
            "Overfit (Test) - MSE: 33927609.0171, R-squared: 0.7815\n"
          ]
        }
      ]
    },
    {
      "cell_type": "code",
      "source": [
        "##RANDOM FOREST\n",
        "\n",
        "model_underfit = RandomForestRegressor()\n",
        "model_goodfit = RandomForestRegressor()\n",
        "model_overfit = RandomForestRegressor()\n",
        "\n",
        "# Train the models\n",
        "model_underfit.fit(X_train, y_train)\n",
        "model_goodfit.fit(X_train, y_train)\n",
        "model_overfit.fit(X_train, y_train)\n",
        "\n",
        "# Make predictions on training and test data\n",
        "y_pred_underfit_train = model_underfit.predict(X_train)\n",
        "y_pred_goodfit_train = model_goodfit.predict(X_train)\n",
        "y_pred_overfit_train = model_overfit.predict(X_train)\n",
        "\n",
        "y_pred_underfit_test = model_underfit.predict(X_test)\n",
        "y_pred_goodfit_test = model_goodfit.predict(X_test)\n",
        "y_pred_overfit_test = model_overfit.predict(X_test)\n",
        "\n",
        "# Calculate performance metrics\n",
        "mse_underfit_train = mean_squared_error(y_train, y_pred_underfit_train)\n",
        "mse_goodfit_train = mean_squared_error(y_train, y_pred_goodfit_train)\n",
        "mse_overfit_train = mean_squared_error(y_train, y_pred_overfit_train)\n",
        "\n",
        "mse_underfit_test = mean_squared_error(y_test, y_pred_underfit_test)\n",
        "mse_goodfit_test = mean_squared_error(y_test, y_pred_goodfit_test)\n",
        "mse_overfit_test = mean_squared_error(y_test, y_pred_overfit_test)\n",
        "\n",
        "r2_underfit_train = r2_score(y_train, y_pred_underfit_train)\n",
        "r2_goodfit_train = r2_score(y_train, y_pred_goodfit_train)\n",
        "r2_overfit_train = r2_score(y_train, y_pred_overfit_train)\n",
        "\n",
        "r2_underfit_test = r2_score(y_test, y_pred_underfit_test)\n",
        "r2_goodfit_test = r2_score(y_test, y_pred_goodfit_test)\n",
        "r2_overfit_test = r2_score(y_test, y_pred_overfit_test)\n",
        "\n",
        "# Print the results\n",
        "print(\"MSE and R-squared scores for different models:\")\n",
        "print(\"Underfit (Training) - MSE: {:.4f}, R-squared: {:.4f}\".format(mse_underfit_train, r2_underfit_train))\n",
        "print(\"Good Fit (Training) - MSE: {:.4f}, R-squared: {:.4f}\".format(mse_goodfit_train, r2_goodfit_train))\n",
        "print(\"Overfit (Training) - MSE: {:.4f}, R-squared: {:.4f}\".format(mse_overfit_train, r2_overfit_train))\n",
        "print(\"Underfit (Test) - MSE: {:.4f}, R-squared: {:.4f}\".format(mse_underfit_test, r2_underfit_test))\n",
        "print(\"Good Fit (Test) - MSE: {:.4f}, R-squared: {:.4f}\".format(mse_goodfit_test, r2_goodfit_test))\n",
        "print(\"Overfit (Test) - MSE: {:.4f}, R-squared: {:.4f}\".format(mse_overfit_test, r2_overfit_test))"
      ],
      "metadata": {
        "colab": {
          "base_uri": "https://localhost:8080/"
        },
        "id": "mkbB0g-WeTgL",
        "outputId": "33dfa127-89da-4b77-9823-296d5dd98e4f"
      },
      "execution_count": 138,
      "outputs": [
        {
          "output_type": "stream",
          "name": "stdout",
          "text": [
            "MSE and R-squared scores for different models:\n",
            "Underfit (Training) - MSE: 3385364.0553, R-squared: 0.9765\n",
            "Good Fit (Training) - MSE: 3669487.5427, R-squared: 0.9746\n",
            "Overfit (Training) - MSE: 3607934.5394, R-squared: 0.9750\n",
            "Underfit (Test) - MSE: 22018304.6841, R-squared: 0.8582\n",
            "Good Fit (Test) - MSE: 21584252.4973, R-squared: 0.8610\n",
            "Overfit (Test) - MSE: 21424274.0967, R-squared: 0.8620\n"
          ]
        }
      ]
    },
    {
      "cell_type": "code",
      "source": [
        "# Create Lasso models with different complexity levels\n",
        "model_underfit = Lasso(alpha=1.0)  # High regularization\n",
        "model_goodfit = Lasso(alpha=0.1)   # Moderate regularization\n",
        "model_overfit = Lasso(alpha=0.01)  # Low regularization\n",
        "\n",
        "# Train the models\n",
        "model_underfit.fit(X_train, y_train)\n",
        "model_goodfit.fit(X_train, y_train)\n",
        "model_overfit.fit(X_train, y_train)\n",
        "\n",
        "# Make predictions on training and test data\n",
        "y_pred_underfit_train = model_underfit.predict(X_train)\n",
        "y_pred_goodfit_train = model_goodfit.predict(X_train)\n",
        "y_pred_overfit_train = model_overfit.predict(X_train)\n",
        "\n",
        "y_pred_underfit_test = model_underfit.predict(X_test)\n",
        "y_pred_goodfit_test = model_goodfit.predict(X_test)\n",
        "y_pred_overfit_test = model_overfit.predict(X_test)\n",
        "\n",
        "# Calculate performance metrics\n",
        "mse_underfit_train = mean_squared_error(y_train, y_pred_underfit_train)\n",
        "mse_goodfit_train = mean_squared_error(y_train, y_pred_goodfit_train)\n",
        "mse_overfit_train = mean_squared_error(y_train, y_pred_overfit_train)\n",
        "\n",
        "mse_underfit_test = mean_squared_error(y_test, y_pred_underfit_test)\n",
        "mse_goodfit_test = mean_squared_error(y_test, y_pred_goodfit_test)\n",
        "mse_overfit_test = mean_squared_error(y_test, y_pred_overfit_test)\n",
        "\n",
        "r2_underfit_train = r2_score(y_train, y_pred_underfit_train)\n",
        "r2_goodfit_train = r2_score(y_train, y_pred_goodfit_train)\n",
        "r2_overfit_train = r2_score(y_train, y_pred_overfit_train)\n",
        "\n",
        "r2_underfit_test = r2_score(y_test, y_pred_underfit_test)\n",
        "r2_goodfit_test = r2_score(y_test, y_pred_goodfit_test)\n",
        "r2_overfit_test = r2_score(y_test, y_pred_overfit_test)\n",
        "\n",
        "# Print the results\n",
        "print(\"MSE and R-squared scores for different models:\")\n",
        "print(\"Underfit (Training) - MSE: {:.4f}, R-squared: {:.4f}\".format(mse_underfit_train, r2_underfit_train))\n",
        "print(\"Good Fit (Training) - MSE: {:.4f}, R-squared: {:.4f}\".format(mse_goodfit_train, r2_goodfit_train))\n",
        "print(\"Overfit (Training) - MSE: {:.4f}, R-squared: {:.4f}\".format(mse_overfit_train, r2_overfit_train))\n",
        "print(\"Underfit (Test) - MSE: {:.4f}, R-squared: {:.4f}\".format(mse_underfit_test, r2_underfit_test))\n",
        "print(\"Good Fit (Test) - MSE: {:.4f}, R-squared: {:.4f}\".format(mse_goodfit_test, r2_goodfit_test))\n",
        "print(\"Overfit (Test) - MSE: {:.4f}, R-squared: {:.4f}\".format(mse_overfit_test, r2_overfit_test))"
      ],
      "metadata": {
        "colab": {
          "base_uri": "https://localhost:8080/"
        },
        "id": "mt5T37zpeizD",
        "outputId": "c9c65642-8edc-448d-d129-0305ca16a70d"
      },
      "execution_count": 142,
      "outputs": [
        {
          "output_type": "stream",
          "name": "stdout",
          "text": [
            "MSE and R-squared scores for different models:\n",
            "Underfit (Training) - MSE: 37313612.7984, R-squared: 0.7415\n",
            "Good Fit (Training) - MSE: 37313600.6303, R-squared: 0.7415\n",
            "Overfit (Training) - MSE: 37313600.5086, R-squared: 0.7415\n",
            "Underfit (Test) - MSE: 33930924.6905, R-squared: 0.7814\n",
            "Good Fit (Test) - MSE: 33927939.5353, R-squared: 0.7815\n",
            "Overfit (Test) - MSE: 33927642.0586, R-squared: 0.7815\n"
          ]
        }
      ]
    },
    {
      "cell_type": "code",
      "source": [
        "#DECISION TREE\n",
        "from sklearn.tree import DecisionTreeRegressor\n",
        "from sklearn.metrics import mean_squared_error, r2_score\n",
        "from sklearn.model_selection import train_test_split\n",
        "\n",
        "# Split the data into training and test sets\n",
        "X_train, X_test, y_train, y_test = train_test_split(X, y, test_size=0.2, random_state=42)\n",
        "\n",
        "# Create Decision Tree Regressor models with different depths\n",
        "model_underfit = DecisionTreeRegressor(max_depth=3)  # Shallow tree\n",
        "model_goodfit = DecisionTreeRegressor(max_depth=10)  # Moderate depth\n",
        "model_overfit = DecisionTreeRegressor(max_depth=None)  # Deep tree (potential overfitting)\n",
        "\n",
        "# Train the models\n",
        "model_underfit.fit(X_train, y_train)\n",
        "model_goodfit.fit(X_train, y_train)\n",
        "model_overfit.fit(X_train, y_train)\n",
        "\n",
        "# Make predictions on training and test data\n",
        "y_pred_underfit_train = model_underfit.predict(X_train)\n",
        "y_pred_goodfit_train = model_goodfit.predict(X_train)\n",
        "y_pred_overfit_train = model_overfit.predict(X_train)\n",
        "\n",
        "y_pred_underfit_test = model_underfit.predict(X_test)\n",
        "y_pred_goodfit_test = model_goodfit.predict(X_test)\n",
        "y_pred_overfit_test = model_overfit.predict(X_test)\n",
        "\n",
        "# Calculate performance metrics\n",
        "mse_underfit_train = mean_squared_error(y_train, y_pred_underfit_train)\n",
        "mse_goodfit_train = mean_squared_error(y_train, y_pred_goodfit_train)\n",
        "mse_overfit_train = mean_squared_error(y_train, y_pred_overfit_train)\n",
        "\n",
        "mse_underfit_test = mean_squared_error(y_test, y_pred_underfit_test)\n",
        "mse_goodfit_test = mean_squared_error(y_test, y_pred_goodfit_test)\n",
        "mse_overfit_test = mean_squared_error(y_test, y_pred_overfit_test)\n",
        "\n",
        "r2_underfit_train = r2_score(y_train, y_pred_underfit_train)\n",
        "r2_goodfit_train = r2_score(y_train, y_pred_goodfit_train)\n",
        "r2_overfit_train = r2_score(y_train, y_pred_overfit_train)\n",
        "\n",
        "r2_underfit_test = r2_score(y_test, y_pred_underfit_test)\n",
        "r2_goodfit_test = r2_score(y_test, y_pred_goodfit_test)\n",
        "r2_overfit_test = r2_score(y_test, y_pred_overfit_test)\n",
        "\n",
        "# Print the results\n",
        "print(\"MSE and R-squared scores for different models:\")\n",
        "print(\"Underfit (Training) - MSE: {:.4f}, R-squared: {:.4f}\".format(mse_underfit_train, r2_underfit_train))\n",
        "print(\"Good Fit (Training) - MSE: {:.4f}, R-squared: {:.4f}\".format(mse_goodfit_train, r2_goodfit_train))\n",
        "print(\"Overfit (Training) - MSE: {:.4f}, R-squared: {:.4f}\".format(mse_overfit_train, r2_overfit_train))\n",
        "print(\"Underfit (Test) - MSE: {:.4f}, R-squared: {:.4f}\".format(mse_underfit_test, r2_underfit_test))\n",
        "print(\"Good Fit (Test) - MSE: {:.4f}, R-squared: {:.4f}\".format(mse_goodfit_test, r2_goodfit_test))\n",
        "print(\"Overfit (Test) - MSE: {:.4f}, R-squared: {:.4f}\".format(mse_overfit_test, r2_overfit_test))"
      ],
      "metadata": {
        "colab": {
          "base_uri": "https://localhost:8080/"
        },
        "id": "XHMPFSM1fajb",
        "outputId": "30c00219-f95c-4586-a0aa-fc454c49fcde"
      },
      "execution_count": 143,
      "outputs": [
        {
          "output_type": "stream",
          "name": "stdout",
          "text": [
            "MSE and R-squared scores for different models:\n",
            "Underfit (Training) - MSE: 21120357.0162, R-squared: 0.8537\n",
            "Good Fit (Training) - MSE: 4718019.6223, R-squared: 0.9673\n",
            "Overfit (Training) - MSE: 244239.5544, R-squared: 0.9983\n",
            "Underfit (Test) - MSE: 22812669.8523, R-squared: 0.8531\n",
            "Good Fit (Test) - MSE: 39642992.9003, R-squared: 0.7446\n",
            "Overfit (Test) - MSE: 43616492.4874, R-squared: 0.7191\n"
          ]
        }
      ]
    },
    {
      "cell_type": "code",
      "source": [
        "##SVR\n",
        "\n",
        "from sklearn.preprocessing import StandardScaler\n",
        "\n",
        "# Standardize the features\n",
        "scaler = StandardScaler()\n",
        "X_train_scaled = scaler.fit_transform(X_train)\n",
        "X_test_scaled = scaler.transform(X_test)\n",
        "\n",
        "# Create SVR models with different complexity levels\n",
        "model_underfit = SVR(C=1.0, epsilon=0.2)  # High regularization\n",
        "model_goodfit = SVR(C=10.0, epsilon=0.1)  # Moderate regularization\n",
        "model_overfit = SVR(C=100.0, epsilon=0.05)  # Low regularization\n",
        "\n",
        "# Train the models\n",
        "model_underfit.fit(X_train_scaled, y_train)\n",
        "model_goodfit.fit(X_train_scaled, y_train)\n",
        "model_overfit.fit(X_train_scaled, y_train)\n",
        "\n",
        "# Make predictions on training and test data\n",
        "y_pred_underfit_train = model_underfit.predict(X_train_scaled)\n",
        "y_pred_goodfit_train = model_goodfit.predict(X_train_scaled)\n",
        "y_pred_overfit_train = model_overfit.predict(X_train_scaled)\n",
        "\n",
        "y_pred_underfit_test = model_underfit.predict(X_test_scaled)\n",
        "y_pred_goodfit_test = model_goodfit.predict(X_test_scaled)\n",
        "y_pred_overfit_test = model_overfit.predict(X_test_scaled)\n",
        "\n",
        "# Calculate performance metrics\n",
        "mse_underfit_train = mean_squared_error(y_train, y_pred_underfit_train)\n",
        "mse_goodfit_train = mean_squared_error(y_train, y_pred_goodfit_train)\n",
        "mse_overfit_train = mean_squared_error(y_train, y_pred_overfit_train)\n",
        "\n",
        "mse_underfit_test = mean_squared_error(y_test, y_pred_underfit_test)\n",
        "mse_goodfit_test = mean_squared_error(y_test, y_pred_goodfit_test)\n",
        "mse_overfit_test = mean_squared_error(y_test, y_pred_overfit_test)\n",
        "\n",
        "r2_underfit_train = r2_score(y_train, y_pred_underfit_train)\n",
        "r2_goodfit_train = r2_score(y_train, y_pred_goodfit_train)\n",
        "r2_overfit_train = r2_score(y_train, y_pred_overfit_train)\n",
        "\n",
        "r2_underfit_test = r2_score(y_test, y_pred_underfit_test)\n",
        "r2_goodfit_test = r2_score(y_test, y_pred_goodfit_test)\n",
        "r2_overfit_test = r2_score(y_test, y_pred_overfit_test)\n",
        "\n",
        "# Print the results\n",
        "print(\"MSE and R-squared scores for different models:\")\n",
        "print(\"Underfit (Training) - MSE: {:.4f}, R-squared: {:.4f}\".format(mse_underfit_train, r2_underfit_train))\n",
        "print(\"Good Fit (Training) - MSE: {:.4f}, R-squared: {:.4f}\".format(mse_goodfit_train, r2_goodfit_train))\n",
        "print(\"Overfit (Training) - MSE: {:.4f}, R-squared: {:.4f}\".format(mse_overfit_train, r2_overfit_train))\n",
        "print(\"Underfit (Test) - MSE: {:.4f}, R-squared: {:.4f}\".format(mse_underfit_test, r2_underfit_test))\n",
        "print(\"Good Fit (Test) - MSE: {:.4f}, R-squared: {:.4f}\".format(mse_goodfit_test, r2_goodfit_test))\n",
        "print(\"Overfit (Test) - MSE: {:.4f}, R-squared: {:.4f}\".format(mse_overfit_test, r2_overfit_test))\n"
      ],
      "metadata": {
        "colab": {
          "base_uri": "https://localhost:8080/"
        },
        "id": "jLrCS2DhfqRN",
        "outputId": "762e576f-2fff-4be5-983f-4cf293798870"
      },
      "execution_count": 144,
      "outputs": [
        {
          "output_type": "stream",
          "name": "stdout",
          "text": [
            "MSE and R-squared scores for different models:\n",
            "Underfit (Training) - MSE: 157685119.5914, R-squared: -0.0925\n",
            "Good Fit (Training) - MSE: 150931005.6611, R-squared: -0.0457\n",
            "Overfit (Training) - MSE: 102196458.9288, R-squared: 0.2919\n",
            "Underfit (Test) - MSE: 165809589.8863, R-squared: -0.0680\n",
            "Good Fit (Test) - MSE: 158256091.6828, R-squared: -0.0194\n",
            "Overfit (Test) - MSE: 105415585.0116, R-squared: 0.3210\n"
          ]
        }
      ]
    },
    {
      "cell_type": "markdown",
      "metadata": {
        "id": "LqbKgHj42pbK"
      },
      "source": [
        "## Results"
      ]
    },
    {
      "cell_type": "code",
      "execution_count": 131,
      "metadata": {
        "id": "5qmUnLoT2pbL",
        "colab": {
          "base_uri": "https://localhost:8080/",
          "height": 789
        },
        "outputId": "f731e378-2f1d-42d8-aba9-d8001f169747"
      },
      "outputs": [
        {
          "output_type": "error",
          "ename": "NameError",
          "evalue": "ignored",
          "traceback": [
            "\u001b[0;31m---------------------------------------------------------------------------\u001b[0m",
            "\u001b[0;31mNameError\u001b[0m                                 Traceback (most recent call last)",
            "\u001b[0;32m<ipython-input-131-883e2800ba4a>\u001b[0m in \u001b[0;36m<cell line: 3>\u001b[0;34m()\u001b[0m\n\u001b[1;32m      1\u001b[0m \u001b[0;31m# comparing all metrics for this stage of analysis\u001b[0m\u001b[0;34m\u001b[0m\u001b[0;34m\u001b[0m\u001b[0m\n\u001b[1;32m      2\u001b[0m \u001b[0mfig\u001b[0m\u001b[0;34m,\u001b[0m \u001b[0max\u001b[0m \u001b[0;34m=\u001b[0m \u001b[0mplt\u001b[0m\u001b[0;34m.\u001b[0m\u001b[0msubplots\u001b[0m\u001b[0;34m(\u001b[0m\u001b[0;36m2\u001b[0m\u001b[0;34m,\u001b[0m \u001b[0;36m3\u001b[0m\u001b[0;34m,\u001b[0m \u001b[0msharex\u001b[0m\u001b[0;34m=\u001b[0m\u001b[0;32mTrue\u001b[0m\u001b[0;34m,\u001b[0m \u001b[0msharey\u001b[0m\u001b[0;34m=\u001b[0m\u001b[0;32mFalse\u001b[0m\u001b[0;34m,\u001b[0m \u001b[0mfigsize\u001b[0m\u001b[0;34m=\u001b[0m\u001b[0;34m(\u001b[0m\u001b[0;36m30\u001b[0m\u001b[0;34m,\u001b[0m \u001b[0;36m10\u001b[0m\u001b[0;34m)\u001b[0m\u001b[0;34m,\u001b[0m \u001b[0mdpi\u001b[0m\u001b[0;34m=\u001b[0m\u001b[0;36m300\u001b[0m\u001b[0;34m)\u001b[0m\u001b[0;34m\u001b[0m\u001b[0;34m\u001b[0m\u001b[0m\n\u001b[0;32m----> 3\u001b[0;31m \u001b[0mx_labels\u001b[0m \u001b[0;34m=\u001b[0m \u001b[0mresults\u001b[0m\u001b[0;34m[\u001b[0m\u001b[0;34m'ml_algorithm'\u001b[0m\u001b[0;34m]\u001b[0m\u001b[0;34m\u001b[0m\u001b[0;34m\u001b[0m\u001b[0m\n\u001b[0m\u001b[1;32m      4\u001b[0m \u001b[0mindices\u001b[0m \u001b[0;34m=\u001b[0m \u001b[0mnp\u001b[0m\u001b[0;34m.\u001b[0m\u001b[0marange\u001b[0m\u001b[0;34m(\u001b[0m\u001b[0mlen\u001b[0m\u001b[0;34m(\u001b[0m\u001b[0mx_labels\u001b[0m\u001b[0;34m)\u001b[0m\u001b[0;34m)\u001b[0m\u001b[0;34m\u001b[0m\u001b[0;34m\u001b[0m\u001b[0m\n\u001b[1;32m      5\u001b[0m \u001b[0mwidth\u001b[0m \u001b[0;34m=\u001b[0m \u001b[0;36m0.3\u001b[0m\u001b[0;34m\u001b[0m\u001b[0;34m\u001b[0m\u001b[0m\n",
            "\u001b[0;31mNameError\u001b[0m: name 'results' is not defined"
          ]
        },
        {
          "output_type": "display_data",
          "data": {
            "text/plain": [
              "<Figure size 9000x3000 with 6 Axes>"
            ],
            "image/png": "[encoded data removed]"
          },
          "metadata": {}
        }
      ],
      "source": [
        "# comparing all metrics for this stage of analysis\n",
        "fig, ax = plt.subplots(2, 3, sharex=True, sharey=False, figsize=(30, 10), dpi=300)\n",
        "x_labels = results['ml_algorithm']\n",
        "indices = np.arange(len(x_labels))\n",
        "width = 0.3\n",
        "\n",
        "#row=0, col=0\n",
        "ax[0,0].bar(indices,results['mae'],color=\"lightcoral\",alpha=1,label=\"MAE\")\n",
        "ax[0,0].grid(True,alpha=0.5)\n",
        "# ax[0,0].set_ylim(0,1)\n",
        "ax[0,0].set_xlabel(\"algorithm\")\n",
        "ax[0,0].set_ylabel(\"MAE\")\n",
        "ax[0,0].set_title(\"MAE Comparison\")\n",
        "ax[0,0].legend(loc='lower right')\n",
        "ax[0,0].set_xticks(indices, x_labels, rotation=45)\n",
        "\n",
        "#row=0, col=1\n",
        "ax[0,1].bar(indices,results['mse'],color=\"gold\",alpha=1,label=\"MSE\")\n",
        "ax[0,1].grid(True,alpha=0.5)\n",
        "# ax[0,1].set_ylim(0,1)\n",
        "ax[0,1].set_xlabel(\"algorithm\")\n",
        "ax[0,1].set_ylabel(\"MSE\")\n",
        "ax[0,1].set_title(\"MSE Comparison\")\n",
        "ax[0,1].legend(loc='lower right')\n",
        "ax[0,1].set_xticks(indices, x_labels, rotation=45)\n",
        "\n",
        "#row=0, col=2\n",
        "ax[0,2].bar(indices,results['rmse'],color=\"lightgreen\",alpha=1,label=\"RMSE\")\n",
        "ax[0,2].grid(True,alpha=0.5)\n",
        "# ax[0,2].set_ylim(0,1)\n",
        "ax[0,2].set_xlabel(\"algorithm\")\n",
        "ax[0,2].set_ylabel(\"RMSE\")\n",
        "ax[0,2].set_title(\"RMSE Comparison\")\n",
        "ax[0,2].legend(loc='lower right')\n",
        "ax[0,2].set_xticks(indices, x_labels, rotation=45)\n",
        "\n",
        "#row=1, col=0\n",
        "ax[1,0].bar(indices,results['r2'],color=\"lightskyblue\",alpha=1,label=\"R2\")\n",
        "ax[1,0].grid(True,alpha=0.5)\n",
        "# ax[1,0].set_ylim(0,1)\n",
        "ax[1,0].set_xlabel(\"algorithm\")\n",
        "ax[1,0].set_ylabel(\"R2\")\n",
        "ax[1,0].set_title(\"R2 Comparison\")\n",
        "ax[1,0].legend(loc='lower right')\n",
        "ax[1,0].set_xticks(indices, x_labels, rotation=45)\n",
        "\n",
        "#row=1, col=1\n",
        "ax[1,1].bar(indices,results['adjusted_r2'],color=\"mediumpurple\",alpha=1,label=\"Adjusted R2\")\n",
        "ax[1,1].grid(True,alpha=0.5)\n",
        "# ax[1,1].set_ylim(0,1)\n",
        "ax[1,1].set_xlabel(\"algorithm\")\n",
        "ax[1,1].set_ylabel(\"Adjusted R2\")\n",
        "ax[1,1].set_title(\"Adjusted R2 Comparison\")\n",
        "ax[1,1].legend(loc='lower right')\n",
        "ax[1,1].set_xticks(indices, x_labels, rotation=45)\n",
        "\n",
        "#row=1, col=2\n",
        "ax[1,2].bar(indices,results['cross_val'],color=\"darkgrey\",alpha=1,label=\"Cross-Validation Score\")\n",
        "ax[1,2].grid(True,alpha=0.5)\n",
        "# ax[1,2].set_ylim(0,1)\n",
        "ax[1,2].set_xlabel(\"algorithm\")\n",
        "ax[1,2].set_ylabel(\"Mean Cross-Validation Score\")\n",
        "ax[1,2].set_title(\"Mean Cross-Validation Score Comparison\")\n",
        "ax[1,2].legend(loc='lower right')\n",
        "ax[1,2].set_xticks(indices, x_labels, rotation=45)"
      ]
    },
    {
      "cell_type": "markdown",
      "metadata": {
        "id": "Zkcif5fSsEOt"
      },
      "source": [
        "## Discussion and Conclusion\n",
        "\n",
        "MAE (Mean Absolute Error) measures mean absolute difference between actual and predicted values. The lower the MAE value, the more accurate the model is. In our case, we see that the Support Vector Regression model has the lowest MAE, which taking into account our target variable, Caffeine (mg), indicates that on average, the model predicts the value of caffeine amount differs from the actual caffeiene amount by 34 mg. The next well-performing models are Random Forest and Lasso Regression, with MAE values of 44 and 59 mg respectively. The worst-performing models are Linear Regression and Decision Tree, with MAE values of 85 and 86 mg of caffeine, which is too big a difference.\n",
        "\n",
        "MSE (Mean Squared Error) measures mean squared difference between actual and prediced values, and penalizes the error more and to see how the outliers are affecting the predictions. The lower the MSE value, the more accurate the model is. The RMSE is just the squared root of the MSE value. In our case, we find that the Support Vector Regression model again has the lowest RMSE of 52 mg, followed by Random Forest and Lasso Regression, with RMSE values of 56 and 72 mg respectively. Again, we find the worst-performing models are Linear Regression and Decision Tree, with RMSE values of 90 and 104 mg respectively.\n",
        "\n",
        "R2 measures how the independent variable(s) (X) affect the dependent/target variable, Y. R2 value is always betweeen 0 and 1, where 0 indicates the model does not explain any variablity in the target variable, and 1 indicates it explains full variability in Y. We find that the Decision Tree model has a negative R2 value, which is not possible and indicates either there is something wrong with the model, or it is not a good fit for our problem. We will disregard it. The other 4 models have R2 values less than 0.5, indicating the model explains some variability in the target variable to a lesser extent.\n",
        "\n",
        "Adjusted R2 takes into account the number of features in the model and its degrees of freedom. Its value only increases if the new term improves the accuracy. We see that the adjusted R2 value are proportionate to the R2 values and follow that same pattern, which indicates the model is not too complex.\n",
        "\n"
      ]
    }
  ],
  "metadata": {
    "colab": {
      "provenance": []
    },
    "kernelspec": {
      "display_name": "Python 3",
      "language": "python",
      "name": "python3"
    },
    "language_info": {
      "codemirror_mode": {
        "name": "ipython",
        "version": 3
      },
      "file_extension": ".py",
      "mimetype": "text/x-python",
      "name": "python",
      "nbconvert_exporter": "python",
      "pygments_lexer": "ipython3",
      "version": "3.11.4"
    },
    "orig_nbformat": 4
  },
  "nbformat": 4,
  "nbformat_minor": 0
}