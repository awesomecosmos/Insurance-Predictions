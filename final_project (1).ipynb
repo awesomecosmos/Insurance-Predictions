{
  "cells": [
    {
      "cell_type": "markdown",
      "metadata": {
        "id": "RgLIOmHj2paw"
      },
      "source": [
        "# CS677 Machine Learning Final Project\n",
        "## Insurance Cost Per Family\n",
        "\n",
        "by Kelsey Woods and Aayushi Verma"
      ]
    },
    {
      "cell_type": "markdown",
      "metadata": {
        "id": "phmkYK6O2pa2"
      },
      "source": [
        "We are using a dataset titled Medical Cost Personal Dataset by Kaggle https://www.kaggle.com/datasets/mirichoi0218/insurance?resource=download. It lists the cost per family and its possibly associated factors."
      ]
    },
    {
      "cell_type": "code",
      "execution_count": 570,
      "metadata": {
        "id": "AyXWXWBd2pa2"
      },
      "outputs": [],
      "source": [
        "# importing packages\n",
        "import numpy as np\n",
        "import pandas as pd\n",
        "import seaborn as sns\n",
        "import matplotlib.pyplot as plt\n",
        "from sklearn.metrics import accuracy_score, recall_score, precision_score, f1_score, confusion_matrix\n",
        "from sklearn.metrics import ConfusionMatrixDisplay\n",
        "from sklearn.model_selection import train_test_split\n",
        "from sklearn.svm import SVR\n",
        "from sklearn import metrics\n",
        "from sklearn.metrics import mean_squared_error, mean_absolute_error, r2_score\n",
        "from sklearn.linear_model import LinearRegression\n",
        "from sklearn.linear_model import Lasso\n",
        "from sklearn.ensemble import RandomForestRegressor\n",
        "from sklearn.model_selection import cross_val_score\n",
        "from sklearn.tree import DecisionTreeClassifier"
      ]
    },
    {
      "cell_type": "markdown",
      "metadata": {
        "id": "QiCWXMLl_2zJ"
      },
      "source": [
        "### Preparation & EDA\n",
        "\n",
        "We start by performing Exploratory Data Analysis and cleaning on this dataset to prepare for the machine learning process."
      ]
    },
    {
      "cell_type": "code",
      "execution_count": 571,
      "metadata": {
        "id": "CrwyXNd32pa4"
      },
      "outputs": [],
      "source": [
        "# reading data\n",
        "df = pd.read_csv('/content/insurance.csv')"
      ]
    },
    {
      "cell_type": "code",
      "execution_count": 572,
      "metadata": {
        "colab": {
          "base_uri": "https://localhost:8080/",
          "height": 519
        },
        "id": "3Dh_etkG2pa5",
        "outputId": "e77e84bc-b4aa-4e06-cb74-5b9fff41659a"
      },
      "outputs": [
        {
          "output_type": "execute_result",
          "data": {
            "text/plain": [
              "    age     sex     bmi  children smoker     region      charges\n",
              "0    19  female  27.900         0    yes  southwest  16884.92400\n",
              "1    18    male  33.770         1     no  southeast   1725.55230\n",
              "2    28    male  33.000         3     no  southeast   4449.46200\n",
              "3    33    male  22.705         0     no  northwest  21984.47061\n",
              "4    32    male  28.880         0     no  northwest   3866.85520\n",
              "5    31  female  25.740         0     no  southeast   3756.62160\n",
              "6    46  female  33.440         1     no  southeast   8240.58960\n",
              "7    37  female  27.740         3     no  northwest   7281.50560\n",
              "8    37    male  29.830         2     no  northeast   6406.41070\n",
              "9    60  female  25.840         0     no  northwest  28923.13692\n",
              "10   25    male  26.220         0     no  northeast   2721.32080\n",
              "11   62  female  26.290         0    yes  southeast  27808.72510\n",
              "12   23    male  34.400         0     no  southwest   1826.84300\n",
              "13   56  female  39.820         0     no  southeast  11090.71780\n",
              "14   27    male  42.130         0    yes  southeast  39611.75770"
            ],
            "text/html": [
              "\n",
              "\n",
              "  <div id=\"df-cf318107-ed10-4f0b-86f0-dcb37666a182\">\n",
              "    <div class=\"colab-df-container\">\n",
              "      <div>\n",
              "<style scoped>\n",
              "    .dataframe tbody tr th:only-of-type {\n",
              "        vertical-align: middle;\n",
              "    }\n",
              "\n",
              "    .dataframe tbody tr th {\n",
              "        vertical-align: top;\n",
              "    }\n",
              "\n",
              "    .dataframe thead th {\n",
              "        text-align: right;\n",
              "    }\n",
              "</style>\n",
              "<table border=\"1\" class=\"dataframe\">\n",
              "  <thead>\n",
              "    <tr style=\"text-align: right;\">\n",
              "      <th></th>\n",
              "      <th>age</th>\n",
              "      <th>sex</th>\n",
              "      <th>bmi</th>\n",
              "      <th>children</th>\n",
              "      <th>smoker</th>\n",
              "      <th>region</th>\n",
              "      <th>charges</th>\n",
              "    </tr>\n",
              "  </thead>\n",
              "  <tbody>\n",
              "    <tr>\n",
              "      <th>0</th>\n",
              "      <td>19</td>\n",
              "      <td>female</td>\n",
              "      <td>27.900</td>\n",
              "      <td>0</td>\n",
              "      <td>yes</td>\n",
              "      <td>southwest</td>\n",
              "      <td>16884.92400</td>\n",
              "    </tr>\n",
              "    <tr>\n",
              "      <th>1</th>\n",
              "      <td>18</td>\n",
              "      <td>male</td>\n",
              "      <td>33.770</td>\n",
              "      <td>1</td>\n",
              "      <td>no</td>\n",
              "      <td>southeast</td>\n",
              "      <td>1725.55230</td>\n",
              "    </tr>\n",
              "    <tr>\n",
              "      <th>2</th>\n",
              "      <td>28</td>\n",
              "      <td>male</td>\n",
              "      <td>33.000</td>\n",
              "      <td>3</td>\n",
              "      <td>no</td>\n",
              "      <td>southeast</td>\n",
              "      <td>4449.46200</td>\n",
              "    </tr>\n",
              "    <tr>\n",
              "      <th>3</th>\n",
              "      <td>33</td>\n",
              "      <td>male</td>\n",
              "      <td>22.705</td>\n",
              "      <td>0</td>\n",
              "      <td>no</td>\n",
              "      <td>northwest</td>\n",
              "      <td>21984.47061</td>\n",
              "    </tr>\n",
              "    <tr>\n",
              "      <th>4</th>\n",
              "      <td>32</td>\n",
              "      <td>male</td>\n",
              "      <td>28.880</td>\n",
              "      <td>0</td>\n",
              "      <td>no</td>\n",
              "      <td>northwest</td>\n",
              "      <td>3866.85520</td>\n",
              "    </tr>\n",
              "    <tr>\n",
              "      <th>5</th>\n",
              "      <td>31</td>\n",
              "      <td>female</td>\n",
              "      <td>25.740</td>\n",
              "      <td>0</td>\n",
              "      <td>no</td>\n",
              "      <td>southeast</td>\n",
              "      <td>3756.62160</td>\n",
              "    </tr>\n",
              "    <tr>\n",
              "      <th>6</th>\n",
              "      <td>46</td>\n",
              "      <td>female</td>\n",
              "      <td>33.440</td>\n",
              "      <td>1</td>\n",
              "      <td>no</td>\n",
              "      <td>southeast</td>\n",
              "      <td>8240.58960</td>\n",
              "    </tr>\n",
              "    <tr>\n",
              "      <th>7</th>\n",
              "      <td>37</td>\n",
              "      <td>female</td>\n",
              "      <td>27.740</td>\n",
              "      <td>3</td>\n",
              "      <td>no</td>\n",
              "      <td>northwest</td>\n",
              "      <td>7281.50560</td>\n",
              "    </tr>\n",
              "    <tr>\n",
              "      <th>8</th>\n",
              "      <td>37</td>\n",
              "      <td>male</td>\n",
              "      <td>29.830</td>\n",
              "      <td>2</td>\n",
              "      <td>no</td>\n",
              "      <td>northeast</td>\n",
              "      <td>6406.41070</td>\n",
              "    </tr>\n",
              "    <tr>\n",
              "      <th>9</th>\n",
              "      <td>60</td>\n",
              "      <td>female</td>\n",
              "      <td>25.840</td>\n",
              "      <td>0</td>\n",
              "      <td>no</td>\n",
              "      <td>northwest</td>\n",
              "      <td>28923.13692</td>\n",
              "    </tr>\n",
              "    <tr>\n",
              "      <th>10</th>\n",
              "      <td>25</td>\n",
              "      <td>male</td>\n",
              "      <td>26.220</td>\n",
              "      <td>0</td>\n",
              "      <td>no</td>\n",
              "      <td>northeast</td>\n",
              "      <td>2721.32080</td>\n",
              "    </tr>\n",
              "    <tr>\n",
              "      <th>11</th>\n",
              "      <td>62</td>\n",
              "      <td>female</td>\n",
              "      <td>26.290</td>\n",
              "      <td>0</td>\n",
              "      <td>yes</td>\n",
              "      <td>southeast</td>\n",
              "      <td>27808.72510</td>\n",
              "    </tr>\n",
              "    <tr>\n",
              "      <th>12</th>\n",
              "      <td>23</td>\n",
              "      <td>male</td>\n",
              "      <td>34.400</td>\n",
              "      <td>0</td>\n",
              "      <td>no</td>\n",
              "      <td>southwest</td>\n",
              "      <td>1826.84300</td>\n",
              "    </tr>\n",
              "    <tr>\n",
              "      <th>13</th>\n",
              "      <td>56</td>\n",
              "      <td>female</td>\n",
              "      <td>39.820</td>\n",
              "      <td>0</td>\n",
              "      <td>no</td>\n",
              "      <td>southeast</td>\n",
              "      <td>11090.71780</td>\n",
              "    </tr>\n",
              "    <tr>\n",
              "      <th>14</th>\n",
              "      <td>27</td>\n",
              "      <td>male</td>\n",
              "      <td>42.130</td>\n",
              "      <td>0</td>\n",
              "      <td>yes</td>\n",
              "      <td>southeast</td>\n",
              "      <td>39611.75770</td>\n",
              "    </tr>\n",
              "  </tbody>\n",
              "</table>\n",
              "</div>\n",
              "      <button class=\"colab-df-convert\" onclick=\"convertToInteractive('df-cf318107-ed10-4f0b-86f0-dcb37666a182')\"\n",
              "              title=\"Convert this dataframe to an interactive table.\"\n",
              "              style=\"display:none;\">\n",
              "\n",
              "  <svg xmlns=\"http://www.w3.org/2000/svg\" height=\"24px\"viewBox=\"0 0 24 24\"\n",
              "       width=\"24px\">\n",
              "    <path d=\"M0 0h24v24H0V0z\" fill=\"none\"/>\n",
              "    <path d=\"M18.56 5.44l.94 2.06.94-2.06 2.06-.94-2.06-.94-.94-2.06-.94 2.06-2.06.94zm-11 1L8.5 8.5l.94-2.06 2.06-.94-2.06-.94L8.5 2.5l-.94 2.06-2.06.94zm10 10l.94 2.06.94-2.06 2.06-.94-2.06-.94-.94-2.06-.94 2.06-2.06.94z\"/><path d=\"M17.41 7.96l-1.37-1.37c-.4-.4-.92-.59-1.43-.59-.52 0-1.04.2-1.43.59L10.3 9.45l-7.72 7.72c-.78.78-.78 2.05 0 2.83L4 21.41c.39.39.9.59 1.41.59.51 0 1.02-.2 1.41-.59l7.78-7.78 2.81-2.81c.8-.78.8-2.07 0-2.86zM5.41 20L4 18.59l7.72-7.72 1.47 1.35L5.41 20z\"/>\n",
              "  </svg>\n",
              "      </button>\n",
              "\n",
              "\n",
              "\n",
              "    <div id=\"df-6fc90351-52d3-484c-b54e-92772873f3a3\">\n",
              "      <button class=\"colab-df-quickchart\" onclick=\"quickchart('df-6fc90351-52d3-484c-b54e-92772873f3a3')\"\n",
              "              title=\"Suggest charts.\"\n",
              "              style=\"display:none;\">\n",
              "\n",
              "<svg xmlns=\"http://www.w3.org/2000/svg\" height=\"24px\"viewBox=\"0 0 24 24\"\n",
              "     width=\"24px\">\n",
              "    <g>\n",
              "        <path d=\"M19 3H5c-1.1 0-2 .9-2 2v14c0 1.1.9 2 2 2h14c1.1 0 2-.9 2-2V5c0-1.1-.9-2-2-2zM9 17H7v-7h2v7zm4 0h-2V7h2v10zm4 0h-2v-4h2v4z\"/>\n",
              "    </g>\n",
              "</svg>\n",
              "      </button>\n",
              "    </div>\n",
              "\n",
              "<style>\n",
              "  .colab-df-quickchart {\n",
              "    background-color: #E8F0FE;\n",
              "    border: none;\n",
              "    border-radius: 50%;\n",
              "    cursor: pointer;\n",
              "    display: none;\n",
              "    fill: #1967D2;\n",
              "    height: 32px;\n",
              "    padding: 0 0 0 0;\n",
              "    width: 32px;\n",
              "  }\n",
              "\n",
              "  .colab-df-quickchart:hover {\n",
              "    background-color: #E2EBFA;\n",
              "    box-shadow: 0px 1px 2px rgba(60, 64, 67, 0.3), 0px 1px 3px 1px rgba(60, 64, 67, 0.15);\n",
              "    fill: #174EA6;\n",
              "  }\n",
              "\n",
              "  [theme=dark] .colab-df-quickchart {\n",
              "    background-color: #3B4455;\n",
              "    fill: #D2E3FC;\n",
              "  }\n",
              "\n",
              "  [theme=dark] .colab-df-quickchart:hover {\n",
              "    background-color: #434B5C;\n",
              "    box-shadow: 0px 1px 3px 1px rgba(0, 0, 0, 0.15);\n",
              "    filter: drop-shadow(0px 1px 2px rgba(0, 0, 0, 0.3));\n",
              "    fill: #FFFFFF;\n",
              "  }\n",
              "</style>\n",
              "\n",
              "    <script>\n",
              "      async function quickchart(key) {\n",
              "        const containerElement = document.querySelector('#' + key);\n",
              "        const charts = await google.colab.kernel.invokeFunction(\n",
              "            'suggestCharts', [key], {});\n",
              "      }\n",
              "    </script>\n",
              "\n",
              "      <script>\n",
              "\n",
              "function displayQuickchartButton(domScope) {\n",
              "  let quickchartButtonEl =\n",
              "    domScope.querySelector('#df-6fc90351-52d3-484c-b54e-92772873f3a3 button.colab-df-quickchart');\n",
              "  quickchartButtonEl.style.display =\n",
              "    google.colab.kernel.accessAllowed ? 'block' : 'none';\n",
              "}\n",
              "\n",
              "        displayQuickchartButton(document);\n",
              "      </script>\n",
              "      <style>\n",
              "    .colab-df-container {\n",
              "      display:flex;\n",
              "      flex-wrap:wrap;\n",
              "      gap: 12px;\n",
              "    }\n",
              "\n",
              "    .colab-df-convert {\n",
              "      background-color: #E8F0FE;\n",
              "      border: none;\n",
              "      border-radius: 50%;\n",
              "      cursor: pointer;\n",
              "      display: none;\n",
              "      fill: #1967D2;\n",
              "      height: 32px;\n",
              "      padding: 0 0 0 0;\n",
              "      width: 32px;\n",
              "    }\n",
              "\n",
              "    .colab-df-convert:hover {\n",
              "      background-color: #E2EBFA;\n",
              "      box-shadow: 0px 1px 2px rgba(60, 64, 67, 0.3), 0px 1px 3px 1px rgba(60, 64, 67, 0.15);\n",
              "      fill: #174EA6;\n",
              "    }\n",
              "\n",
              "    [theme=dark] .colab-df-convert {\n",
              "      background-color: #3B4455;\n",
              "      fill: #D2E3FC;\n",
              "    }\n",
              "\n",
              "    [theme=dark] .colab-df-convert:hover {\n",
              "      background-color: #434B5C;\n",
              "      box-shadow: 0px 1px 3px 1px rgba(0, 0, 0, 0.15);\n",
              "      filter: drop-shadow(0px 1px 2px rgba(0, 0, 0, 0.3));\n",
              "      fill: #FFFFFF;\n",
              "    }\n",
              "  </style>\n",
              "\n",
              "      <script>\n",
              "        const buttonEl =\n",
              "          document.querySelector('#df-cf318107-ed10-4f0b-86f0-dcb37666a182 button.colab-df-convert');\n",
              "        buttonEl.style.display =\n",
              "          google.colab.kernel.accessAllowed ? 'block' : 'none';\n",
              "\n",
              "        async function convertToInteractive(key) {\n",
              "          const element = document.querySelector('#df-cf318107-ed10-4f0b-86f0-dcb37666a182');\n",
              "          const dataTable =\n",
              "            await google.colab.kernel.invokeFunction('convertToInteractive',\n",
              "                                                     [key], {});\n",
              "          if (!dataTable) return;\n",
              "\n",
              "          const docLinkHtml = 'Like what you see? Visit the ' +\n",
              "            '<a target=\"_blank\" href=https://colab.research.google.com/notebooks/data_table.ipynb>data table notebook</a>'\n",
              "            + ' to learn more about interactive tables.';\n",
              "          element.innerHTML = '';\n",
              "          dataTable['output_type'] = 'display_data';\n",
              "          await google.colab.output.renderOutput(dataTable, element);\n",
              "          const docLink = document.createElement('div');\n",
              "          docLink.innerHTML = docLinkHtml;\n",
              "          element.appendChild(docLink);\n",
              "        }\n",
              "      </script>\n",
              "    </div>\n",
              "  </div>\n"
            ]
          },
          "metadata": {},
          "execution_count": 572
        }
      ],
      "source": [
        "# checking data structure\n",
        "df.head(15)"
      ]
    },
    {
      "cell_type": "code",
      "execution_count": 573,
      "metadata": {
        "colab": {
          "base_uri": "https://localhost:8080/"
        },
        "id": "ILARcCgG2pa6",
        "outputId": "42c49233-967d-4761-cd16-485c74956f32"
      },
      "outputs": [
        {
          "output_type": "stream",
          "name": "stdout",
          "text": [
            "<class 'pandas.core.frame.DataFrame'>\n",
            "RangeIndex: 1338 entries, 0 to 1337\n",
            "Data columns (total 7 columns):\n",
            " #   Column    Non-Null Count  Dtype  \n",
            "---  ------    --------------  -----  \n",
            " 0   age       1338 non-null   int64  \n",
            " 1   sex       1338 non-null   object \n",
            " 2   bmi       1338 non-null   float64\n",
            " 3   children  1338 non-null   int64  \n",
            " 4   smoker    1338 non-null   object \n",
            " 5   region    1338 non-null   object \n",
            " 6   charges   1338 non-null   float64\n",
            "dtypes: float64(2), int64(2), object(3)\n",
            "memory usage: 73.3+ KB\n"
          ]
        }
      ],
      "source": [
        "# checking data content\n",
        "df.info()"
      ]
    },
    {
      "cell_type": "code",
      "source": [
        "columns_to_drop = ['sex', 'smoker', 'region', 'children', 'age']\n",
        "\n",
        "# Drop the specified columns\n",
        "df = df.drop(columns=columns_to_drop)\n",
        "\n",
        "print(df)"
      ],
      "metadata": {
        "colab": {
          "base_uri": "https://localhost:8080/"
        },
        "id": "cjbOD5O-zCCe",
        "outputId": "f91fd1f7-b93a-4974-e21e-fd730e6f9bef"
      },
      "execution_count": 574,
      "outputs": [
        {
          "output_type": "stream",
          "name": "stdout",
          "text": [
            "         bmi      charges\n",
            "0     27.900  16884.92400\n",
            "1     33.770   1725.55230\n",
            "2     33.000   4449.46200\n",
            "3     22.705  21984.47061\n",
            "4     28.880   3866.85520\n",
            "...      ...          ...\n",
            "1333  30.970  10600.54830\n",
            "1334  31.920   2205.98080\n",
            "1335  36.850   1629.83350\n",
            "1336  25.800   2007.94500\n",
            "1337  29.070  29141.36030\n",
            "\n",
            "[1338 rows x 2 columns]\n"
          ]
        }
      ]
    },
    {
      "cell_type": "code",
      "execution_count": 575,
      "metadata": {
        "id": "UfcaXVUv2pa7",
        "colab": {
          "base_uri": "https://localhost:8080/",
          "height": 423
        },
        "outputId": "8d51ddb5-3d78-4ab8-90f4-20f35fd870aa"
      },
      "outputs": [
        {
          "output_type": "execute_result",
          "data": {
            "text/plain": [
              "         bmi      charges\n",
              "0     27.900  16884.92400\n",
              "1     33.770   1725.55230\n",
              "2     33.000   4449.46200\n",
              "3     22.705  21984.47061\n",
              "4     28.880   3866.85520\n",
              "...      ...          ...\n",
              "1333  30.970  10600.54830\n",
              "1334  31.920   2205.98080\n",
              "1335  36.850   1629.83350\n",
              "1336  25.800   2007.94500\n",
              "1337  29.070  29141.36030\n",
              "\n",
              "[1338 rows x 2 columns]"
            ],
            "text/html": [
              "\n",
              "\n",
              "  <div id=\"df-cda0166b-6fe6-433f-a4fe-5fc49203d9e9\">\n",
              "    <div class=\"colab-df-container\">\n",
              "      <div>\n",
              "<style scoped>\n",
              "    .dataframe tbody tr th:only-of-type {\n",
              "        vertical-align: middle;\n",
              "    }\n",
              "\n",
              "    .dataframe tbody tr th {\n",
              "        vertical-align: top;\n",
              "    }\n",
              "\n",
              "    .dataframe thead th {\n",
              "        text-align: right;\n",
              "    }\n",
              "</style>\n",
              "<table border=\"1\" class=\"dataframe\">\n",
              "  <thead>\n",
              "    <tr style=\"text-align: right;\">\n",
              "      <th></th>\n",
              "      <th>bmi</th>\n",
              "      <th>charges</th>\n",
              "    </tr>\n",
              "  </thead>\n",
              "  <tbody>\n",
              "    <tr>\n",
              "      <th>0</th>\n",
              "      <td>27.900</td>\n",
              "      <td>16884.92400</td>\n",
              "    </tr>\n",
              "    <tr>\n",
              "      <th>1</th>\n",
              "      <td>33.770</td>\n",
              "      <td>1725.55230</td>\n",
              "    </tr>\n",
              "    <tr>\n",
              "      <th>2</th>\n",
              "      <td>33.000</td>\n",
              "      <td>4449.46200</td>\n",
              "    </tr>\n",
              "    <tr>\n",
              "      <th>3</th>\n",
              "      <td>22.705</td>\n",
              "      <td>21984.47061</td>\n",
              "    </tr>\n",
              "    <tr>\n",
              "      <th>4</th>\n",
              "      <td>28.880</td>\n",
              "      <td>3866.85520</td>\n",
              "    </tr>\n",
              "    <tr>\n",
              "      <th>...</th>\n",
              "      <td>...</td>\n",
              "      <td>...</td>\n",
              "    </tr>\n",
              "    <tr>\n",
              "      <th>1333</th>\n",
              "      <td>30.970</td>\n",
              "      <td>10600.54830</td>\n",
              "    </tr>\n",
              "    <tr>\n",
              "      <th>1334</th>\n",
              "      <td>31.920</td>\n",
              "      <td>2205.98080</td>\n",
              "    </tr>\n",
              "    <tr>\n",
              "      <th>1335</th>\n",
              "      <td>36.850</td>\n",
              "      <td>1629.83350</td>\n",
              "    </tr>\n",
              "    <tr>\n",
              "      <th>1336</th>\n",
              "      <td>25.800</td>\n",
              "      <td>2007.94500</td>\n",
              "    </tr>\n",
              "    <tr>\n",
              "      <th>1337</th>\n",
              "      <td>29.070</td>\n",
              "      <td>29141.36030</td>\n",
              "    </tr>\n",
              "  </tbody>\n",
              "</table>\n",
              "<p>1338 rows × 2 columns</p>\n",
              "</div>\n",
              "      <button class=\"colab-df-convert\" onclick=\"convertToInteractive('df-cda0166b-6fe6-433f-a4fe-5fc49203d9e9')\"\n",
              "              title=\"Convert this dataframe to an interactive table.\"\n",
              "              style=\"display:none;\">\n",
              "\n",
              "  <svg xmlns=\"http://www.w3.org/2000/svg\" height=\"24px\"viewBox=\"0 0 24 24\"\n",
              "       width=\"24px\">\n",
              "    <path d=\"M0 0h24v24H0V0z\" fill=\"none\"/>\n",
              "    <path d=\"M18.56 5.44l.94 2.06.94-2.06 2.06-.94-2.06-.94-.94-2.06-.94 2.06-2.06.94zm-11 1L8.5 8.5l.94-2.06 2.06-.94-2.06-.94L8.5 2.5l-.94 2.06-2.06.94zm10 10l.94 2.06.94-2.06 2.06-.94-2.06-.94-.94-2.06-.94 2.06-2.06.94z\"/><path d=\"M17.41 7.96l-1.37-1.37c-.4-.4-.92-.59-1.43-.59-.52 0-1.04.2-1.43.59L10.3 9.45l-7.72 7.72c-.78.78-.78 2.05 0 2.83L4 21.41c.39.39.9.59 1.41.59.51 0 1.02-.2 1.41-.59l7.78-7.78 2.81-2.81c.8-.78.8-2.07 0-2.86zM5.41 20L4 18.59l7.72-7.72 1.47 1.35L5.41 20z\"/>\n",
              "  </svg>\n",
              "      </button>\n",
              "\n",
              "\n",
              "\n",
              "    <div id=\"df-9f7087da-aba8-4d3c-934a-bcf9bc3cead5\">\n",
              "      <button class=\"colab-df-quickchart\" onclick=\"quickchart('df-9f7087da-aba8-4d3c-934a-bcf9bc3cead5')\"\n",
              "              title=\"Suggest charts.\"\n",
              "              style=\"display:none;\">\n",
              "\n",
              "<svg xmlns=\"http://www.w3.org/2000/svg\" height=\"24px\"viewBox=\"0 0 24 24\"\n",
              "     width=\"24px\">\n",
              "    <g>\n",
              "        <path d=\"M19 3H5c-1.1 0-2 .9-2 2v14c0 1.1.9 2 2 2h14c1.1 0 2-.9 2-2V5c0-1.1-.9-2-2-2zM9 17H7v-7h2v7zm4 0h-2V7h2v10zm4 0h-2v-4h2v4z\"/>\n",
              "    </g>\n",
              "</svg>\n",
              "      </button>\n",
              "    </div>\n",
              "\n",
              "<style>\n",
              "  .colab-df-quickchart {\n",
              "    background-color: #E8F0FE;\n",
              "    border: none;\n",
              "    border-radius: 50%;\n",
              "    cursor: pointer;\n",
              "    display: none;\n",
              "    fill: #1967D2;\n",
              "    height: 32px;\n",
              "    padding: 0 0 0 0;\n",
              "    width: 32px;\n",
              "  }\n",
              "\n",
              "  .colab-df-quickchart:hover {\n",
              "    background-color: #E2EBFA;\n",
              "    box-shadow: 0px 1px 2px rgba(60, 64, 67, 0.3), 0px 1px 3px 1px rgba(60, 64, 67, 0.15);\n",
              "    fill: #174EA6;\n",
              "  }\n",
              "\n",
              "  [theme=dark] .colab-df-quickchart {\n",
              "    background-color: #3B4455;\n",
              "    fill: #D2E3FC;\n",
              "  }\n",
              "\n",
              "  [theme=dark] .colab-df-quickchart:hover {\n",
              "    background-color: #434B5C;\n",
              "    box-shadow: 0px 1px 3px 1px rgba(0, 0, 0, 0.15);\n",
              "    filter: drop-shadow(0px 1px 2px rgba(0, 0, 0, 0.3));\n",
              "    fill: #FFFFFF;\n",
              "  }\n",
              "</style>\n",
              "\n",
              "    <script>\n",
              "      async function quickchart(key) {\n",
              "        const containerElement = document.querySelector('#' + key);\n",
              "        const charts = await google.colab.kernel.invokeFunction(\n",
              "            'suggestCharts', [key], {});\n",
              "      }\n",
              "    </script>\n",
              "\n",
              "      <script>\n",
              "\n",
              "function displayQuickchartButton(domScope) {\n",
              "  let quickchartButtonEl =\n",
              "    domScope.querySelector('#df-9f7087da-aba8-4d3c-934a-bcf9bc3cead5 button.colab-df-quickchart');\n",
              "  quickchartButtonEl.style.display =\n",
              "    google.colab.kernel.accessAllowed ? 'block' : 'none';\n",
              "}\n",
              "\n",
              "        displayQuickchartButton(document);\n",
              "      </script>\n",
              "      <style>\n",
              "    .colab-df-container {\n",
              "      display:flex;\n",
              "      flex-wrap:wrap;\n",
              "      gap: 12px;\n",
              "    }\n",
              "\n",
              "    .colab-df-convert {\n",
              "      background-color: #E8F0FE;\n",
              "      border: none;\n",
              "      border-radius: 50%;\n",
              "      cursor: pointer;\n",
              "      display: none;\n",
              "      fill: #1967D2;\n",
              "      height: 32px;\n",
              "      padding: 0 0 0 0;\n",
              "      width: 32px;\n",
              "    }\n",
              "\n",
              "    .colab-df-convert:hover {\n",
              "      background-color: #E2EBFA;\n",
              "      box-shadow: 0px 1px 2px rgba(60, 64, 67, 0.3), 0px 1px 3px 1px rgba(60, 64, 67, 0.15);\n",
              "      fill: #174EA6;\n",
              "    }\n",
              "\n",
              "    [theme=dark] .colab-df-convert {\n",
              "      background-color: #3B4455;\n",
              "      fill: #D2E3FC;\n",
              "    }\n",
              "\n",
              "    [theme=dark] .colab-df-convert:hover {\n",
              "      background-color: #434B5C;\n",
              "      box-shadow: 0px 1px 3px 1px rgba(0, 0, 0, 0.15);\n",
              "      filter: drop-shadow(0px 1px 2px rgba(0, 0, 0, 0.3));\n",
              "      fill: #FFFFFF;\n",
              "    }\n",
              "  </style>\n",
              "\n",
              "      <script>\n",
              "        const buttonEl =\n",
              "          document.querySelector('#df-cda0166b-6fe6-433f-a4fe-5fc49203d9e9 button.colab-df-convert');\n",
              "        buttonEl.style.display =\n",
              "          google.colab.kernel.accessAllowed ? 'block' : 'none';\n",
              "\n",
              "        async function convertToInteractive(key) {\n",
              "          const element = document.querySelector('#df-cda0166b-6fe6-433f-a4fe-5fc49203d9e9');\n",
              "          const dataTable =\n",
              "            await google.colab.kernel.invokeFunction('convertToInteractive',\n",
              "                                                     [key], {});\n",
              "          if (!dataTable) return;\n",
              "\n",
              "          const docLinkHtml = 'Like what you see? Visit the ' +\n",
              "            '<a target=\"_blank\" href=https://colab.research.google.com/notebooks/data_table.ipynb>data table notebook</a>'\n",
              "            + ' to learn more about interactive tables.';\n",
              "          element.innerHTML = '';\n",
              "          dataTable['output_type'] = 'display_data';\n",
              "          await google.colab.output.renderOutput(dataTable, element);\n",
              "          const docLink = document.createElement('div');\n",
              "          docLink.innerHTML = docLinkHtml;\n",
              "          element.appendChild(docLink);\n",
              "        }\n",
              "      </script>\n",
              "    </div>\n",
              "  </div>\n"
            ]
          },
          "metadata": {},
          "execution_count": 575
        }
      ],
      "source": [
        "df.fillna(df.mean())"
      ]
    },
    {
      "cell_type": "code",
      "source": [
        "# Drop duplicates based on all columns\n",
        "df_no_duplicates = df.drop_duplicates()\n",
        "\n",
        "# Drop duplicates based on specific columns\n",
        "columns_to_check = ['bmi', 'charges']  # Replace with the column names you want to consider\n",
        "df_no_duplicates_specific = df.drop_duplicates(subset=columns_to_check)\n",
        "\n",
        "# Print the shape of the resulting DataFrames\n",
        "print(\"Original DataFrame shape:\", df.shape)\n",
        "print(\"DataFrame shape after dropping all duplicates:\", df_no_duplicates.shape)\n",
        "print(\"DataFrame shape after dropping duplicates based on specific columns:\", df_no_duplicates_specific.shape)\n"
      ],
      "metadata": {
        "colab": {
          "base_uri": "https://localhost:8080/"
        },
        "id": "D6QvLQIFw1YU",
        "outputId": "4eb6d1ff-667d-49ab-a0fd-0be6df88e2ea"
      },
      "execution_count": 576,
      "outputs": [
        {
          "output_type": "stream",
          "name": "stdout",
          "text": [
            "Original DataFrame shape: (1338, 2)\n",
            "DataFrame shape after dropping all duplicates: (1337, 2)\n",
            "DataFrame shape after dropping duplicates based on specific columns: (1337, 2)\n"
          ]
        }
      ]
    },
    {
      "cell_type": "code",
      "execution_count": 577,
      "metadata": {
        "colab": {
          "base_uri": "https://localhost:8080/",
          "height": 452
        },
        "id": "KjuLIVHh2pa7",
        "outputId": "fc66f15f-50d0-41e3-8243-97fac897f65e"
      },
      "outputs": [
        {
          "output_type": "execute_result",
          "data": {
            "text/plain": [
              "<Axes: >"
            ]
          },
          "metadata": {},
          "execution_count": 577
        },
        {
          "output_type": "display_data",
          "data": {
            "text/plain": [
              "<Figure size 640x480 with 2 Axes>"
            ],
            "image/png": "[encoded data removed]"
          },
          "metadata": {}
        }
      ],
      "source": [
        "# performing label encoding of data and displaying correlation matrix\n",
        "df_e = pd.get_dummies(df)\n",
        "corrMatrix_e = df_e.corr()\n",
        "sns.heatmap(corrMatrix_e, annot=True)"
      ]
    },
    {
      "cell_type": "code",
      "execution_count": 578,
      "metadata": {
        "colab": {
          "base_uri": "https://localhost:8080/",
          "height": 206
        },
        "id": "1A4QU1LZ2pa-",
        "outputId": "be960a34-1dbc-4629-b318-f4d7990f73c2"
      },
      "outputs": [
        {
          "output_type": "execute_result",
          "data": {
            "text/plain": [
              "      bmi      charges\n",
              "0  27.900  16884.92400\n",
              "1  33.770   1725.55230\n",
              "2  33.000   4449.46200\n",
              "3  22.705  21984.47061\n",
              "4  28.880   3866.85520"
            ],
            "text/html": [
              "\n",
              "\n",
              "  <div id=\"df-b05fa5db-f7ef-4ae9-ab6f-90e478170867\">\n",
              "    <div class=\"colab-df-container\">\n",
              "      <div>\n",
              "<style scoped>\n",
              "    .dataframe tbody tr th:only-of-type {\n",
              "        vertical-align: middle;\n",
              "    }\n",
              "\n",
              "    .dataframe tbody tr th {\n",
              "        vertical-align: top;\n",
              "    }\n",
              "\n",
              "    .dataframe thead th {\n",
              "        text-align: right;\n",
              "    }\n",
              "</style>\n",
              "<table border=\"1\" class=\"dataframe\">\n",
              "  <thead>\n",
              "    <tr style=\"text-align: right;\">\n",
              "      <th></th>\n",
              "      <th>bmi</th>\n",
              "      <th>charges</th>\n",
              "    </tr>\n",
              "  </thead>\n",
              "  <tbody>\n",
              "    <tr>\n",
              "      <th>0</th>\n",
              "      <td>27.900</td>\n",
              "      <td>16884.92400</td>\n",
              "    </tr>\n",
              "    <tr>\n",
              "      <th>1</th>\n",
              "      <td>33.770</td>\n",
              "      <td>1725.55230</td>\n",
              "    </tr>\n",
              "    <tr>\n",
              "      <th>2</th>\n",
              "      <td>33.000</td>\n",
              "      <td>4449.46200</td>\n",
              "    </tr>\n",
              "    <tr>\n",
              "      <th>3</th>\n",
              "      <td>22.705</td>\n",
              "      <td>21984.47061</td>\n",
              "    </tr>\n",
              "    <tr>\n",
              "      <th>4</th>\n",
              "      <td>28.880</td>\n",
              "      <td>3866.85520</td>\n",
              "    </tr>\n",
              "  </tbody>\n",
              "</table>\n",
              "</div>\n",
              "      <button class=\"colab-df-convert\" onclick=\"convertToInteractive('df-b05fa5db-f7ef-4ae9-ab6f-90e478170867')\"\n",
              "              title=\"Convert this dataframe to an interactive table.\"\n",
              "              style=\"display:none;\">\n",
              "\n",
              "  <svg xmlns=\"http://www.w3.org/2000/svg\" height=\"24px\"viewBox=\"0 0 24 24\"\n",
              "       width=\"24px\">\n",
              "    <path d=\"M0 0h24v24H0V0z\" fill=\"none\"/>\n",
              "    <path d=\"M18.56 5.44l.94 2.06.94-2.06 2.06-.94-2.06-.94-.94-2.06-.94 2.06-2.06.94zm-11 1L8.5 8.5l.94-2.06 2.06-.94-2.06-.94L8.5 2.5l-.94 2.06-2.06.94zm10 10l.94 2.06.94-2.06 2.06-.94-2.06-.94-.94-2.06-.94 2.06-2.06.94z\"/><path d=\"M17.41 7.96l-1.37-1.37c-.4-.4-.92-.59-1.43-.59-.52 0-1.04.2-1.43.59L10.3 9.45l-7.72 7.72c-.78.78-.78 2.05 0 2.83L4 21.41c.39.39.9.59 1.41.59.51 0 1.02-.2 1.41-.59l7.78-7.78 2.81-2.81c.8-.78.8-2.07 0-2.86zM5.41 20L4 18.59l7.72-7.72 1.47 1.35L5.41 20z\"/>\n",
              "  </svg>\n",
              "      </button>\n",
              "\n",
              "\n",
              "\n",
              "    <div id=\"df-408a7692-c9de-44b9-a676-df0045153c0c\">\n",
              "      <button class=\"colab-df-quickchart\" onclick=\"quickchart('df-408a7692-c9de-44b9-a676-df0045153c0c')\"\n",
              "              title=\"Suggest charts.\"\n",
              "              style=\"display:none;\">\n",
              "\n",
              "<svg xmlns=\"http://www.w3.org/2000/svg\" height=\"24px\"viewBox=\"0 0 24 24\"\n",
              "     width=\"24px\">\n",
              "    <g>\n",
              "        <path d=\"M19 3H5c-1.1 0-2 .9-2 2v14c0 1.1.9 2 2 2h14c1.1 0 2-.9 2-2V5c0-1.1-.9-2-2-2zM9 17H7v-7h2v7zm4 0h-2V7h2v10zm4 0h-2v-4h2v4z\"/>\n",
              "    </g>\n",
              "</svg>\n",
              "      </button>\n",
              "    </div>\n",
              "\n",
              "<style>\n",
              "  .colab-df-quickchart {\n",
              "    background-color: #E8F0FE;\n",
              "    border: none;\n",
              "    border-radius: 50%;\n",
              "    cursor: pointer;\n",
              "    display: none;\n",
              "    fill: #1967D2;\n",
              "    height: 32px;\n",
              "    padding: 0 0 0 0;\n",
              "    width: 32px;\n",
              "  }\n",
              "\n",
              "  .colab-df-quickchart:hover {\n",
              "    background-color: #E2EBFA;\n",
              "    box-shadow: 0px 1px 2px rgba(60, 64, 67, 0.3), 0px 1px 3px 1px rgba(60, 64, 67, 0.15);\n",
              "    fill: #174EA6;\n",
              "  }\n",
              "\n",
              "  [theme=dark] .colab-df-quickchart {\n",
              "    background-color: #3B4455;\n",
              "    fill: #D2E3FC;\n",
              "  }\n",
              "\n",
              "  [theme=dark] .colab-df-quickchart:hover {\n",
              "    background-color: #434B5C;\n",
              "    box-shadow: 0px 1px 3px 1px rgba(0, 0, 0, 0.15);\n",
              "    filter: drop-shadow(0px 1px 2px rgba(0, 0, 0, 0.3));\n",
              "    fill: #FFFFFF;\n",
              "  }\n",
              "</style>\n",
              "\n",
              "    <script>\n",
              "      async function quickchart(key) {\n",
              "        const containerElement = document.querySelector('#' + key);\n",
              "        const charts = await google.colab.kernel.invokeFunction(\n",
              "            'suggestCharts', [key], {});\n",
              "      }\n",
              "    </script>\n",
              "\n",
              "      <script>\n",
              "\n",
              "function displayQuickchartButton(domScope) {\n",
              "  let quickchartButtonEl =\n",
              "    domScope.querySelector('#df-408a7692-c9de-44b9-a676-df0045153c0c button.colab-df-quickchart');\n",
              "  quickchartButtonEl.style.display =\n",
              "    google.colab.kernel.accessAllowed ? 'block' : 'none';\n",
              "}\n",
              "\n",
              "        displayQuickchartButton(document);\n",
              "      </script>\n",
              "      <style>\n",
              "    .colab-df-container {\n",
              "      display:flex;\n",
              "      flex-wrap:wrap;\n",
              "      gap: 12px;\n",
              "    }\n",
              "\n",
              "    .colab-df-convert {\n",
              "      background-color: #E8F0FE;\n",
              "      border: none;\n",
              "      border-radius: 50%;\n",
              "      cursor: pointer;\n",
              "      display: none;\n",
              "      fill: #1967D2;\n",
              "      height: 32px;\n",
              "      padding: 0 0 0 0;\n",
              "      width: 32px;\n",
              "    }\n",
              "\n",
              "    .colab-df-convert:hover {\n",
              "      background-color: #E2EBFA;\n",
              "      box-shadow: 0px 1px 2px rgba(60, 64, 67, 0.3), 0px 1px 3px 1px rgba(60, 64, 67, 0.15);\n",
              "      fill: #174EA6;\n",
              "    }\n",
              "\n",
              "    [theme=dark] .colab-df-convert {\n",
              "      background-color: #3B4455;\n",
              "      fill: #D2E3FC;\n",
              "    }\n",
              "\n",
              "    [theme=dark] .colab-df-convert:hover {\n",
              "      background-color: #434B5C;\n",
              "      box-shadow: 0px 1px 3px 1px rgba(0, 0, 0, 0.15);\n",
              "      filter: drop-shadow(0px 1px 2px rgba(0, 0, 0, 0.3));\n",
              "      fill: #FFFFFF;\n",
              "    }\n",
              "  </style>\n",
              "\n",
              "      <script>\n",
              "        const buttonEl =\n",
              "          document.querySelector('#df-b05fa5db-f7ef-4ae9-ab6f-90e478170867 button.colab-df-convert');\n",
              "        buttonEl.style.display =\n",
              "          google.colab.kernel.accessAllowed ? 'block' : 'none';\n",
              "\n",
              "        async function convertToInteractive(key) {\n",
              "          const element = document.querySelector('#df-b05fa5db-f7ef-4ae9-ab6f-90e478170867');\n",
              "          const dataTable =\n",
              "            await google.colab.kernel.invokeFunction('convertToInteractive',\n",
              "                                                     [key], {});\n",
              "          if (!dataTable) return;\n",
              "\n",
              "          const docLinkHtml = 'Like what you see? Visit the ' +\n",
              "            '<a target=\"_blank\" href=https://colab.research.google.com/notebooks/data_table.ipynb>data table notebook</a>'\n",
              "            + ' to learn more about interactive tables.';\n",
              "          element.innerHTML = '';\n",
              "          dataTable['output_type'] = 'display_data';\n",
              "          await google.colab.output.renderOutput(dataTable, element);\n",
              "          const docLink = document.createElement('div');\n",
              "          docLink.innerHTML = docLinkHtml;\n",
              "          element.appendChild(docLink);\n",
              "        }\n",
              "      </script>\n",
              "    </div>\n",
              "  </div>\n"
            ]
          },
          "metadata": {},
          "execution_count": 578
        }
      ],
      "source": [
        "# checking data structure again\n",
        "df.head()"
      ]
    },
    {
      "cell_type": "code",
      "source": [
        "df.info()"
      ],
      "metadata": {
        "colab": {
          "base_uri": "https://localhost:8080/"
        },
        "id": "9J2G0tcJzPQr",
        "outputId": "05062d9a-a1c9-4635-faa2-911dc4d8789d"
      },
      "execution_count": 579,
      "outputs": [
        {
          "output_type": "stream",
          "name": "stdout",
          "text": [
            "<class 'pandas.core.frame.DataFrame'>\n",
            "RangeIndex: 1338 entries, 0 to 1337\n",
            "Data columns (total 2 columns):\n",
            " #   Column   Non-Null Count  Dtype  \n",
            "---  ------   --------------  -----  \n",
            " 0   bmi      1338 non-null   float64\n",
            " 1   charges  1338 non-null   float64\n",
            "dtypes: float64(2)\n",
            "memory usage: 21.0 KB\n"
          ]
        }
      ]
    },
    {
      "cell_type": "code",
      "execution_count": 580,
      "metadata": {
        "colab": {
          "base_uri": "https://localhost:8080/",
          "height": 489
        },
        "id": "2rpWP3oU2pa-",
        "outputId": "ad90d083-811f-4490-99f7-5ed1f7079d6e"
      },
      "outputs": [
        {
          "output_type": "execute_result",
          "data": {
            "text/plain": [
              "Text(0.5, 1.0, 'Histogram of Distinct Charged Amounts in Dataset')"
            ]
          },
          "metadata": {},
          "execution_count": 580
        },
        {
          "output_type": "display_data",
          "data": {
            "text/plain": [
              "<Figure size 640x480 with 1 Axes>"
            ],
            "image/png": "[encoded data removed]"
          },
          "metadata": {}
        }
      ],
      "source": [
        "# EDA for one column\n",
        "sns.histplot(df['charges'], bins=25, color='sienna')\n",
        "plt.title('Histogram of Distinct Charged Amounts in Dataset')"
      ]
    },
    {
      "cell_type": "code",
      "execution_count": 581,
      "metadata": {
        "colab": {
          "base_uri": "https://localhost:8080/",
          "height": 489
        },
        "id": "nTGqXyFF2pa-",
        "outputId": "c55edff3-593b-4ab0-fb58-73917c023a8c"
      },
      "outputs": [
        {
          "output_type": "execute_result",
          "data": {
            "text/plain": [
              "Text(0.5, 1.0, 'Histogram of Distinct Number of Children in Dataset')"
            ]
          },
          "metadata": {},
          "execution_count": 581
        },
        {
          "output_type": "display_data",
          "data": {
            "text/plain": [
              "<Figure size 640x480 with 1 Axes>"
            ],
            "image/png": "[encoded data removed]"
          },
          "metadata": {}
        }
      ],
      "source": [
        "# EDA for another column\n",
        "sns.histplot(df['bmi'], bins=25, color='sienna')\n",
        "plt.title('Histogram of Distinct Number of Children in Dataset')"
      ]
    },
    {
      "cell_type": "code",
      "execution_count": 582,
      "metadata": {
        "colab": {
          "base_uri": "https://localhost:8080/",
          "height": 489
        },
        "id": "Lxfo8jsk2pa_",
        "outputId": "aea8cee5-82a1-4fd5-d80f-45a1e3171ef6"
      },
      "outputs": [
        {
          "output_type": "execute_result",
          "data": {
            "text/plain": [
              "Text(0.5, 1.0, 'Children vs Charges for Insurance')"
            ]
          },
          "metadata": {},
          "execution_count": 582
        },
        {
          "output_type": "display_data",
          "data": {
            "text/plain": [
              "<Figure size 640x480 with 1 Axes>"
            ],
            "image/png": "[encoded data removed]"
          },
          "metadata": {}
        }
      ],
      "source": [
        "# scatterplot time!\n",
        "sns.scatterplot(x='bmi', y='charges', data=df,\n",
        "                color='sienna')\n",
        "plt.title('Children vs Charges for Insurance')"
      ]
    },
    {
      "cell_type": "markdown",
      "metadata": {
        "id": "Id83c0qO2pbA"
      },
      "source": [
        "### Machine Learning\n",
        "\n",
        "Now we perform machine learning on our cleaned dataset."
      ]
    },
    {
      "cell_type": "code",
      "source": [
        "X = df.drop('charges', axis=1)\n",
        "y = df['charges']"
      ],
      "metadata": {
        "id": "k81JnPmxvu2X"
      },
      "execution_count": 583,
      "outputs": []
    },
    {
      "cell_type": "code",
      "source": [
        "print(X)"
      ],
      "metadata": {
        "colab": {
          "base_uri": "https://localhost:8080/"
        },
        "id": "7-tKPTF5zpZN",
        "outputId": "d415f310-0a3f-42c1-f53f-fb82c3663b9f"
      },
      "execution_count": 584,
      "outputs": [
        {
          "output_type": "stream",
          "name": "stdout",
          "text": [
            "         bmi\n",
            "0     27.900\n",
            "1     33.770\n",
            "2     33.000\n",
            "3     22.705\n",
            "4     28.880\n",
            "...      ...\n",
            "1333  30.970\n",
            "1334  31.920\n",
            "1335  36.850\n",
            "1336  25.800\n",
            "1337  29.070\n",
            "\n",
            "[1338 rows x 1 columns]\n"
          ]
        }
      ]
    },
    {
      "cell_type": "code",
      "source": [
        "print(y)"
      ],
      "metadata": {
        "colab": {
          "base_uri": "https://localhost:8080/"
        },
        "id": "wJq5zpewzqq8",
        "outputId": "92e60122-3b6c-4519-d8d4-0d7b19bf73c4"
      },
      "execution_count": 585,
      "outputs": [
        {
          "output_type": "stream",
          "name": "stdout",
          "text": [
            "0       16884.92400\n",
            "1        1725.55230\n",
            "2        4449.46200\n",
            "3       21984.47061\n",
            "4        3866.85520\n",
            "           ...     \n",
            "1333    10600.54830\n",
            "1334     2205.98080\n",
            "1335     1629.83350\n",
            "1336     2007.94500\n",
            "1337    29141.36030\n",
            "Name: charges, Length: 1338, dtype: float64\n"
          ]
        }
      ]
    },
    {
      "cell_type": "code",
      "source": [
        "df.info()"
      ],
      "metadata": {
        "colab": {
          "base_uri": "https://localhost:8080/"
        },
        "id": "JLarQnG80f-3",
        "outputId": "1271b889-57a7-4fd2-df01-cb810cbfae5e"
      },
      "execution_count": 586,
      "outputs": [
        {
          "output_type": "stream",
          "name": "stdout",
          "text": [
            "<class 'pandas.core.frame.DataFrame'>\n",
            "RangeIndex: 1338 entries, 0 to 1337\n",
            "Data columns (total 2 columns):\n",
            " #   Column   Non-Null Count  Dtype  \n",
            "---  ------   --------------  -----  \n",
            " 0   bmi      1338 non-null   float64\n",
            " 1   charges  1338 non-null   float64\n",
            "dtypes: float64(2)\n",
            "memory usage: 21.0 KB\n"
          ]
        }
      ]
    },
    {
      "cell_type": "code",
      "source": [
        "print(\"Shape of df:\", df.shape)"
      ],
      "metadata": {
        "colab": {
          "base_uri": "https://localhost:8080/"
        },
        "id": "1Uaales20kyH",
        "outputId": "05cc0791-8cf2-4b19-9dc4-c06a12ec8b53"
      },
      "execution_count": 587,
      "outputs": [
        {
          "output_type": "stream",
          "name": "stdout",
          "text": [
            "Shape of df: (1338, 2)\n"
          ]
        }
      ]
    },
    {
      "cell_type": "code",
      "source": [
        "df['bmi'] = df['bmi'].astype(int)"
      ],
      "metadata": {
        "id": "K_jRdoNS-T3x"
      },
      "execution_count": 588,
      "outputs": []
    },
    {
      "cell_type": "code",
      "source": [
        "X_train, X_test, y_train, y_test = train_test_split(X, y, test_size=0.2, random_state=42)"
      ],
      "metadata": {
        "id": "E9nuEnz68tGu"
      },
      "execution_count": 589,
      "outputs": []
    },
    {
      "cell_type": "markdown",
      "metadata": {
        "id": "M1GKqon4-0Ef"
      },
      "source": [
        "#### 1. Decision Tree Classifier"
      ]
    },
    {
      "cell_type": "code",
      "source": [
        "import pandas as pd\n",
        "from sklearn.model_selection import train_test_split\n",
        "from sklearn.tree import DecisionTreeRegressor\n",
        "from sklearn.metrics import mean_squared_error, r2_score\n",
        "\n",
        "# Create a Decision Tree Regressor\n",
        "dt_regressor = DecisionTreeRegressor(random_state=90)\n",
        "\n",
        "# Train the model\n",
        "dt_regressor.fit(X_train, y_train)\n",
        "\n",
        "# Predict on the test set\n",
        "y_pred = dt_regressor.predict(X_test)\n",
        "\n",
        "# Evaluate the model using Mean Squared Error and R-squared\n",
        "mse = mean_squared_error(y_test, y_pred)\n",
        "r2 = r2_score(y_test, y_pred)\n",
        "\n",
        "print(\"Mean Squared Error:\", mse)\n",
        "print(\"R-squared:\", r2)\n"
      ],
      "metadata": {
        "colab": {
          "base_uri": "https://localhost:8080/"
        },
        "id": "fDTqWjgIy4m0",
        "outputId": "b99dbbed-cffb-4255-c4c9-402f07546809"
      },
      "execution_count": 590,
      "outputs": [
        {
          "output_type": "stream",
          "name": "stdout",
          "text": [
            "Mean Squared Error: 253441486.65462786\n",
            "R-squared: -0.6324866826242477\n"
          ]
        }
      ]
    },
    {
      "cell_type": "code",
      "source": [
        "import pandas as pd\n",
        "from sklearn.model_selection import train_test_split, cross_val_score\n",
        "from sklearn.tree import DecisionTreeRegressor\n",
        "from sklearn.ensemble import GradientBoostingRegressor\n",
        "from sklearn.metrics import mean_squared_error, r2_score\n",
        "\n",
        "# Create a Decision Tree Regressor\n",
        "dt_regressor = DecisionTreeRegressor(random_state=50)\n",
        "\n",
        "# Perform cross-validation for Decision Tree Regressor\n",
        "cv_scores_dt = cross_val_score(dt_regressor, X_train, y_train, cv=5, scoring='neg_mean_squared_error')\n",
        "cv_rmse_dt = (-cv_scores_dt)**0.5\n",
        "\n",
        "print(\"Cross-Validation RMSE scores for Decision Tree Regressor:\", cv_rmse_dt)\n",
        "print(\"Mean CV RMSE for Decision Tree Regressor:\", cv_rmse_dt.mean())\n",
        "\n",
        "# Train the Decision Tree Regressor model\n",
        "dt_regressor.fit(X_train, y_train)\n",
        "\n",
        "# Predict on the test set\n",
        "y_pred_dt = dt_regressor.predict(X_test)\n",
        "\n",
        "# Evaluate the Decision Tree Regressor model using Mean Squared Error and R-squared\n",
        "mse_dt = mean_squared_error(y_test, y_pred_dt)\n",
        "r2_dt = r2_score(y_test, y_pred_dt)\n",
        "\n",
        "print(\"Decision Tree Regressor Mean Squared Error:\", mse_dt)\n",
        "print(\"Decision Tree Regressor R-squared:\", r2_dt)\n",
        "\n",
        "# Create a Gradient Boosting Regressor\n",
        "gb_regressor = GradientBoostingRegressor(random_state=42)\n",
        "\n",
        "# Perform cross-validation for Gradient Boosting Regressor\n",
        "cv_scores_gb = cross_val_score(gb_regressor, X_train, y_train, cv=5, scoring='neg_mean_squared_error')\n",
        "cv_rmse_gb = (-cv_scores_gb)**0.5\n",
        "\n",
        "print(\"Cross-Validation RMSE scores for Gradient Boosting Regressor:\", cv_rmse_gb)\n",
        "print(\"Mean CV RMSE for Gradient Boosting Regressor:\", cv_rmse_gb.mean())"
      ],
      "metadata": {
        "colab": {
          "base_uri": "https://localhost:8080/"
        },
        "id": "HDdV1Er-2ceD",
        "outputId": "c264ba0f-c0bc-4e70-86b3-1cc9bea33530"
      },
      "execution_count": 591,
      "outputs": [
        {
          "output_type": "stream",
          "name": "stdout",
          "text": [
            "Cross-Validation RMSE scores for Decision Tree Regressor: [16796.9475412  15686.35545122 14168.88258353 14526.0908028\n",
            " 14728.09313643]\n",
            "Mean CV RMSE for Decision Tree Regressor: 15181.273903036315\n",
            "Decision Tree Regressor Mean Squared Error: 253441486.65462786\n",
            "Decision Tree Regressor R-squared: -0.6324866826242477\n",
            "Cross-Validation RMSE scores for Gradient Boosting Regressor: [13416.42438997 13171.09320599 11844.061232   11750.18840236\n",
            " 12461.0344567 ]\n",
            "Mean CV RMSE for Gradient Boosting Regressor: 12528.560337403705\n"
          ]
        }
      ]
    },
    {
      "cell_type": "markdown",
      "metadata": {
        "id": "6LO86REc2pbA"
      },
      "source": [
        "### Linear Regression"
      ]
    },
    {
      "cell_type": "code",
      "source": [
        "import pandas as pd\n",
        "from sklearn.model_selection import train_test_split\n",
        "from sklearn.linear_model import LinearRegression\n",
        "from sklearn.metrics import mean_squared_error, r2_score\n",
        "\n",
        "# Create a Linear Regression model\n",
        "linear_reg_model = LinearRegression()\n",
        "\n",
        "# Train the model\n",
        "linear_reg_model.fit(X_train, y_train)\n",
        "\n",
        "# Predict on the test set\n",
        "y_pred = linear_reg_model.predict(X_test)\n",
        "\n",
        "# Evaluate the model using Mean Squared Error and R-squared\n",
        "mse = mean_squared_error(y_test, y_pred)\n",
        "r2 = r2_score(y_test, y_pred)\n",
        "\n",
        "print(\"Mean Squared Error:\", mse)\n",
        "print(\"R-squared:\", r2)"
      ],
      "metadata": {
        "colab": {
          "base_uri": "https://localhost:8080/"
        },
        "id": "kawHvB241HZM",
        "outputId": "44943680-0526-40b0-dcd2-850338cd1b63"
      },
      "execution_count": 592,
      "outputs": [
        {
          "output_type": "stream",
          "name": "stdout",
          "text": [
            "Mean Squared Error: 149085057.03839505\n",
            "R-squared: 0.03970193117941878\n"
          ]
        }
      ]
    },
    {
      "cell_type": "code",
      "source": [
        "import pandas as pd\n",
        "from sklearn.model_selection import train_test_split, cross_val_score\n",
        "from sklearn.linear_model import LinearRegression\n",
        "from sklearn.metrics import mean_squared_error, r2_score\n",
        "\n",
        "# Perform cross-validation for Linear Regression\n",
        "cv_scores_lr = cross_val_score(linear_reg_model, X_train, y_train, cv=5, scoring='neg_mean_squared_error')\n",
        "cv_rmse_lr = (-cv_scores_lr)**0.5\n",
        "\n",
        "print(\"Cross-Validation RMSE scores for Linear Regression:\", cv_rmse_lr)\n",
        "print(\"Mean CV RMSE for Linear Regression:\", cv_rmse_lr.mean())\n",
        "\n",
        "# Train the Linear Regression model\n",
        "linear_reg_model.fit(X_train, y_train)\n",
        "\n",
        "# Predict on the test set\n",
        "y_pred_lr = linear_reg_model.predict(X_test)\n",
        "\n",
        "# Evaluate the Linear Regression model using Mean Squared Error and R-squared\n",
        "mse_lr = mean_squared_error(y_test, y_pred_lr)\n",
        "r2_lr = r2_score(y_test, y_pred_lr)\n",
        "\n",
        "print(\"Linear Regression Mean Squared Error:\", mse_lr)\n",
        "print(\"Linear Regression R-squared:\", r2_lr)\n"
      ],
      "metadata": {
        "colab": {
          "base_uri": "https://localhost:8080/"
        },
        "id": "m2MjDVcn20p4",
        "outputId": "7795622f-b041-4ddc-d34f-394b38fd0b4b"
      },
      "execution_count": 593,
      "outputs": [
        {
          "output_type": "stream",
          "name": "stdout",
          "text": [
            "Cross-Validation RMSE scores for Linear Regression: [11654.24105352 12421.78159765 11357.22976307 11551.56920973\n",
            " 11982.93376558]\n",
            "Mean CV RMSE for Linear Regression: 11793.551077908991\n",
            "Linear Regression Mean Squared Error: 149085057.03839505\n",
            "Linear Regression R-squared: 0.03970193117941878\n"
          ]
        }
      ]
    },
    {
      "cell_type": "code",
      "source": [
        "import pandas as pd\n",
        "from sklearn.model_selection import train_test_split, GridSearchCV\n",
        "from sklearn.linear_model import Ridge, Lasso\n",
        "from sklearn.metrics import mean_squared_error\n",
        "\n",
        "# Define parameter grid for Ridge and Lasso\n",
        "param_grid_ridge = {'alpha': [0.1, 1.0, 10.0]}\n",
        "param_grid_lasso = {'alpha': [0.1, 1.0, 10.0]}\n",
        "\n",
        "# Create Ridge and Lasso models\n",
        "ridge_regressor = Ridge()\n",
        "lasso_regressor = Lasso()\n",
        "\n",
        "# Initialize GridSearchCV for Ridge and Lasso\n",
        "grid_search_ridge = GridSearchCV(ridge_regressor, param_grid_ridge, cv=5, scoring='neg_mean_squared_error')\n",
        "grid_search_lasso = GridSearchCV(lasso_regressor, param_grid_lasso, cv=5, scoring='neg_mean_squared_error')\n",
        "\n",
        "# Fit the GridSearchCV for Ridge and Lasso\n",
        "grid_search_ridge.fit(X_train, y_train)\n",
        "grid_search_lasso.fit(X_train, y_train)\n",
        "\n",
        "# Get the best parameters and models for Ridge and Lasso\n",
        "best_params_ridge = grid_search_ridge.best_params_\n",
        "best_params_lasso = grid_search_lasso.best_params_\n",
        "best_ridge_model = grid_search_ridge.best_estimator_\n",
        "best_lasso_model = grid_search_lasso.best_estimator_\n",
        "\n",
        "# Evaluate the best Ridge model\n",
        "y_pred_best_ridge = best_ridge_model.predict(X_test)\n",
        "best_mse_ridge = mean_squared_error(y_test, y_pred_best_ridge)\n",
        "\n",
        "# Evaluate the best Lasso model\n",
        "y_pred_best_lasso = best_lasso_model.predict(X_test)\n",
        "best_mse_lasso = mean_squared_error(y_test, y_pred_best_lasso)\n",
        "\n",
        "print(\"Best Ridge Parameters:\", best_params_ridge)\n",
        "print(\"Best Ridge Model MSE:\", best_mse_ridge)\n",
        "\n",
        "print(\"Best Lasso Parameters:\", best_params_lasso)\n",
        "print(\"Best Lasso Model MSE:\", best_mse_lasso)\n"
      ],
      "metadata": {
        "colab": {
          "base_uri": "https://localhost:8080/"
        },
        "id": "OY44B8AZEe4T",
        "outputId": "42e4b3f7-1d78-4b5a-dfbd-b687e5094c63"
      },
      "execution_count": 595,
      "outputs": [
        {
          "output_type": "stream",
          "name": "stdout",
          "text": [
            "Best Ridge Parameters: {'alpha': 10.0}\n",
            "Best Ridge Model MSE: 149085099.00473535\n",
            "Best Lasso Parameters: {'alpha': 10.0}\n",
            "Best Lasso Model MSE: 149085173.38900563\n"
          ]
        }
      ]
    },
    {
      "cell_type": "markdown",
      "metadata": {
        "id": "l7MtiGNQ2pbC"
      },
      "source": [
        "### Support Vector Regression"
      ]
    },
    {
      "cell_type": "code",
      "source": [
        "import pandas as pd\n",
        "from sklearn.model_selection import train_test_split\n",
        "from sklearn.svm import SVR\n",
        "from sklearn.metrics import mean_squared_error, r2_score\n",
        "\n",
        "# Create a Support Vector Regression model\n",
        "svr_model = SVR()\n",
        "\n",
        "# Train the model\n",
        "svr_model.fit(X_train, y_train)\n",
        "\n",
        "# Predict on the test set\n",
        "y_pred = svr_model.predict(X_test)\n",
        "\n",
        "# Evaluate the model using Mean Squared Error and R-squared\n",
        "mse = mean_squared_error(y_test, y_pred)\n",
        "r2 = r2_score(y_test, y_pred)\n",
        "\n",
        "print(\"Mean Squared Error:\", mse)\n",
        "print(\"R-squared:\", r2)"
      ],
      "metadata": {
        "id": "nxHjEsVY1a2J"
      },
      "execution_count": null,
      "outputs": []
    },
    {
      "cell_type": "code",
      "source": [
        "import pandas as pd\n",
        "from sklearn.model_selection import train_test_split, cross_val_score\n",
        "from sklearn.svm import SVR\n",
        "from sklearn.metrics import mean_squared_error, r2_score\n",
        "\n",
        "# Perform cross-validation for Support Vector Regression\n",
        "cv_scores_svr = cross_val_score(svr_model, X_train, y_train, cv=5, scoring='neg_mean_squared_error')\n",
        "cv_rmse_svr = (-cv_scores_svr)**0.5\n",
        "\n",
        "print(\"Cross-Validation RMSE scores for Support Vector Regression:\", cv_rmse_svr)\n",
        "print(\"Mean CV RMSE for Support Vector Regression:\", cv_rmse_svr.mean())\n",
        "\n",
        "# Train the Support Vector Regression model\n",
        "svr_model.fit(X_train, y_train)\n",
        "\n",
        "# Predict on the test set\n",
        "y_pred_svr = svr_model.predict(X_test)\n",
        "\n",
        "# Evaluate the Support Vector Regression model using Mean Squared Error and R-squared\n",
        "mse_svr = mean_squared_error(y_test, y_pred_svr)\n",
        "r2_svr = r2_score(y_test, y_pred_svr)\n",
        "\n",
        "print(\"Support Vector Regression Mean Squared Error:\", mse_svr)\n",
        "print(\"Support Vector Regression R-squared:\", r2_svr)"
      ],
      "metadata": {
        "id": "FBYTOumy3Oz0"
      },
      "execution_count": null,
      "outputs": []
    },
    {
      "cell_type": "code",
      "source": [
        "import pandas as pd\n",
        "from sklearn.model_selection import train_test_split, GridSearchCV\n",
        "from sklearn.svm import SVR\n",
        "from sklearn.metrics import mean_squared_error\n",
        "\n",
        "# Define parameter grid for SVR\n",
        "param_grid = {\n",
        "    'kernel': ['linear', 'rbf'],\n",
        "    'C': [0.1, 1.0, 10.0],\n",
        "    'gamma': ['scale', 'auto']\n",
        "}\n",
        "\n",
        "# Create SVR model\n",
        "svr_regressor = SVR()\n",
        "\n",
        "# Initialize GridSearchCV for SVR\n",
        "grid_search = GridSearchCV(svr_regressor, param_grid, cv=5, scoring='neg_mean_squared_error')\n",
        "\n",
        "# Fit the GridSearchCV\n",
        "grid_search.fit(X_train, y_train)\n",
        "\n",
        "# Get the best parameters and model\n",
        "best_params = grid_search.best_params_\n",
        "best_model = grid_search.best_estimator_\n",
        "\n",
        "# Evaluate the best model\n",
        "y_pred_best = best_model.predict(X_test)\n",
        "best_mse = mean_squared_error(y_test, y_pred_best)\n",
        "\n",
        "print(\"Best Parameters:\", best_params)\n",
        "print(\"Best Model MSE:\", best_mse)\n"
      ],
      "metadata": {
        "colab": {
          "base_uri": "https://localhost:8080/"
        },
        "id": "I8Mf6QipE9Nk",
        "outputId": "581df67a-f353-4a4f-f4a8-2cdc199bd70a"
      },
      "execution_count": 596,
      "outputs": [
        {
          "output_type": "stream",
          "name": "stdout",
          "text": [
            "Best Parameters: {'C': 10.0, 'gamma': 'scale', 'kernel': 'linear'}\n",
            "Best Model MSE: 163380966.5017033\n"
          ]
        }
      ]
    },
    {
      "cell_type": "markdown",
      "metadata": {
        "id": "dYa1qlu42pbD"
      },
      "source": [
        "### Lasso Regression"
      ]
    },
    {
      "cell_type": "code",
      "source": [
        "import pandas as pd\n",
        "from sklearn.model_selection import train_test_split\n",
        "from sklearn.linear_model import Lasso\n",
        "from sklearn.metrics import mean_squared_error, r2_score\n",
        "\n",
        "# Create a Lasso Regression model\n",
        "lasso_model = Lasso(alpha=1.0)  # You can adjust the alpha value\n",
        "\n",
        "# Train the model\n",
        "lasso_model.fit(X_train, y_train)\n",
        "\n",
        "# Predict on the test set\n",
        "y_pred = lasso_model.predict(X_test)\n",
        "\n",
        "# Evaluate the model using Mean Squared Error and R-squared\n",
        "mse = mean_squared_error(y_test, y_pred)\n",
        "r2 = r2_score(y_test, y_pred)\n",
        "\n",
        "print(\"Mean Squared Error:\", mse)\n",
        "print(\"R-squared:\", r2)"
      ],
      "metadata": {
        "id": "nCrdWh0L1jmc"
      },
      "execution_count": null,
      "outputs": []
    },
    {
      "cell_type": "code",
      "source": [
        "import pandas as pd\n",
        "from sklearn.model_selection import train_test_split, cross_val_score\n",
        "from sklearn.linear_model import Lasso\n",
        "from sklearn.metrics import mean_squared_error, r2_score\n",
        "\n",
        "# Perform cross-validation for Lasso Regression\n",
        "cv_scores_lasso = cross_val_score(lasso_model, X_train, y_train, cv=5, scoring='neg_mean_squared_error')\n",
        "cv_rmse_lasso = (-cv_scores_lasso)**0.5\n",
        "\n",
        "print(\"Cross-Validation RMSE scores for Lasso Regression:\", cv_rmse_lasso)\n",
        "print(\"Mean CV RMSE for Lasso Regression:\", cv_rmse_lasso.mean())\n",
        "\n",
        "# Train the Lasso Regression model\n",
        "lasso_model.fit(X_train, y_train)\n",
        "\n",
        "# Predict on the test set\n",
        "y_pred_lasso = lasso_model.predict(X_test)\n",
        "\n",
        "# Evaluate the Lasso Regression model using Mean Squared Error and R-squared\n",
        "mse_lasso = mean_squared_error(y_test, y_pred_lasso)\n",
        "r2_lasso = r2_score(y_test, y_pred_lasso)\n",
        "\n",
        "print(\"Lasso Regression Mean Squared Error:\", mse_lasso)\n",
        "print(\"Lasso Regression R-squared:\", r2_lasso)"
      ],
      "metadata": {
        "id": "eNPRtpKr3Imm"
      },
      "execution_count": null,
      "outputs": []
    },
    {
      "cell_type": "markdown",
      "metadata": {
        "id": "UMTFAMvp2pbK"
      },
      "source": [
        "### Random Forest"
      ]
    },
    {
      "cell_type": "code",
      "source": [
        "import pandas as pd\n",
        "from sklearn.model_selection import train_test_split, cross_val_score\n",
        "from sklearn.ensemble import RandomForestRegressor\n",
        "from sklearn.metrics import mean_squared_error, r2_score\n",
        "\n",
        "# Create a Random Forest Regressor\n",
        "rf_regressor = RandomForestRegressor(n_estimators=100, random_state=42)  # You can adjust n_estimators and other parameters\n",
        "\n",
        "# Perform cross-validation for Random Forest Regressor\n",
        "cv_scores_rf = cross_val_score(rf_regressor, X_train, y_train, cv=5, scoring='neg_mean_squared_error')\n",
        "cv_rmse_rf = (-cv_scores_rf)**0.5\n",
        "\n",
        "print(\"Cross-Validation RMSE scores for Random Forest Regressor:\", cv_rmse_rf)\n",
        "print(\"Mean CV RMSE for Random Forest Regressor:\", cv_rmse_rf.mean())\n",
        "\n",
        "# Train the Random Forest Regressor model\n",
        "rf_regressor.fit(X_train, y_train)\n",
        "\n",
        "# Predict on the test set\n",
        "y_pred_rf = rf_regressor.predict(X_test)\n",
        "\n",
        "# Evaluate the Random Forest Regressor model using Mean Squared Error and R-squared\n",
        "mse_rf = mean_squared_error(y_test, y_pred_rf)\n",
        "r2_rf = r2_score(y_test, y_pred_rf)\n",
        "\n",
        "print(\"Random Forest Regressor Mean Squared Error:\", mse_rf)\n",
        "print(\"Random Forest Regressor R-squared:\", r2_rf)"
      ],
      "metadata": {
        "id": "zf6syqi02GLI"
      },
      "execution_count": null,
      "outputs": []
    },
    {
      "cell_type": "markdown",
      "source": [
        "#Gradient Boosting"
      ],
      "metadata": {
        "id": "WNBS0E7vCCOY"
      }
    },
    {
      "cell_type": "code",
      "source": [
        "# Train the Gradient Boosting Regressor model\n",
        "gb_regressor.fit(X_train, y_train)\n",
        "\n",
        "# Predict on the test set\n",
        "y_pred_gb = gb_regressor.predict(X_test)\n",
        "\n",
        "# Evaluate the Gradient Boosting Regressor model using Mean Squared Error and R-squared\n",
        "mse_gb = mean_squared_error(y_test, y_pred_gb)\n",
        "r2_gb = r2_score(y_test, y_pred_gb)\n",
        "\n",
        "print(\"Gradient Boosting Regressor Mean Squared Error:\", mse_gb)\n",
        "print(\"Gradient Boosting Regressor R-squared:\", r2_gb)"
      ],
      "metadata": {
        "id": "tZlYf6jJCD7h"
      },
      "execution_count": null,
      "outputs": []
    },
    {
      "cell_type": "markdown",
      "source": [
        "#Overfitting and Underfitting Check"
      ],
      "metadata": {
        "id": "npPf3MXyC2sj"
      }
    },
    {
      "cell_type": "markdown",
      "source": [
        "##Linear Regression"
      ],
      "metadata": {
        "id": "Cop3vkuiC9pQ"
      }
    },
    {
      "cell_type": "code",
      "source": [
        "import pandas as pd\n",
        "import numpy as np\n",
        "from sklearn.model_selection import train_test_split\n",
        "from sklearn.metrics import mean_squared_error\n",
        "import matplotlib.pyplot as plt\n",
        "\n",
        "# Create Linear Regression models with different complexities\n",
        "model_underfit = LinearRegression()\n",
        "model_overfit = LinearRegression()\n",
        "model_fitting = LinearRegression()\n",
        "\n",
        "# Underfitting Model\n",
        "model_underfit.fit(X_train, y_train)\n",
        "\n",
        "# Overfitting Model\n",
        "model_overfit.fit(X_train, y_train)\n",
        "X_poly = np.column_stack((X_train, X_train**2))\n",
        "model_overfit.fit(X_poly, y_train)\n",
        "\n",
        "# Fitting Model\n",
        "model_fitting.fit(X_train, y_train)\n",
        "\n",
        "# Predict on test set\n",
        "y_pred_underfit = model_underfit.predict(X_test)\n",
        "y_pred_overfit = model_overfit.predict(np.column_stack((X_test, X_test**2)))\n",
        "y_pred_fitting = model_fitting.predict(X_test)\n",
        "\n",
        "# Calculate Mean Squared Error for each model\n",
        "mse_underfit = mean_squared_error(y_test, y_pred_underfit)\n",
        "mse_overfit = mean_squared_error(y_test, y_pred_overfit)\n",
        "mse_fitting = mean_squared_error(y_test, y_pred_fitting)\n",
        "\n",
        "print(\"MSE Underfit:\", mse_underfit)\n",
        "print(\"MSE Overfit:\", mse_overfit)\n",
        "print(\"MSE Fitting:\", mse_fitting)\n",
        "\n",
        "# Plot the predictions and true values\n",
        "plt.scatter(X_test, y_test, label='True Values')\n",
        "plt.scatter(X_test, y_pred_underfit, label='Underfit Predictions')\n",
        "plt.scatter(X_test, y_pred_fitting, label='Fitting Predictions')\n",
        "plt.scatter(X_test, y_pred_overfit, label='Overfit Predictions')\n",
        "plt.legend()\n",
        "plt.xlabel('X')\n",
        "plt.ylabel('y')\n",
        "plt.title('Overfitting and Underfitting Example')\n",
        "plt.show()"
      ],
      "metadata": {
        "id": "OFMKwI78Cocl"
      },
      "execution_count": null,
      "outputs": []
    },
    {
      "cell_type": "markdown",
      "source": [
        "##Random Forest"
      ],
      "metadata": {
        "id": "0KV62LUtDBPX"
      }
    },
    {
      "cell_type": "code",
      "source": [
        "import pandas as pd\n",
        "import numpy as np\n",
        "from sklearn.model_selection import train_test_split\n",
        "from sklearn.ensemble import RandomForestRegressor\n",
        "from sklearn.metrics import mean_squared_error\n",
        "import matplotlib.pyplot as plt\n",
        "\n",
        "# Create Random Forest Regressors with different complexities\n",
        "model_underfit = RandomForestRegressor(n_estimators=10, random_state=42)\n",
        "model_fitting = RandomForestRegressor(n_estimators=100, random_state=42)\n",
        "model_overfit = RandomForestRegressor(n_estimators=200, random_state=42)\n",
        "\n",
        "# Train the models\n",
        "model_underfit.fit(X_train, y_train)\n",
        "model_fitting.fit(X_train, y_train)\n",
        "model_overfit.fit(X_train, y_train)\n",
        "\n",
        "# Predict on test set\n",
        "y_pred_underfit = model_underfit.predict(X_test)\n",
        "y_pred_fitting = model_fitting.predict(X_test)\n",
        "y_pred_overfit = model_overfit.predict(X_test)\n",
        "\n",
        "# Calculate Mean Squared Error for each model\n",
        "mse_underfit = mean_squared_error(y_test, y_pred_underfit)\n",
        "mse_fitting = mean_squared_error(y_test, y_pred_fitting)\n",
        "mse_overfit = mean_squared_error(y_test, y_pred_overfit)\n",
        "\n",
        "print(\"MSE Underfit:\", mse_underfit)\n",
        "print(\"MSE Fitting:\", mse_fitting)\n",
        "print(\"MSE Overfit:\", mse_overfit)\n",
        "\n",
        "# Plot the predictions and true values\n",
        "plt.scatter(X_test, y_test, label='True Values')\n",
        "plt.scatter(X_test, y_pred_underfit, label='Underfit Predictions')\n",
        "plt.scatter(X_test, y_pred_fitting, label='Fitting Predictions')\n",
        "plt.scatter(X_test, y_pred_overfit, label='Overfit Predictions')\n",
        "plt.legend()\n",
        "plt.xlabel('X')\n",
        "plt.ylabel('y')\n",
        "plt.title('Random Forest Overfitting and Underfitting Example')\n",
        "plt.show()\n"
      ],
      "metadata": {
        "id": "-mElO6bmDDjR"
      },
      "execution_count": null,
      "outputs": []
    },
    {
      "cell_type": "markdown",
      "source": [
        "##SVR"
      ],
      "metadata": {
        "id": "L-s-BJenDPmn"
      }
    },
    {
      "cell_type": "code",
      "source": [
        "import pandas as pd\n",
        "import numpy as np\n",
        "from sklearn.model_selection import train_test_split\n",
        "from sklearn.svm import SVR\n",
        "from sklearn.metrics import mean_squared_error\n",
        "import matplotlib.pyplot as plt\n",
        "\n",
        "# Create SVR models with different complexities\n",
        "model_underfit = SVR(kernel='linear', C=1)\n",
        "model_fitting = SVR(kernel='linear', C=100)\n",
        "model_overfit = SVR(kernel='rbf', C=100, gamma=0.1)\n",
        "\n",
        "# Train the models\n",
        "model_underfit.fit(X_train, y_train)\n",
        "model_fitting.fit(X_train, y_train)\n",
        "model_overfit.fit(X_train, y_train)\n",
        "\n",
        "# Predict on test set\n",
        "y_pred_underfit = model_underfit.predict(X_test)\n",
        "y_pred_fitting = model_fitting.predict(X_test)\n",
        "y_pred_overfit = model_overfit.predict(X_test)\n",
        "\n",
        "# Calculate Mean Squared Error for each model\n",
        "mse_underfit = mean_squared_error(y_test, y_pred_underfit)\n",
        "mse_fitting = mean_squared_error(y_test, y_pred_fitting)\n",
        "mse_overfit = mean_squared_error(y_test, y_pred_overfit)\n",
        "\n",
        "print(\"MSE Underfit:\", mse_underfit)\n",
        "print(\"MSE Fitting:\", mse_fitting)\n",
        "print(\"MSE Overfit:\", mse_overfit)\n",
        "\n",
        "# Plot the predictions and true values\n",
        "plt.scatter(X_test, y_test, label='True Values')\n",
        "plt.scatter(X_test, y_pred_underfit, label='Underfit Predictions')\n",
        "plt.scatter(X_test, y_pred_fitting, label='Fitting Predictions')\n",
        "plt.scatter(X_test, y_pred_overfit, label='Overfit Predictions')\n",
        "plt.legend()\n",
        "plt.xlabel('X')\n",
        "plt.ylabel('y')\n",
        "plt.title('SVR Overfitting and Underfitting Example')\n",
        "plt.show()"
      ],
      "metadata": {
        "id": "eAKtG0ddDSQU"
      },
      "execution_count": null,
      "outputs": []
    },
    {
      "cell_type": "markdown",
      "source": [
        "##Decision Tree Classifier"
      ],
      "metadata": {
        "id": "Bw7S_UK8DYgx"
      }
    },
    {
      "cell_type": "code",
      "source": [
        "import pandas as pd\n",
        "import numpy as np\n",
        "from sklearn.model_selection import train_test_split\n",
        "from sklearn.tree import DecisionTreeRegressor\n",
        "from sklearn.metrics import mean_squared_error\n",
        "import matplotlib.pyplot as plt\n",
        "\n",
        "# Create Decision Tree Regressors with different depths\n",
        "model_underfit = DecisionTreeRegressor(max_depth=1, random_state=42)\n",
        "model_fitting = DecisionTreeRegressor(max_depth=5, random_state=42)\n",
        "model_overfit = DecisionTreeRegressor(max_depth=None, random_state=42)\n",
        "\n",
        "# Train the models\n",
        "model_underfit.fit(X_train, y_train)\n",
        "model_fitting.fit(X_train, y_train)\n",
        "model_overfit.fit(X_train, y_train)\n",
        "\n",
        "# Predict on test set\n",
        "y_pred_underfit = model_underfit.predict(X_test)\n",
        "y_pred_fitting = model_fitting.predict(X_test)\n",
        "y_pred_overfit = model_overfit.predict(X_test)\n",
        "\n",
        "# Calculate Mean Squared Error for each model\n",
        "mse_underfit = mean_squared_error(y_test, y_pred_underfit)\n",
        "mse_fitting = mean_squared_error(y_test, y_pred_fitting)\n",
        "mse_overfit = mean_squared_error(y_test, y_pred_overfit)\n",
        "\n",
        "print(\"MSE Underfit:\", mse_underfit)\n",
        "print(\"MSE Fitting:\", mse_fitting)\n",
        "print(\"MSE Overfit:\", mse_overfit)\n",
        "\n",
        "# Plot the predictions and true values\n",
        "plt.scatter(X_test, y_test, label='True Values')\n",
        "plt.scatter(X_test, y_pred_underfit, label='Underfit Predictions')\n",
        "plt.scatter(X_test, y_pred_fitting, label='Fitting Predictions')\n",
        "plt.scatter(X_test, y_pred_overfit, label='Overfit Predictions')\n",
        "plt.legend()\n",
        "plt.xlabel('X')\n",
        "plt.ylabel('y')\n",
        "plt.title('Decision Tree Regressor Overfitting and Underfitting Example')\n",
        "plt.show()"
      ],
      "metadata": {
        "id": "lDjQk0HVDc3Y"
      },
      "execution_count": null,
      "outputs": []
    },
    {
      "cell_type": "markdown",
      "source": [
        "##Lasso"
      ],
      "metadata": {
        "id": "TpVt0MudD3Je"
      }
    },
    {
      "cell_type": "code",
      "source": [
        "import pandas as pd\n",
        "from sklearn.model_selection import train_test_split\n",
        "from sklearn.linear_model import LinearRegression, Lasso\n",
        "from sklearn.metrics import mean_squared_error\n",
        "import matplotlib.pyplot as plt\n",
        "\n",
        "# Create Linear Regression model\n",
        "linear_model = LinearRegression()\n",
        "linear_model.fit(X_train, y_train)\n",
        "y_pred_linear = linear_model.predict(X_test)\n",
        "\n",
        "# Create Lasso Regression model\n",
        "lasso_model = Lasso(alpha=0.01)  # You can adjust the regularization strength (alpha)\n",
        "lasso_model.fit(X_train, y_train)\n",
        "y_pred_lasso = lasso_model.predict(X_test)\n",
        "\n",
        "# Calculate Mean Squared Error for each model\n",
        "mse_linear = mean_squared_error(y_test, y_pred_linear)\n",
        "mse_lasso = mean_squared_error(y_test, y_pred_lasso)\n",
        "\n",
        "print(\"Linear Regression Mean Squared Error:\", mse_linear)\n",
        "print(\"Lasso Regression Mean Squared Error:\", mse_lasso)\n",
        "\n",
        "# Plot the true values and predictions\n",
        "plt.scatter(y_test, y_pred_linear, label='Linear Regression')\n",
        "plt.scatter(y_test, y_pred_lasso, label='Lasso Regression')\n",
        "plt.plot([min(y_test), max(y_test)], [min(y_test), max(y_test)], linestyle='--', color='gray')\n",
        "plt.xlabel('True Values')\n",
        "plt.ylabel('Predictions')\n",
        "plt.title('Linear vs Lasso Regression')\n",
        "plt.legend()\n",
        "plt.show()\n"
      ],
      "metadata": {
        "id": "wtRkrVCCD4Sf"
      },
      "execution_count": null,
      "outputs": []
    },
    {
      "cell_type": "markdown",
      "metadata": {
        "id": "LqbKgHj42pbK"
      },
      "source": [
        "## Results"
      ]
    },
    {
      "cell_type": "code",
      "execution_count": null,
      "metadata": {
        "id": "5qmUnLoT2pbL"
      },
      "outputs": [],
      "source": [
        "# comparing all metrics for this stage of analysis\n",
        "fig, ax = plt.subplots(2, 3, sharex=True, sharey=False, figsize=(30, 10), dpi=300)\n",
        "x_labels = results['ml_algorithm']\n",
        "indices = np.arange(len(x_labels))\n",
        "width = 0.3\n",
        "\n",
        "#row=0, col=0\n",
        "ax[0,0].bar(indices,results['mae'],color=\"lightcoral\",alpha=1,label=\"MAE\")\n",
        "ax[0,0].grid(True,alpha=0.5)\n",
        "# ax[0,0].set_ylim(0,1)\n",
        "ax[0,0].set_xlabel(\"algorithm\")\n",
        "ax[0,0].set_ylabel(\"MAE\")\n",
        "ax[0,0].set_title(\"MAE Comparison\")\n",
        "ax[0,0].legend(loc='lower right')\n",
        "ax[0,0].set_xticks(indices, x_labels, rotation=45)\n",
        "\n",
        "#row=0, col=1\n",
        "ax[0,1].bar(indices,results['mse'],color=\"gold\",alpha=1,label=\"MSE\")\n",
        "ax[0,1].grid(True,alpha=0.5)\n",
        "# ax[0,1].set_ylim(0,1)\n",
        "ax[0,1].set_xlabel(\"algorithm\")\n",
        "ax[0,1].set_ylabel(\"MSE\")\n",
        "ax[0,1].set_title(\"MSE Comparison\")\n",
        "ax[0,1].legend(loc='lower right')\n",
        "ax[0,1].set_xticks(indices, x_labels, rotation=45)\n",
        "\n",
        "#row=0, col=2\n",
        "ax[0,2].bar(indices,results['rmse'],color=\"lightgreen\",alpha=1,label=\"RMSE\")\n",
        "ax[0,2].grid(True,alpha=0.5)\n",
        "# ax[0,2].set_ylim(0,1)\n",
        "ax[0,2].set_xlabel(\"algorithm\")\n",
        "ax[0,2].set_ylabel(\"RMSE\")\n",
        "ax[0,2].set_title(\"RMSE Comparison\")\n",
        "ax[0,2].legend(loc='lower right')\n",
        "ax[0,2].set_xticks(indices, x_labels, rotation=45)\n",
        "\n",
        "#row=1, col=0\n",
        "ax[1,0].bar(indices,results['r2'],color=\"lightskyblue\",alpha=1,label=\"R2\")\n",
        "ax[1,0].grid(True,alpha=0.5)\n",
        "# ax[1,0].set_ylim(0,1)\n",
        "ax[1,0].set_xlabel(\"algorithm\")\n",
        "ax[1,0].set_ylabel(\"R2\")\n",
        "ax[1,0].set_title(\"R2 Comparison\")\n",
        "ax[1,0].legend(loc='lower right')\n",
        "ax[1,0].set_xticks(indices, x_labels, rotation=45)\n",
        "\n",
        "#row=1, col=1\n",
        "ax[1,1].bar(indices,results['adjusted_r2'],color=\"mediumpurple\",alpha=1,label=\"Adjusted R2\")\n",
        "ax[1,1].grid(True,alpha=0.5)\n",
        "# ax[1,1].set_ylim(0,1)\n",
        "ax[1,1].set_xlabel(\"algorithm\")\n",
        "ax[1,1].set_ylabel(\"Adjusted R2\")\n",
        "ax[1,1].set_title(\"Adjusted R2 Comparison\")\n",
        "ax[1,1].legend(loc='lower right')\n",
        "ax[1,1].set_xticks(indices, x_labels, rotation=45)\n",
        "\n",
        "#row=1, col=2\n",
        "ax[1,2].bar(indices,results['cross_val'],color=\"darkgrey\",alpha=1,label=\"Cross-Validation Score\")\n",
        "ax[1,2].grid(True,alpha=0.5)\n",
        "# ax[1,2].set_ylim(0,1)\n",
        "ax[1,2].set_xlabel(\"algorithm\")\n",
        "ax[1,2].set_ylabel(\"Mean Cross-Validation Score\")\n",
        "ax[1,2].set_title(\"Mean Cross-Validation Score Comparison\")\n",
        "ax[1,2].legend(loc='lower right')\n",
        "ax[1,2].set_xticks(indices, x_labels, rotation=45)"
      ]
    },
    {
      "cell_type": "markdown",
      "metadata": {
        "id": "Zkcif5fSsEOt"
      },
      "source": [
        "## Discussion and Conclusion\n",
        "\n",
        "MAE (Mean Absolute Error) measures mean absolute difference between actual and predicted values. The lower the MAE value, the more accurate the model is. In our case, we see that the Support Vector Regression model has the lowest MAE, which taking into account our target variable, Caffeine (mg), indicates that on average, the model predicts the value of caffeine amount differs from the actual caffeiene amount by 34 mg. The next well-performing models are Random Forest and Lasso Regression, with MAE values of 44 and 59 mg respectively. The worst-performing models are Linear Regression and Decision Tree, with MAE values of 85 and 86 mg of caffeine, which is too big a difference.\n",
        "\n",
        "MSE (Mean Squared Error) measures mean squared difference between actual and prediced values, and penalizes the error more and to see how the outliers are affecting the predictions. The lower the MSE value, the more accurate the model is. The RMSE is just the squared root of the MSE value. In our case, we find that the Support Vector Regression model again has the lowest RMSE of 52 mg, followed by Random Forest and Lasso Regression, with RMSE values of 56 and 72 mg respectively. Again, we find the worst-performing models are Linear Regression and Decision Tree, with RMSE values of 90 and 104 mg respectively.\n",
        "\n",
        "R2 measures how the independent variable(s) (X) affect the dependent/target variable, Y. R2 value is always betweeen 0 and 1, where 0 indicates the model does not explain any variablity in the target variable, and 1 indicates it explains full variability in Y. We find that the Decision Tree model has a negative R2 value, which is not possible and indicates either there is something wrong with the model, or it is not a good fit for our problem. We will disregard it. The other 4 models have R2 values less than 0.5, indicating the model explains some variability in the target variable to a lesser extent.\n",
        "\n",
        "Adjusted R2 takes into account the number of features in the model and its degrees of freedom. Its value only increases if the new term improves the accuracy. We see that the adjusted R2 value are proportionate to the R2 values and follow that same pattern, which indicates the model is not too complex.\n",
        "\n"
      ]
    }
  ],
  "metadata": {
    "colab": {
      "provenance": []
    },
    "kernelspec": {
      "display_name": "Python 3",
      "language": "python",
      "name": "python3"
    },
    "language_info": {
      "codemirror_mode": {
        "name": "ipython",
        "version": 3
      },
      "file_extension": ".py",
      "mimetype": "text/x-python",
      "name": "python",
      "nbconvert_exporter": "python",
      "pygments_lexer": "ipython3",
      "version": "3.11.4"
    },
    "orig_nbformat": 4
  },
  "nbformat": 4,
  "nbformat_minor": 0
}